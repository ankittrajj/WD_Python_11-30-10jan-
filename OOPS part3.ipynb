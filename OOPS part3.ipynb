{
 "cells": [
  {
   "cell_type": "code",
   "execution_count": 7,
   "id": "67ee745a",
   "metadata": {},
   "outputs": [
    {
     "data": {
      "text/plain": [
       "'x'"
      ]
     },
     "execution_count": 7,
     "metadata": {},
     "output_type": "execute_result"
    }
   ],
   "source": [
    "pillar -----> inheritance\n",
    "class student:\n",
    "    def __init__(self,name,age):\n",
    "        self.name = name\n",
    "        self.age = age\n",
    "        \n",
    "class student1(student):\n",
    "    def __init__(self,name,age,marks):\n",
    "        self.name=name\n",
    "        self.age = age\n",
    "        self.marks=marks\n",
    "        \n",
    "s = student1('x',23,22)\n",
    "s.marks\n",
    "s.name       "
   ]
  },
  {
   "cell_type": "code",
   "execution_count": 38,
   "id": "9fd40c09",
   "metadata": {},
   "outputs": [
    {
     "name": "stdout",
     "output_type": "stream",
     "text": [
      "2\n"
     ]
    },
    {
     "data": {
      "text/plain": [
       "'r'"
      ]
     },
     "execution_count": 38,
     "metadata": {},
     "output_type": "execute_result"
    }
   ],
   "source": [
    "class papa:\n",
    "    def __init__(self,color,height,behav):\n",
    "        self.color=color\n",
    "        self.height = height\n",
    "        self.behav = behav\n",
    "\n",
    "class beta(papa):\n",
    "    def __init__(self,color,height,behav,age):\n",
    "        papa.__init__(self,color,height,behav)\n",
    "        self.age=age\n",
    "        \n",
    "b = beta('r',2,'gusse walla behaviour',22)\n",
    "# print(\"Color is ---->\",b.color,\"Height is ----->\",b.height)\n",
    "# b.behav\n",
    "# b.height\n",
    "print(b.height)\n",
    "b.age\n",
    "b.color\n",
    "# print(b.height)"
   ]
  },
  {
   "cell_type": "code",
   "execution_count": 39,
   "id": "98a69d40",
   "metadata": {},
   "outputs": [],
   "source": [
    "#wap to make a class of vechicle and define its attributes like \n",
    "# speed, color & engine and try to find out the total dist covered of\n",
    "# the particular vechile which having a speed of 80km/hr within 3hr.\n",
    "\n",
    "\n",
    "\n",
    "\n",
    "# wap and make a class of emp and try to inherit the common properties\n",
    "# from  the emp and try to find the salary of emp if the emp take more\n",
    "# than 12 holidays total salary will deducted by 5%."
   ]
  },
  {
   "cell_type": "code",
   "execution_count": 45,
   "id": "9398c2bf",
   "metadata": {},
   "outputs": [
    {
     "data": {
      "text/plain": [
       "240"
      ]
     },
     "execution_count": 45,
     "metadata": {},
     "output_type": "execute_result"
    }
   ],
   "source": [
    "class vehicle:\n",
    "    def __init__(self,speed,color,engine):\n",
    "        self.speed=speed\n",
    "        self.color=color\n",
    "        self.engine=engine\n",
    "        \n",
    "    def total_dis(self,time):\n",
    "        dis = time*self.speed\n",
    "        return dis\n",
    "    \n",
    "#     total_dis(3)\n",
    "        \n",
    "    \n",
    "        \n",
    "v = vehicle(80,'red','turbo')\n",
    "v.total_dis(3)\n",
    "    "
   ]
  },
  {
   "cell_type": "code",
   "execution_count": null,
   "id": "b37a44a4",
   "metadata": {},
   "outputs": [],
   "source": []
  }
 ],
 "metadata": {
  "kernelspec": {
   "display_name": "Python 3 (ipykernel)",
   "language": "python",
   "name": "python3"
  },
  "language_info": {
   "codemirror_mode": {
    "name": "ipython",
    "version": 3
   },
   "file_extension": ".py",
   "mimetype": "text/x-python",
   "name": "python",
   "nbconvert_exporter": "python",
   "pygments_lexer": "ipython3",
   "version": "3.9.7"
  }
 },
 "nbformat": 4,
 "nbformat_minor": 5
}
