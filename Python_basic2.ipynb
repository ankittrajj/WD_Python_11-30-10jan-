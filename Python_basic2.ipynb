{
 "cells": [
  {
   "cell_type": "code",
   "execution_count": 5,
   "id": "e1708856",
   "metadata": {},
   "outputs": [
    {
     "ename": "SyntaxError",
     "evalue": "invalid syntax (Temp/ipykernel_9304/3314397776.py, line 2)",
     "output_type": "error",
     "traceback": [
      "\u001b[1;36m  File \u001b[1;32m\"C:\\Users\\ddugky\\AppData\\Local\\Temp/ipykernel_9304/3314397776.py\"\u001b[1;36m, line \u001b[1;32m2\u001b[0m\n\u001b[1;33m    a=float(input(\"Enter the first num \",=))\u001b[0m\n\u001b[1;37m                                         ^\u001b[0m\n\u001b[1;31mSyntaxError\u001b[0m\u001b[1;31m:\u001b[0m invalid syntax\n"
     ]
    }
   ],
   "source": [
    "#wap to add float and integer.\n",
    "a=float(input(\"Enter the first num\"))\n",
    "b=int(input(\"Enter the second number\"))\n",
    "c = a+b\n",
    "print(c)"
   ]
  },
  {
   "cell_type": "code",
   "execution_count": 18,
   "id": "00b49a14",
   "metadata": {},
   "outputs": [
    {
     "name": "stdout",
     "output_type": "stream",
     "text": [
      "Enter your age:-18\n",
      "Adult\n"
     ]
    }
   ],
   "source": [
    "#condition statement/operation.\n",
    "#syntax\n",
    "# if condition:\n",
    "#     print('msg')\n",
    "# else:\n",
    "#     print('msg')\n",
    "\n",
    "\n",
    "age = int(input(\"Enter your age:-\"))\n",
    "if age>=18:\n",
    "    print(\"Adult\")\n",
    "else:\n",
    "    print(\"Child\")"
   ]
  },
  {
   "cell_type": "code",
   "execution_count": 14,
   "id": "790ce841",
   "metadata": {},
   "outputs": [
    {
     "name": "stdout",
     "output_type": "stream",
     "text": [
      "True\n"
     ]
    }
   ],
   "source": [
    "# 18>18-----> False\n",
    "a=18\n",
    "b=18\n",
    "c= a>=b\n",
    "print(c)"
   ]
  },
  {
   "cell_type": "code",
   "execution_count": 17,
   "id": "ab6681cf",
   "metadata": {},
   "outputs": [
    {
     "name": "stdout",
     "output_type": "stream",
     "text": [
      "True\n"
     ]
    }
   ],
   "source": [
    "#wap and find the max. of 3 numbers.\n",
    "#wap to find min. of 3 numbers.\n",
    "\n",
    "a=18\n",
    "b=18\n",
    "c = a==b\n",
    "print(c)"
   ]
  },
  {
   "cell_type": "code",
   "execution_count": 21,
   "id": "9b562750",
   "metadata": {},
   "outputs": [
    {
     "name": "stdout",
     "output_type": "stream",
     "text": [
      "Enter the first number23\n",
      "Enter the second number45\n",
      "Enter the third number12\n",
      "B\n"
     ]
    }
   ],
   "source": [
    "#max num.\n",
    "a=int(input(\"Enter the first number\"))\n",
    "b=int(input(\"Enter the second number\"))\n",
    "c=int(input(\"Enter the third number\"))\n",
    "if a>b and a>c:\n",
    "    print(\"A\")\n",
    "elif b>a and b>c:\n",
    "    print(\"B\")\n",
    "elif c>a and c>b:\n",
    "    print(\"C\")\n",
    "else:\n",
    "    print(\"invalid input\")"
   ]
  },
  {
   "cell_type": "code",
   "execution_count": 22,
   "id": "858be7ca",
   "metadata": {},
   "outputs": [
    {
     "name": "stdout",
     "output_type": "stream",
     "text": [
      "C\n"
     ]
    }
   ],
   "source": [
    "a=2\n",
    "b=3\n",
    "c=8\n",
    "if a>b and a>c:\n",
    "    print(\"A\")\n",
    "if b>a and b>c:\n",
    "    print(\"B\")\n",
    "else:\n",
    "    print(\"C\")\n"
   ]
  },
  {
   "cell_type": "code",
   "execution_count": 23,
   "id": "3a4d9c99",
   "metadata": {},
   "outputs": [
    {
     "name": "stdout",
     "output_type": "stream",
     "text": [
      "num 156\n",
      "num 278\n",
      "num 390\n",
      "c 90\n"
     ]
    }
   ],
   "source": [
    "a=int(input(\"num 1\"))\n",
    "b=int(input(\"num 2\"))\n",
    "c=int(input(\"num 3\"))\n",
    "if a>b:\n",
    "    print(\"a\",a)\n",
    "elif b>c:\n",
    "    print(\"b\",b)\n",
    "elif c>a:\n",
    "    print(\"c\",c)    \n",
    "else:\n",
    "    print(\"a\",a)      "
   ]
  },
  {
   "cell_type": "code",
   "execution_count": 26,
   "id": "1da048ca",
   "metadata": {},
   "outputs": [
    {
     "name": "stdout",
     "output_type": "stream",
     "text": [
      "Even number\n"
     ]
    }
   ],
   "source": [
    "#Wap to find odd and even number.\n",
    "a=6\n",
    "if a % 2==0:\n",
    "    print(\"Even number\")\n",
    "else:\n",
    "    print(\"Odd number\")"
   ]
  },
  {
   "cell_type": "code",
   "execution_count": 25,
   "id": "5942469a",
   "metadata": {},
   "outputs": [
    {
     "name": "stdout",
     "output_type": "stream",
     "text": [
      "2\n"
     ]
    }
   ],
   "source": [
    "a=6\n",
    "b=4\n",
    "c = a%b\n",
    "print(c)"
   ]
  },
  {
   "cell_type": "code",
   "execution_count": 28,
   "id": "e7195eb5",
   "metadata": {},
   "outputs": [
    {
     "name": "stdout",
     "output_type": "stream",
     "text": [
      "Odd number\n"
     ]
    }
   ],
   "source": [
    "a=7\n",
    "if a%2 != 0 :\n",
    "    print(\"Odd number\")\n",
    "else:\n",
    "    print(\"even number\")"
   ]
  },
  {
   "cell_type": "code",
   "execution_count": 29,
   "id": "2615030c",
   "metadata": {},
   "outputs": [
    {
     "name": "stdout",
     "output_type": "stream",
     "text": [
      "enter your salary67\n",
      "enter your year of service8\n",
      "c\n"
     ]
    }
   ],
   "source": [
    "a=int(input(\"enter your salary\"))\n",
    "b=int(input(\"enter your year of service\"))\n",
    "c= a+(a*5%100)\n",
    "if b > 5:\n",
    "    print(\"c\")\n",
    "else:\n",
    "    print(\"no bonus\")"
   ]
  },
  {
   "cell_type": "code",
   "execution_count": 33,
   "id": "ab948dd7",
   "metadata": {},
   "outputs": [
    {
     "name": "stdout",
     "output_type": "stream",
     "text": [
      "Enter your salary6000\n",
      "Enter your year_of_service7\n",
      "bonus received 300.0\n"
     ]
    }
   ],
   "source": [
    "salary = int(input(\"Enter your salary\"))\n",
    "year_of_service = int(input(\"Enter your year_of_service\"))\n",
    "if year_of_service>5:\n",
    "    bonus = salary * (5/100)\n",
    "    print(\"bonus received\",bonus)\n",
    "    \n",
    "else:\n",
    "    print(\"Bonus not allowed\")"
   ]
  },
  {
   "cell_type": "code",
   "execution_count": 37,
   "id": "571f5a23",
   "metadata": {},
   "outputs": [
    {
     "name": "stdout",
     "output_type": "stream",
     "text": [
      "Enter the quantity11\n",
      "Discount 110.0\n"
     ]
    }
   ],
   "source": [
    "purchase_quantity = int(input(\"Enter the quantity\"))\n",
    "total_quantity = purchase_quantity*100\n",
    "if total_quantity>1000:\n",
    "    discount = total_quantity*(10/100)\n",
    "    print(\"Discount\",discount)\n",
    "else:\n",
    "    print(\"No Discount\")"
   ]
  },
  {
   "cell_type": "code",
   "execution_count": null,
   "id": "64ea09c4",
   "metadata": {},
   "outputs": [],
   "source": []
  }
 ],
 "metadata": {
  "kernelspec": {
   "display_name": "Python 3 (ipykernel)",
   "language": "python",
   "name": "python3"
  },
  "language_info": {
   "codemirror_mode": {
    "name": "ipython",
    "version": 3
   },
   "file_extension": ".py",
   "mimetype": "text/x-python",
   "name": "python",
   "nbconvert_exporter": "python",
   "pygments_lexer": "ipython3",
   "version": "3.9.7"
  }
 },
 "nbformat": 4,
 "nbformat_minor": 5
}
