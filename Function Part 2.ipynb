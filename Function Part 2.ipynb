{
 "cells": [
  {
   "cell_type": "code",
   "execution_count": 4,
   "id": "6aa31f66",
   "metadata": {},
   "outputs": [
    {
     "name": "stdout",
     "output_type": "stream",
     "text": [
      "Even\n"
     ]
    }
   ],
   "source": [
    "#check if the no. is odd or even with the help of function.\n",
    "# find the max of 3 no. with the help of function.\n",
    "\n",
    "def odd_even(x=24):\n",
    "#     a=20\n",
    "    if x%2==0:\n",
    "        print(\"Even\")\n",
    "    else:\n",
    "        print(\"odd\")\n",
    "        \n",
    "odd_even()"
   ]
  },
  {
   "cell_type": "code",
   "execution_count": 6,
   "id": "490fe11b",
   "metadata": {},
   "outputs": [
    {
     "name": "stdout",
     "output_type": "stream",
     "text": [
      "3\n"
     ]
    }
   ],
   "source": [
    "def number(x,y,z):\n",
    "    if x>y and x>z:\n",
    "        print(x)\n",
    "    elif y>z and y>x:\n",
    "        print(y)\n",
    "    elif z>y and z>x:\n",
    "        print(z)\n",
    "number(1,2,3)\n"
   ]
  },
  {
   "cell_type": "code",
   "execution_count": 7,
   "id": "079d514c",
   "metadata": {},
   "outputs": [],
   "source": [
    "#wap to caluculate the salary of a emp where monthly salary of \n",
    "# emp is 20000, now we hhave to calculate the annual salary of\n",
    "# the emp with the help of function.\n",
    "\n",
    "# wap to find the cost of a car having base price of \n",
    "# 2000000 where 17% tax is available for this car and\n",
    "# also on road price of the car is increased by 5%.\n",
    "# now we have to calculate the total price of the car which \n",
    "# customer have to pay.\n",
    "\n",
    "# Wap to a function in which you can do +,-,*,/,%  airthmetic\n",
    "# operations.\n",
    "\n",
    "# 4.Input the electricity unit charge  & calculate the \n",
    "# total electric bill according to given condition.\n",
    "# For first 50 units Rs. 0.50/unit\n",
    "# For next 100 units Rs. 0.75/unit\n",
    "# For next 100 units Rs. 1.20/unit\n",
    "# For unit above 250 Rs. 1.50/unit\n",
    "# An additional surcharge of 20% is added to the bill.\n",
    "\n",
    "#wap with function and try to find out a particular year is \n",
    "# leap year or not.\n",
    "\n",
    "# Wap to find the sum of all the numbers present in a list\n",
    "# with the help of function.\n"
   ]
  },
  {
   "cell_type": "code",
   "execution_count": 9,
   "id": "86045b74",
   "metadata": {},
   "outputs": [
    {
     "name": "stdout",
     "output_type": "stream",
     "text": [
      "Add---> 23 Minus---> 17 Multiply---> 60 Divide---> 6.666666666666667 Modulus---> 2\n"
     ]
    }
   ],
   "source": [
    "def airth(a=20,b=3):\n",
    "#     a=1\n",
    "#     b=2\n",
    "    add = a+b\n",
    "    minus = a-b\n",
    "    mul = a*b\n",
    "    div = a/b\n",
    "    modl = a%b\n",
    "    print(\"Add--->\",add,\"Minus--->\",minus,\"Multiply--->\",mul,\"Divide--->\",div,\"Modulus--->\",modl)\n",
    "    \n",
    "airth()"
   ]
  },
  {
   "cell_type": "code",
   "execution_count": null,
   "id": "1519089a",
   "metadata": {},
   "outputs": [],
   "source": []
  }
 ],
 "metadata": {
  "kernelspec": {
   "display_name": "Python 3 (ipykernel)",
   "language": "python",
   "name": "python3"
  },
  "language_info": {
   "codemirror_mode": {
    "name": "ipython",
    "version": 3
   },
   "file_extension": ".py",
   "mimetype": "text/x-python",
   "name": "python",
   "nbconvert_exporter": "python",
   "pygments_lexer": "ipython3",
   "version": "3.9.7"
  }
 },
 "nbformat": 4,
 "nbformat_minor": 5
}
