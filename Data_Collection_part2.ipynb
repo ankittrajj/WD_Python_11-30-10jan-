{
 "cells": [
  {
   "cell_type": "markdown",
   "id": "38469781",
   "metadata": {},
   "source": [
    "# Tuple"
   ]
  },
  {
   "cell_type": "code",
   "execution_count": 1,
   "id": "c0777c0b",
   "metadata": {},
   "outputs": [
    {
     "name": "stdout",
     "output_type": "stream",
     "text": [
      "(10, 34, 89, 90, 77, 99)\n"
     ]
    }
   ],
   "source": [
    "#how to make a tuple\n",
    "a =(10,34,89,90,77,99)\n",
    "print(a)"
   ]
  },
  {
   "cell_type": "code",
   "execution_count": 2,
   "id": "867f827b",
   "metadata": {},
   "outputs": [
    {
     "data": {
      "text/plain": [
       "tuple"
      ]
     },
     "execution_count": 2,
     "metadata": {},
     "output_type": "execute_result"
    }
   ],
   "source": [
    "type(a)"
   ]
  },
  {
   "cell_type": "code",
   "execution_count": 3,
   "id": "b47faa29",
   "metadata": {},
   "outputs": [
    {
     "name": "stdout",
     "output_type": "stream",
     "text": [
      "('45', 'Ram', 'Shyam', '100')\n"
     ]
    }
   ],
   "source": [
    "#tuple ----> string\n",
    "x = ('45','Ram','Shyam','100')\n",
    "print(x)"
   ]
  },
  {
   "cell_type": "code",
   "execution_count": 4,
   "id": "eba00b62",
   "metadata": {},
   "outputs": [
    {
     "data": {
      "text/plain": [
       "tuple"
      ]
     },
     "execution_count": 4,
     "metadata": {},
     "output_type": "execute_result"
    }
   ],
   "source": [
    "type(x)"
   ]
  },
  {
   "cell_type": "code",
   "execution_count": 5,
   "id": "198db637",
   "metadata": {},
   "outputs": [
    {
     "name": "stdout",
     "output_type": "stream",
     "text": [
      "(23, 45, 'book', 'qwerty', 23.89, 34.7, True, False, (2+4j))\n"
     ]
    }
   ],
   "source": [
    "a = (23,45,'book','qwerty',23.89,34.7,True,False,2+4j)\n",
    "print(a)"
   ]
  },
  {
   "cell_type": "code",
   "execution_count": 6,
   "id": "483e3448",
   "metadata": {},
   "outputs": [
    {
     "data": {
      "text/plain": [
       "tuple"
      ]
     },
     "execution_count": 6,
     "metadata": {},
     "output_type": "execute_result"
    }
   ],
   "source": [
    "type(a) "
   ]
  },
  {
   "cell_type": "code",
   "execution_count": 7,
   "id": "9de5fa31",
   "metadata": {},
   "outputs": [
    {
     "name": "stdout",
     "output_type": "stream",
     "text": [
      "[34, 56, 90, 78, 'abc']\n"
     ]
    }
   ],
   "source": [
    "# list & tuple----->\n",
    "x=[34,56,90,78,'abc']\n",
    "print(x)"
   ]
  },
  {
   "cell_type": "code",
   "execution_count": 8,
   "id": "df491b2d",
   "metadata": {},
   "outputs": [],
   "source": [
    "x[3]=100"
   ]
  },
  {
   "cell_type": "code",
   "execution_count": 9,
   "id": "f9e704d0",
   "metadata": {},
   "outputs": [
    {
     "data": {
      "text/plain": [
       "[34, 56, 90, 100, 'abc']"
      ]
     },
     "execution_count": 9,
     "metadata": {},
     "output_type": "execute_result"
    }
   ],
   "source": [
    "x"
   ]
  },
  {
   "cell_type": "code",
   "execution_count": 10,
   "id": "d6459909",
   "metadata": {},
   "outputs": [
    {
     "data": {
      "text/plain": [
       "[34, 56, 90, 100, 'abc']"
      ]
     },
     "execution_count": 10,
     "metadata": {},
     "output_type": "execute_result"
    }
   ],
   "source": [
    "x"
   ]
  },
  {
   "cell_type": "code",
   "execution_count": 11,
   "id": "22730234",
   "metadata": {},
   "outputs": [
    {
     "data": {
      "text/plain": [
       "5"
      ]
     },
     "execution_count": 11,
     "metadata": {},
     "output_type": "execute_result"
    }
   ],
   "source": [
    "len(x)"
   ]
  },
  {
   "cell_type": "code",
   "execution_count": 12,
   "id": "6c2ed088",
   "metadata": {},
   "outputs": [
    {
     "data": {
      "text/plain": [
       "(23, 45, 'book', 'qwerty', 23.89, 34.7, True, False, (2+4j))"
      ]
     },
     "execution_count": 12,
     "metadata": {},
     "output_type": "execute_result"
    }
   ],
   "source": [
    "a"
   ]
  },
  {
   "cell_type": "code",
   "execution_count": 13,
   "id": "e22cbe10",
   "metadata": {},
   "outputs": [
    {
     "ename": "SyntaxError",
     "evalue": "invalid syntax (Temp/ipykernel_1628/1053084446.py, line 1)",
     "output_type": "error",
     "traceback": [
      "\u001b[1;36m  File \u001b[1;32m\"C:\\Users\\ddugky\\AppData\\Local\\Temp/ipykernel_1628/1053084446.py\"\u001b[1;36m, line \u001b[1;32m1\u001b[0m\n\u001b[1;33m    a[2]   23\u001b[0m\n\u001b[1;37m           ^\u001b[0m\n\u001b[1;31mSyntaxError\u001b[0m\u001b[1;31m:\u001b[0m invalid syntax\n"
     ]
    }
   ],
   "source": [
    "a[2]   23\n",
    "a=\"2\"\n",
    "b = '3'"
   ]
  },
  {
   "cell_type": "code",
   "execution_count": 14,
   "id": "d2f14ee2",
   "metadata": {},
   "outputs": [
    {
     "ename": "TypeError",
     "evalue": "'tuple' object does not support item assignment",
     "output_type": "error",
     "traceback": [
      "\u001b[1;31m---------------------------------------------------------------------------\u001b[0m",
      "\u001b[1;31mTypeError\u001b[0m                                 Traceback (most recent call last)",
      "\u001b[1;32m~\\AppData\\Local\\Temp/ipykernel_1628/2139177551.py\u001b[0m in \u001b[0;36m<module>\u001b[1;34m\u001b[0m\n\u001b[1;32m----> 1\u001b[1;33m \u001b[0ma\u001b[0m\u001b[1;33m[\u001b[0m\u001b[1;36m2\u001b[0m\u001b[1;33m]\u001b[0m\u001b[1;33m=\u001b[0m\u001b[1;36m12\u001b[0m\u001b[1;33m\u001b[0m\u001b[1;33m\u001b[0m\u001b[0m\n\u001b[0m",
      "\u001b[1;31mTypeError\u001b[0m: 'tuple' object does not support item assignment"
     ]
    }
   ],
   "source": [
    "a[2]=12"
   ]
  },
  {
   "cell_type": "code",
   "execution_count": null,
   "id": "f239d552",
   "metadata": {},
   "outputs": [],
   "source": [
    "a = input('Enter your name')\n",
    "count = 0\n",
    "for i in a:\n",
    "    count = count+1\n",
    "    print(i)\n",
    "print(\"Total no. in string is :--->\",count)"
   ]
  },
  {
   "cell_type": "code",
   "execution_count": 15,
   "id": "34048297",
   "metadata": {},
   "outputs": [
    {
     "ename": "SyntaxError",
     "evalue": "EOL while scanning string literal (Temp/ipykernel_1628/3588336662.py, line 6)",
     "output_type": "error",
     "traceback": [
      "\u001b[1;36m  File \u001b[1;32m\"C:\\Users\\ddugky\\AppData\\Local\\Temp/ipykernel_1628/3588336662.py\"\u001b[1;36m, line \u001b[1;32m6\u001b[0m\n\u001b[1;33m    print(\"f{name[i]}:{name.count}(name[i])})\u001b[0m\n\u001b[1;37m                                             ^\u001b[0m\n\u001b[1;31mSyntaxError\u001b[0m\u001b[1;31m:\u001b[0m EOL while scanning string literal\n"
     ]
    }
   ],
   "source": [
    "temp_ver=\"abcd\" \n",
    "i=0 \n",
    "while i<len(name): \n",
    "    if name[i] not in temp_ver: \n",
    "        temp_ver+=name[i] \n",
    "        print(\"f{name[i]}:{name.count}(name[i])})\n"
   ]
  },
  {
   "cell_type": "code",
   "execution_count": 16,
   "id": "65eabf31",
   "metadata": {},
   "outputs": [
    {
     "ename": "TypeError",
     "evalue": "can only concatenate str (not \"int\") to str",
     "output_type": "error",
     "traceback": [
      "\u001b[1;31m---------------------------------------------------------------------------\u001b[0m",
      "\u001b[1;31mTypeError\u001b[0m                                 Traceback (most recent call last)",
      "\u001b[1;32m~\\AppData\\Local\\Temp/ipykernel_1628/2860381005.py\u001b[0m in \u001b[0;36m<module>\u001b[1;34m\u001b[0m\n\u001b[0;32m      2\u001b[0m \u001b[0mcount\u001b[0m \u001b[1;33m=\u001b[0m \u001b[1;36m0\u001b[0m\u001b[1;33m\u001b[0m\u001b[1;33m\u001b[0m\u001b[0m\n\u001b[0;32m      3\u001b[0m \u001b[1;32mwhile\u001b[0m \u001b[0mcount\u001b[0m\u001b[1;33m<\u001b[0m\u001b[0mlen\u001b[0m\u001b[1;33m(\u001b[0m\u001b[0ma\u001b[0m\u001b[1;33m)\u001b[0m\u001b[1;33m:\u001b[0m\u001b[1;33m\u001b[0m\u001b[1;33m\u001b[0m\u001b[0m\n\u001b[1;32m----> 4\u001b[1;33m     \u001b[0ma\u001b[0m\u001b[1;33m+=\u001b[0m\u001b[0mcount\u001b[0m\u001b[1;33m\u001b[0m\u001b[1;33m\u001b[0m\u001b[0m\n\u001b[0m\u001b[0;32m      5\u001b[0m     \u001b[0mprint\u001b[0m\u001b[1;33m(\u001b[0m\u001b[0mcount\u001b[0m\u001b[1;33m)\u001b[0m\u001b[1;33m\u001b[0m\u001b[1;33m\u001b[0m\u001b[0m\n",
      "\u001b[1;31mTypeError\u001b[0m: can only concatenate str (not \"int\") to str"
     ]
    }
   ],
   "source": [
    "a= 'xyz'\n",
    "count = 0\n",
    "while count<len(a):\n",
    "    a+=count\n",
    "    print(count)"
   ]
  },
  {
   "cell_type": "code",
   "execution_count": 17,
   "id": "83f4faab",
   "metadata": {},
   "outputs": [
    {
     "name": "stdout",
     "output_type": "stream",
     "text": [
      "abcd\n",
      "abcd\n",
      "abcd\n",
      "abcd\n",
      "4\n",
      "3\n"
     ]
    }
   ],
   "source": [
    "a=\"abcd\"\n",
    "i=0\n",
    "count=0\n",
    "while i<len(a):\n",
    "    print(a)\n",
    "    count=count+1\n",
    "    i+=1\n",
    "print(count)\n",
    "\n",
    "\n",
    "a= 'xyz'\n",
    "count = 0\n",
    "i = 0\n",
    "while count<len(a):\n",
    "#     print(a)\n",
    "    count+=1\n",
    "    i+=1\n",
    "    \n",
    "print(count)"
   ]
  },
  {
   "cell_type": "code",
   "execution_count": 18,
   "id": "060967ff",
   "metadata": {},
   "outputs": [
    {
     "name": "stdout",
     "output_type": "stream",
     "text": [
      "xyz 3\n"
     ]
    }
   ],
   "source": [
    "a= 'xyz'\n",
    "count = 0\n",
    "i = 0\n",
    "while count<len(a):\n",
    "#     print(a)\n",
    "    count+=1\n",
    "    i+=1\n",
    "    \n",
    "print(a,count)"
   ]
  },
  {
   "cell_type": "code",
   "execution_count": 19,
   "id": "02a96340",
   "metadata": {},
   "outputs": [
    {
     "name": "stdout",
     "output_type": "stream",
     "text": [
      "(23, 45, 'book', 'qwerty', 23.89, 34.7, True, False, (2+4j))\n"
     ]
    }
   ],
   "source": [
    "#methods----> count/index\n",
    "a = (23,45,'book','qwerty',23.89,34.7,True,False,2+4j)\n",
    "print(a)"
   ]
  },
  {
   "cell_type": "code",
   "execution_count": 20,
   "id": "9f8b2152",
   "metadata": {},
   "outputs": [
    {
     "data": {
      "text/plain": [
       "(23, 45, 'book', 'qwerty', 23.89, 34.7, True, False, (2+4j))"
      ]
     },
     "execution_count": 20,
     "metadata": {},
     "output_type": "execute_result"
    }
   ],
   "source": [
    "a"
   ]
  },
  {
   "cell_type": "code",
   "execution_count": 21,
   "id": "3d2a9fac",
   "metadata": {},
   "outputs": [
    {
     "data": {
      "text/plain": [
       "1"
      ]
     },
     "execution_count": 21,
     "metadata": {},
     "output_type": "execute_result"
    }
   ],
   "source": [
    "a.count(45)"
   ]
  },
  {
   "cell_type": "code",
   "execution_count": 22,
   "id": "f6139c2b",
   "metadata": {},
   "outputs": [
    {
     "data": {
      "text/plain": [
       "0"
      ]
     },
     "execution_count": 22,
     "metadata": {},
     "output_type": "execute_result"
    }
   ],
   "source": [
    "x=(23,45,67,90,23,23,34,34)\n",
    "x.count(0)"
   ]
  },
  {
   "cell_type": "code",
   "execution_count": 23,
   "id": "5f3a366a",
   "metadata": {},
   "outputs": [
    {
     "data": {
      "text/plain": [
       "(23, 45, 67, 90, 23, 23, 34, 34)"
      ]
     },
     "execution_count": 23,
     "metadata": {},
     "output_type": "execute_result"
    }
   ],
   "source": [
    "#index\n",
    "x"
   ]
  },
  {
   "cell_type": "code",
   "execution_count": 24,
   "id": "0495be83",
   "metadata": {},
   "outputs": [
    {
     "data": {
      "text/plain": [
       "3"
      ]
     },
     "execution_count": 24,
     "metadata": {},
     "output_type": "execute_result"
    }
   ],
   "source": [
    "x.index(90)"
   ]
  },
  {
   "cell_type": "code",
   "execution_count": 25,
   "id": "54e204f9",
   "metadata": {},
   "outputs": [
    {
     "data": {
      "text/plain": [
       "1"
      ]
     },
     "execution_count": 25,
     "metadata": {},
     "output_type": "execute_result"
    }
   ],
   "source": [
    "#check tuple is mutable or not.\n",
    "s=(23,45,23,0)\n",
    "s.count(0)"
   ]
  },
  {
   "cell_type": "code",
   "execution_count": 32,
   "id": "61dcc2b2",
   "metadata": {},
   "outputs": [
    {
     "data": {
      "text/plain": [
       "0"
      ]
     },
     "execution_count": 32,
     "metadata": {},
     "output_type": "execute_result"
    }
   ],
   "source": [
    "a= (23,23,89,90,23)\n",
    "a.count(24)"
   ]
  },
  {
   "cell_type": "code",
   "execution_count": 33,
   "id": "eb0fe8e2",
   "metadata": {},
   "outputs": [
    {
     "data": {
      "text/plain": [
       "0"
      ]
     },
     "execution_count": 33,
     "metadata": {},
     "output_type": "execute_result"
    }
   ],
   "source": [
    "a.index(23)"
   ]
  },
  {
   "cell_type": "code",
   "execution_count": 38,
   "id": "3953b61c",
   "metadata": {},
   "outputs": [
    {
     "ename": "TypeError",
     "evalue": "'tuple' object does not support item assignment",
     "output_type": "error",
     "traceback": [
      "\u001b[1;31m---------------------------------------------------------------------------\u001b[0m",
      "\u001b[1;31mTypeError\u001b[0m                                 Traceback (most recent call last)",
      "\u001b[1;32m~\\AppData\\Local\\Temp/ipykernel_1628/3244439598.py\u001b[0m in \u001b[0;36m<module>\u001b[1;34m\u001b[0m\n\u001b[0;32m     13\u001b[0m \u001b[1;33m\u001b[0m\u001b[0m\n\u001b[0;32m     14\u001b[0m \u001b[0mx\u001b[0m\u001b[1;33m=\u001b[0m\u001b[1;33m(\u001b[0m\u001b[1;36m1\u001b[0m\u001b[1;33m,\u001b[0m\u001b[1;36m2\u001b[0m\u001b[1;33m,\u001b[0m\u001b[1;36m3\u001b[0m\u001b[1;33m)\u001b[0m\u001b[1;33m\u001b[0m\u001b[1;33m\u001b[0m\u001b[0m\n\u001b[1;32m---> 15\u001b[1;33m \u001b[0mx\u001b[0m\u001b[1;33m[\u001b[0m\u001b[1;36m0\u001b[0m\u001b[1;33m]\u001b[0m\u001b[1;33m=\u001b[0m\u001b[1;36m100\u001b[0m\u001b[1;33m\u001b[0m\u001b[1;33m\u001b[0m\u001b[0m\n\u001b[0m\u001b[0;32m     16\u001b[0m \u001b[1;33m\u001b[0m\u001b[0m\n",
      "\u001b[1;31mTypeError\u001b[0m: 'tuple' object does not support item assignment"
     ]
    }
   ],
   "source": [
    "#Check tuple is mutable or not?\n",
    "\n",
    "#WAp to sum a list of 4 numbers.\n",
    "\n",
    "# wap to count no. of 7 in a tuple.\n",
    "# s=(70,77,777,7777,-77,72,7)\n",
    "\n",
    "#wap and check if item is present in a list or not\n",
    "# item = ['python','java',c++]\n",
    "\n",
    "\n",
    "# 9891464311\n",
    "\n",
    "x=(1,2,3)\n",
    "x[0]=100\n",
    "\n"
   ]
  },
  {
   "cell_type": "code",
   "execution_count": 41,
   "id": "7299c61f",
   "metadata": {},
   "outputs": [
    {
     "name": "stdout",
     "output_type": "stream",
     "text": [
      "1\n",
      "3\n",
      "6\n",
      "10\n"
     ]
    }
   ],
   "source": [
    "a = [1,2,3,4]\n",
    "sum1 = 0\n",
    "for i in  a:\n",
    "    sum1=sum1+i\n",
    "    print(sum1)"
   ]
  },
  {
   "cell_type": "code",
   "execution_count": 42,
   "id": "6d99549b",
   "metadata": {},
   "outputs": [
    {
     "data": {
      "text/plain": [
       "[1, 2, 3, 4]"
      ]
     },
     "execution_count": 42,
     "metadata": {},
     "output_type": "execute_result"
    }
   ],
   "source": [
    "a"
   ]
  },
  {
   "cell_type": "code",
   "execution_count": 43,
   "id": "885c8faf",
   "metadata": {},
   "outputs": [
    {
     "name": "stdout",
     "output_type": "stream",
     "text": [
      "10\n"
     ]
    }
   ],
   "source": [
    "add = a[0]+a[1]+a[2]+a[3]\n",
    "print(add)"
   ]
  },
  {
   "cell_type": "code",
   "execution_count": 44,
   "id": "485a3626",
   "metadata": {},
   "outputs": [
    {
     "data": {
      "text/plain": [
       "10"
      ]
     },
     "execution_count": 44,
     "metadata": {},
     "output_type": "execute_result"
    }
   ],
   "source": [
    "add = sum(a)\n",
    "add"
   ]
  },
  {
   "cell_type": "code",
   "execution_count": 47,
   "id": "f7358acb",
   "metadata": {},
   "outputs": [
    {
     "name": "stdout",
     "output_type": "stream",
     "text": [
      "10\n"
     ]
    }
   ],
   "source": [
    "# from functools import reduce\n",
    "# print(reduce(lambda x,y:x+y,a))\n",
    "# add"
   ]
  },
  {
   "cell_type": "code",
   "execution_count": 50,
   "id": "c1b53510",
   "metadata": {},
   "outputs": [
    {
     "name": "stdout",
     "output_type": "stream",
     "text": [
      "2\n"
     ]
    }
   ],
   "source": [
    "s=(7,70,77,777,7777,-77,72,77)\n",
    "print(s.count(77))"
   ]
  },
  {
   "cell_type": "code",
   "execution_count": null,
   "id": "233b568d",
   "metadata": {},
   "outputs": [],
   "source": [
    "#wap and check if item is present in a list or not\n",
    "item = ['python','java','c++']\n",
    "# wap to find palindrome.\n",
    "# Wap to reverse a string.\n"
   ]
  }
 ],
 "metadata": {
  "kernelspec": {
   "display_name": "Python 3 (ipykernel)",
   "language": "python",
   "name": "python3"
  },
  "language_info": {
   "codemirror_mode": {
    "name": "ipython",
    "version": 3
   },
   "file_extension": ".py",
   "mimetype": "text/x-python",
   "name": "python",
   "nbconvert_exporter": "python",
   "pygments_lexer": "ipython3",
   "version": "3.9.7"
  }
 },
 "nbformat": 4,
 "nbformat_minor": 5
}
