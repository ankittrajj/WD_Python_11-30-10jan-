{
 "cells": [
  {
   "cell_type": "code",
   "execution_count": 1,
   "id": "5edeb567",
   "metadata": {},
   "outputs": [
    {
     "name": "stdout",
     "output_type": "stream",
     "text": [
      "hi\n",
      "hello\n"
     ]
    }
   ],
   "source": [
    "x=2\n",
    "count=0\n",
    "i=1\n",
    "while 1:\n",
    "    if x%i==0:\n",
    "        i=i+1\n",
    "        print(\"hi\")\n",
    "        count=count+1\n",
    "        break\n",
    "print(\"hello\")"
   ]
  },
  {
   "cell_type": "code",
   "execution_count": 2,
   "id": "9ba66ce6",
   "metadata": {},
   "outputs": [
    {
     "name": "stdout",
     "output_type": "stream",
     "text": [
      "Enter a number23\n",
      "Prime number\n"
     ]
    }
   ],
   "source": [
    "a=int(input(\"Enter a number\"))\n",
    "c=0\n",
    "i=1\n",
    "while i<a+1:\n",
    "    if a%i==0:\n",
    "        c=c+1\n",
    "    i=i+1\n",
    "if c==2:\n",
    "    print(\"Prime number\")\n",
    "else:\n",
    "    print(\"Not a Prime number\")"
   ]
  },
  {
   "cell_type": "code",
   "execution_count": 3,
   "id": "9ba3f00d",
   "metadata": {},
   "outputs": [
    {
     "name": "stdout",
     "output_type": "stream",
     "text": [
      "[3, 4, 'Ram is genius', 90.6, 'There is lion in the jungle']\n"
     ]
    },
    {
     "data": {
      "text/plain": [
       "list"
      ]
     },
     "execution_count": 3,
     "metadata": {},
     "output_type": "execute_result"
    }
   ],
   "source": [
    "#list\n",
    "a=[3,4,'Ram is genius',90.6,\"There is lion in the jungle\"]\n",
    "print(a)\n",
    "type(a)\n"
   ]
  },
  {
   "cell_type": "code",
   "execution_count": 4,
   "id": "d7751f49",
   "metadata": {},
   "outputs": [
    {
     "data": {
      "text/plain": [
       "[3, 4, 'Ram is genius', 90.6, 'There is lion in the jungle']"
      ]
     },
     "execution_count": 4,
     "metadata": {},
     "output_type": "execute_result"
    }
   ],
   "source": [
    "a"
   ]
  },
  {
   "cell_type": "code",
   "execution_count": 5,
   "id": "66ec8675",
   "metadata": {},
   "outputs": [],
   "source": [
    "a[0]=100"
   ]
  },
  {
   "cell_type": "code",
   "execution_count": 6,
   "id": "3cccc51d",
   "metadata": {},
   "outputs": [
    {
     "data": {
      "text/plain": [
       "[100, 4, 'Ram is genius', 90.6, 'There is lion in the jungle']"
      ]
     },
     "execution_count": 6,
     "metadata": {},
     "output_type": "execute_result"
    }
   ],
   "source": [
    "a"
   ]
  },
  {
   "cell_type": "code",
   "execution_count": 7,
   "id": "2497b266",
   "metadata": {},
   "outputs": [
    {
     "data": {
      "text/plain": [
       "['A', 'B', 'C', 'D']"
      ]
     },
     "execution_count": 7,
     "metadata": {},
     "output_type": "execute_result"
    }
   ],
   "source": [
    "#wap to enter 5 city name and stored in a list also take user input.\n",
    "city = ['A','B','C','D']\n",
    "city"
   ]
  },
  {
   "cell_type": "code",
   "execution_count": 8,
   "id": "1ae0efd8",
   "metadata": {},
   "outputs": [
    {
     "data": {
      "text/plain": [
       "list"
      ]
     },
     "execution_count": 8,
     "metadata": {},
     "output_type": "execute_result"
    }
   ],
   "source": [
    "type(city)"
   ]
  },
  {
   "cell_type": "code",
   "execution_count": 9,
   "id": "7b6ac217",
   "metadata": {},
   "outputs": [
    {
     "name": "stdout",
     "output_type": "stream",
     "text": [
      "Enter 1st city nameq\n",
      "Enter 2nd city namew\n",
      "Enter 3rd city namew\n",
      "Enter 4th city namew\n",
      "Enter 5th city namew\n",
      "['q', 'w', 'w', 'w', 'w']\n"
     ]
    }
   ],
   "source": [
    "a[0]=input(\"Enter 1st city name\")\n",
    "a[1]=input(\"Enter 2nd city name\")\n",
    "a[2]=input(\"Enter 3rd city name\")\n",
    "a[3]=input(\"Enter 4th city name\")\n",
    "a[4]=input(\"Enter 5th city name\")\n",
    "print(a)"
   ]
  },
  {
   "cell_type": "code",
   "execution_count": 10,
   "id": "c49401ba",
   "metadata": {},
   "outputs": [
    {
     "ename": "TypeError",
     "evalue": "'method' object is not subscriptable",
     "output_type": "error",
     "traceback": [
      "\u001b[1;31m---------------------------------------------------------------------------\u001b[0m",
      "\u001b[1;31mTypeError\u001b[0m                                 Traceback (most recent call last)",
      "\u001b[1;32m~\\AppData\\Local\\Temp/ipykernel_4856/3109435258.py\u001b[0m in \u001b[0;36m<module>\u001b[1;34m\u001b[0m\n\u001b[1;32m----> 1\u001b[1;33m \u001b[0ma\u001b[0m \u001b[1;33m=\u001b[0m \u001b[0minput\u001b[0m \u001b[1;33m[\u001b[0m \u001b[1;34m\" enter the city name \"\u001b[0m\u001b[1;33m]\u001b[0m\u001b[1;33m\u001b[0m\u001b[1;33m\u001b[0m\u001b[0m\n\u001b[0m\u001b[0;32m      2\u001b[0m \u001b[0ma\u001b[0m \u001b[1;33m=\u001b[0m \u001b[1;33m[\u001b[0m\u001b[1;34m\" b,c,d, e, f\"\u001b[0m\u001b[1;33m]\u001b[0m\u001b[1;33m\u001b[0m\u001b[1;33m\u001b[0m\u001b[0m\n\u001b[0;32m      3\u001b[0m \u001b[0mprint\u001b[0m \u001b[1;33m(\u001b[0m\u001b[0ma\u001b[0m\u001b[1;33m)\u001b[0m\u001b[1;33m\u001b[0m\u001b[1;33m\u001b[0m\u001b[0m\n",
      "\u001b[1;31mTypeError\u001b[0m: 'method' object is not subscriptable"
     ]
    }
   ],
   "source": [
    "a = input [ \" enter the city name \"]\n",
    "a = [\" b,c,d, e, f\"]\n",
    "print (a)\n"
   ]
  },
  {
   "cell_type": "code",
   "execution_count": null,
   "id": "0eb9a5f5",
   "metadata": {},
   "outputs": [],
   "source": [
    "x= input('enter the city name')\n",
    "city = ['A','B','c','D','F']\n",
    "city"
   ]
  },
  {
   "cell_type": "code",
   "execution_count": null,
   "id": "08c26d55",
   "metadata": {},
   "outputs": [],
   "source": [
    "x1 = input(\"City 1\")\n",
    "x2 = input(\"City 2\")\n",
    "x3 = input(\"City 3\")\n",
    "x4 = input(\"City 4\")\n",
    "x5 = input(\"City 5\")\n",
    "print(list[x1,x2,x3,x4,x5])\n",
    "# print(a)"
   ]
  },
  {
   "cell_type": "code",
   "execution_count": null,
   "id": "0b8f49d7",
   "metadata": {},
   "outputs": [],
   "source": [
    "a = []\n",
    "for i in range(6):\n",
    "    city_name = input(\"Enter trhe city name\")\n",
    "    a.append(city_name)\n",
    "print(a)"
   ]
  },
  {
   "cell_type": "code",
   "execution_count": null,
   "id": "7bed8223",
   "metadata": {},
   "outputs": [],
   "source": [
    "for i in range(6):\n",
    "    print(i)"
   ]
  },
  {
   "cell_type": "code",
   "execution_count": 13,
   "id": "ff666bfa",
   "metadata": {},
   "outputs": [
    {
     "name": "stdout",
     "output_type": "stream",
     "text": [
      "Enter trhe city namea\n",
      "['a']\n",
      "0\n",
      "Enter trhe city namea\n",
      "['a', 'a']\n",
      "1\n",
      "Enter trhe city namea\n",
      "['a', 'a', 'a']\n",
      "2\n",
      "Enter trhe city namea\n",
      "['a', 'a', 'a', 'a']\n",
      "3\n",
      "Enter trhe city namea\n",
      "['a', 'a', 'a', 'a', 'a']\n",
      "4\n",
      "Enter trhe city namea\n",
      "['a', 'a', 'a', 'a', 'a', 'a']\n",
      "5\n"
     ]
    }
   ],
   "source": [
    "a = []\n",
    "x = 0\n",
    "while x<6:\n",
    "    city_name = input(\"Enter trhe city name\")\n",
    "#     x+=1\n",
    "    a.append(city_name)\n",
    "    \n",
    "    \n",
    "    print(a)\n",
    "    print(x)\n",
    "    x+=1"
   ]
  },
  {
   "cell_type": "code",
   "execution_count": null,
   "id": "86badf6b",
   "metadata": {},
   "outputs": [],
   "source": []
  },
  {
   "cell_type": "code",
   "execution_count": 14,
   "id": "8f95550a",
   "metadata": {},
   "outputs": [
    {
     "name": "stdout",
     "output_type": "stream",
     "text": [
      "1\n",
      "2\n",
      "3\n",
      "4\n",
      "5\n"
     ]
    }
   ],
   "source": [
    "x=1\n",
    "while x<6:\n",
    "    print(x)\n",
    "    x+=1\n",
    "    "
   ]
  },
  {
   "cell_type": "code",
   "execution_count": 15,
   "id": "cdc1f53c",
   "metadata": {},
   "outputs": [],
   "source": [
    "# list method\n",
    "# sort\n",
    "# reverse\n",
    "# append\n",
    "# insert\n",
    "# pop\n",
    "# remove\n",
    "# copy\n",
    "\n",
    "a=[23,90,777,123,1,2,9,-45,34]\n",
    "a.sort()"
   ]
  },
  {
   "cell_type": "code",
   "execution_count": 16,
   "id": "0094173f",
   "metadata": {},
   "outputs": [
    {
     "data": {
      "text/plain": [
       "[-45, 1, 2, 9, 23, 34, 90, 123, 777]"
      ]
     },
     "execution_count": 16,
     "metadata": {},
     "output_type": "execute_result"
    }
   ],
   "source": [
    "a"
   ]
  },
  {
   "cell_type": "code",
   "execution_count": 17,
   "id": "e4b4f81f",
   "metadata": {},
   "outputs": [],
   "source": [
    "a.sort(reverse=True)"
   ]
  },
  {
   "cell_type": "code",
   "execution_count": 18,
   "id": "b6a4fafe",
   "metadata": {},
   "outputs": [
    {
     "data": {
      "text/plain": [
       "[777, 123, 90, 34, 23, 9, 2, 1, -45]"
      ]
     },
     "execution_count": 18,
     "metadata": {},
     "output_type": "execute_result"
    }
   ],
   "source": [
    "a"
   ]
  },
  {
   "cell_type": "code",
   "execution_count": 19,
   "id": "f2794260",
   "metadata": {},
   "outputs": [],
   "source": [
    "a.sort(reverse=False)"
   ]
  },
  {
   "cell_type": "code",
   "execution_count": 20,
   "id": "1b9824fe",
   "metadata": {},
   "outputs": [
    {
     "data": {
      "text/plain": [
       "[-45, 1, 2, 9, 23, 34, 90, 123, 777]"
      ]
     },
     "execution_count": 20,
     "metadata": {},
     "output_type": "execute_result"
    }
   ],
   "source": [
    "a"
   ]
  },
  {
   "cell_type": "code",
   "execution_count": 29,
   "id": "54c9a8e7",
   "metadata": {},
   "outputs": [],
   "source": [
    "a=[23,90,1,89]\n",
    "a.sort(reverse=False)"
   ]
  },
  {
   "cell_type": "code",
   "execution_count": 30,
   "id": "7f908f3e",
   "metadata": {},
   "outputs": [
    {
     "data": {
      "text/plain": [
       "[1, 23, 89, 90]"
      ]
     },
     "execution_count": 30,
     "metadata": {},
     "output_type": "execute_result"
    }
   ],
   "source": [
    "a"
   ]
  },
  {
   "cell_type": "code",
   "execution_count": 31,
   "id": "543871f9",
   "metadata": {},
   "outputs": [],
   "source": [
    "a.sort(reverse=True)"
   ]
  },
  {
   "cell_type": "code",
   "execution_count": 32,
   "id": "bbca203b",
   "metadata": {},
   "outputs": [
    {
     "data": {
      "text/plain": [
       "[90, 89, 23, 1]"
      ]
     },
     "execution_count": 32,
     "metadata": {},
     "output_type": "execute_result"
    }
   ],
   "source": [
    "a"
   ]
  },
  {
   "cell_type": "code",
   "execution_count": 33,
   "id": "c75bc943",
   "metadata": {},
   "outputs": [],
   "source": [
    "x=[78,90,56,34,44,2]\n",
    "x.reverse()"
   ]
  },
  {
   "cell_type": "code",
   "execution_count": 34,
   "id": "fc3a9b57",
   "metadata": {},
   "outputs": [
    {
     "data": {
      "text/plain": [
       "[2, 44, 34, 56, 90, 78]"
      ]
     },
     "execution_count": 34,
     "metadata": {},
     "output_type": "execute_result"
    }
   ],
   "source": [
    "x"
   ]
  },
  {
   "cell_type": "code",
   "execution_count": 35,
   "id": "a15b541c",
   "metadata": {},
   "outputs": [
    {
     "data": {
      "text/plain": [
       "[2, 44, 34, 56, 90, 78]"
      ]
     },
     "execution_count": 35,
     "metadata": {},
     "output_type": "execute_result"
    }
   ],
   "source": [
    "#append\n",
    "x"
   ]
  },
  {
   "cell_type": "code",
   "execution_count": 40,
   "id": "d3b00a1b",
   "metadata": {},
   "outputs": [],
   "source": [
    "x.append(150)"
   ]
  },
  {
   "cell_type": "code",
   "execution_count": 41,
   "id": "55f2f16a",
   "metadata": {},
   "outputs": [
    {
     "data": {
      "text/plain": [
       "[2, 44, 34, 56, 90, 78, 150, 150]"
      ]
     },
     "execution_count": 41,
     "metadata": {},
     "output_type": "execute_result"
    }
   ],
   "source": [
    "x"
   ]
  },
  {
   "cell_type": "code",
   "execution_count": 42,
   "id": "208a12e3",
   "metadata": {},
   "outputs": [
    {
     "data": {
      "text/plain": [
       "[2, 44, 34, 56, 90, 78, 150, 150]"
      ]
     },
     "execution_count": 42,
     "metadata": {},
     "output_type": "execute_result"
    }
   ],
   "source": [
    "#insert\n",
    "x"
   ]
  },
  {
   "cell_type": "code",
   "execution_count": 44,
   "id": "53012d75",
   "metadata": {},
   "outputs": [],
   "source": [
    "x.insert(0,10)"
   ]
  },
  {
   "cell_type": "code",
   "execution_count": 45,
   "id": "acb9cab2",
   "metadata": {},
   "outputs": [
    {
     "data": {
      "text/plain": [
       "[10, 2, 44, 34, 56, 90, 78, 150, 150]"
      ]
     },
     "execution_count": 45,
     "metadata": {},
     "output_type": "execute_result"
    }
   ],
   "source": [
    "x"
   ]
  },
  {
   "cell_type": "code",
   "execution_count": 46,
   "id": "d524fad2",
   "metadata": {},
   "outputs": [
    {
     "data": {
      "text/plain": [
       "[10, 2, 44, 34, 56, 90, 78, 150, 150]"
      ]
     },
     "execution_count": 46,
     "metadata": {},
     "output_type": "execute_result"
    }
   ],
   "source": [
    "#pop\n",
    "x\n"
   ]
  },
  {
   "cell_type": "code",
   "execution_count": 47,
   "id": "e3b87d28",
   "metadata": {},
   "outputs": [
    {
     "data": {
      "text/plain": [
       "150"
      ]
     },
     "execution_count": 47,
     "metadata": {},
     "output_type": "execute_result"
    }
   ],
   "source": [
    "x.pop()"
   ]
  },
  {
   "cell_type": "code",
   "execution_count": 48,
   "id": "85e26570",
   "metadata": {},
   "outputs": [
    {
     "data": {
      "text/plain": [
       "[10, 2, 44, 34, 56, 90, 78, 150]"
      ]
     },
     "execution_count": 48,
     "metadata": {},
     "output_type": "execute_result"
    }
   ],
   "source": [
    "x"
   ]
  },
  {
   "cell_type": "code",
   "execution_count": 49,
   "id": "909611eb",
   "metadata": {},
   "outputs": [
    {
     "data": {
      "text/plain": [
       "10"
      ]
     },
     "execution_count": 49,
     "metadata": {},
     "output_type": "execute_result"
    }
   ],
   "source": [
    "x.pop(0)"
   ]
  },
  {
   "cell_type": "code",
   "execution_count": 50,
   "id": "bb8c2196",
   "metadata": {},
   "outputs": [
    {
     "data": {
      "text/plain": [
       "[2, 44, 34, 56, 90, 78, 150]"
      ]
     },
     "execution_count": 50,
     "metadata": {},
     "output_type": "execute_result"
    }
   ],
   "source": [
    "x"
   ]
  },
  {
   "cell_type": "code",
   "execution_count": 51,
   "id": "bb617b32",
   "metadata": {},
   "outputs": [
    {
     "data": {
      "text/plain": [
       "150"
      ]
     },
     "execution_count": 51,
     "metadata": {},
     "output_type": "execute_result"
    }
   ],
   "source": [
    "x.pop(6)"
   ]
  },
  {
   "cell_type": "code",
   "execution_count": 52,
   "id": "7ad74dcd",
   "metadata": {},
   "outputs": [
    {
     "data": {
      "text/plain": [
       "[2, 44, 34, 56, 90, 78]"
      ]
     },
     "execution_count": 52,
     "metadata": {},
     "output_type": "execute_result"
    }
   ],
   "source": [
    "x"
   ]
  },
  {
   "cell_type": "code",
   "execution_count": 53,
   "id": "2c43d570",
   "metadata": {},
   "outputs": [
    {
     "data": {
      "text/plain": [
       "[2, 44, 34, 56, 90, 78]"
      ]
     },
     "execution_count": 53,
     "metadata": {},
     "output_type": "execute_result"
    }
   ],
   "source": [
    "#remove\n",
    "x"
   ]
  },
  {
   "cell_type": "code",
   "execution_count": 55,
   "id": "9479d20d",
   "metadata": {},
   "outputs": [],
   "source": [
    "x.remove(2)"
   ]
  },
  {
   "cell_type": "code",
   "execution_count": 56,
   "id": "28933099",
   "metadata": {},
   "outputs": [
    {
     "data": {
      "text/plain": [
       "[44, 34, 56, 90, 78]"
      ]
     },
     "execution_count": 56,
     "metadata": {},
     "output_type": "execute_result"
    }
   ],
   "source": [
    "x"
   ]
  },
  {
   "cell_type": "code",
   "execution_count": 57,
   "id": "c52d1083",
   "metadata": {},
   "outputs": [
    {
     "ename": "ValueError",
     "evalue": "list.remove(x): x not in list",
     "output_type": "error",
     "traceback": [
      "\u001b[1;31m---------------------------------------------------------------------------\u001b[0m",
      "\u001b[1;31mValueError\u001b[0m                                Traceback (most recent call last)",
      "\u001b[1;32m~\\AppData\\Local\\Temp/ipykernel_4856/2872959598.py\u001b[0m in \u001b[0;36m<module>\u001b[1;34m\u001b[0m\n\u001b[1;32m----> 1\u001b[1;33m \u001b[0mx\u001b[0m\u001b[1;33m.\u001b[0m\u001b[0mremove\u001b[0m\u001b[1;33m(\u001b[0m\u001b[1;36m100\u001b[0m\u001b[1;33m)\u001b[0m\u001b[1;33m\u001b[0m\u001b[1;33m\u001b[0m\u001b[0m\n\u001b[0m",
      "\u001b[1;31mValueError\u001b[0m: list.remove(x): x not in list"
     ]
    }
   ],
   "source": [
    "x.remove(100)"
   ]
  },
  {
   "cell_type": "code",
   "execution_count": 1,
   "id": "00415a4b",
   "metadata": {},
   "outputs": [
    {
     "ename": "NameError",
     "evalue": "name 'x' is not defined",
     "output_type": "error",
     "traceback": [
      "\u001b[1;31m---------------------------------------------------------------------------\u001b[0m",
      "\u001b[1;31mNameError\u001b[0m                                 Traceback (most recent call last)",
      "\u001b[1;32m~\\AppData\\Local\\Temp/ipykernel_10460/1441393178.py\u001b[0m in \u001b[0;36m<module>\u001b[1;34m\u001b[0m\n\u001b[1;32m----> 1\u001b[1;33m \u001b[0mx\u001b[0m\u001b[1;33m.\u001b[0m\u001b[0mremove\u001b[0m\u001b[1;33m(\u001b[0m\u001b[0mx\u001b[0m\u001b[1;33m[\u001b[0m\u001b[1;36m0\u001b[0m\u001b[1;33m]\u001b[0m\u001b[1;33m)\u001b[0m\u001b[1;33m\u001b[0m\u001b[1;33m\u001b[0m\u001b[0m\n\u001b[0m",
      "\u001b[1;31mNameError\u001b[0m: name 'x' is not defined"
     ]
    }
   ],
   "source": [
    "x.remove(x[0])"
   ]
  },
  {
   "cell_type": "code",
   "execution_count": null,
   "id": "668c9b89",
   "metadata": {},
   "outputs": [],
   "source": []
  }
 ],
 "metadata": {
  "kernelspec": {
   "display_name": "Python 3 (ipykernel)",
   "language": "python",
   "name": "python3"
  },
  "language_info": {
   "codemirror_mode": {
    "name": "ipython",
    "version": 3
   },
   "file_extension": ".py",
   "mimetype": "text/x-python",
   "name": "python",
   "nbconvert_exporter": "python",
   "pygments_lexer": "ipython3",
   "version": "3.9.7"
  }
 },
 "nbformat": 4,
 "nbformat_minor": 5
}
