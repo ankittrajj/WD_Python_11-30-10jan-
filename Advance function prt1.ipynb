{
 "cells": [
  {
   "cell_type": "code",
   "execution_count": 1,
   "id": "f29c67ab",
   "metadata": {},
   "outputs": [
    {
     "data": {
      "text/plain": [
       "3"
      ]
     },
     "execution_count": 1,
     "metadata": {},
     "output_type": "execute_result"
    }
   ],
   "source": [
    "#lambda -----> Anonymous function / one liner function.\n",
    "#wap to add two numbers:-\n",
    "\n",
    "\n",
    "c = lambda a,b:a+b\n",
    "c(1,2)\n"
   ]
  },
  {
   "cell_type": "code",
   "execution_count": 2,
   "id": "b6b1da80",
   "metadata": {},
   "outputs": [
    {
     "data": {
      "text/plain": [
       "10"
      ]
     },
     "execution_count": 2,
     "metadata": {},
     "output_type": "execute_result"
    }
   ],
   "source": [
    "x = lambda a:a+5\n",
    "x(5)"
   ]
  },
  {
   "cell_type": "code",
   "execution_count": 3,
   "id": "2aa5e64c",
   "metadata": {},
   "outputs": [
    {
     "name": "stdout",
     "output_type": "stream",
     "text": [
      "80\n",
      "79\n",
      "67\n"
     ]
    }
   ],
   "source": [
    "#filter function.....\n",
    "# find the data where output should be greater than 60.\n",
    "a = [20,89,67,56,90,99,56,45,88,78,67,55]\n",
    "a=[80,16,20,56,79,67,34,45]\n",
    "for i in a:\n",
    "    if i>=60:\n",
    "        print(i)"
   ]
  },
  {
   "cell_type": "code",
   "execution_count": 4,
   "id": "f23d5d35",
   "metadata": {},
   "outputs": [
    {
     "name": "stdout",
     "output_type": "stream",
     "text": [
      "80\n",
      "79\n",
      "67\n"
     ]
    }
   ],
   "source": [
    "for i in a:\n",
    "    if i>60:\n",
    "        print(i)"
   ]
  },
  {
   "cell_type": "code",
   "execution_count": 6,
   "id": "c7e26383",
   "metadata": {},
   "outputs": [
    {
     "name": "stdout",
     "output_type": "stream",
     "text": [
      "89\n",
      "67\n",
      "90\n",
      "99\n",
      "88\n",
      "78\n",
      "67\n"
     ]
    }
   ],
   "source": [
    "a = [20,89,67,56,90,99,56,45,88,78,67,55]\n",
    "def func(a):\n",
    "    for i in a:\n",
    "        if i>60:\n",
    "            print(i)\n",
    "            \n",
    "func(a)\n",
    "    "
   ]
  },
  {
   "cell_type": "code",
   "execution_count": 12,
   "id": "30ed97a6",
   "metadata": {},
   "outputs": [
    {
     "data": {
      "text/plain": [
       "[89, 67, 90, 99, 88, 78, 67]"
      ]
     },
     "execution_count": 12,
     "metadata": {},
     "output_type": "execute_result"
    }
   ],
   "source": [
    "a = [20,89,67,56,90,99,56,45,88,78,67,55]\n",
    "def func(a):\n",
    "    \n",
    "#     for i in a:\n",
    "    if a>60:\n",
    "        return True\n",
    "    else:\n",
    "        return False\n",
    "            \n",
    "x = list(filter(func,a))\n",
    "x\n",
    "    "
   ]
  },
  {
   "cell_type": "code",
   "execution_count": 22,
   "id": "9cc32e29",
   "metadata": {},
   "outputs": [
    {
     "name": "stdout",
     "output_type": "stream",
     "text": [
      "(89, 67, 90, 99, 88, 78, 67)\n"
     ]
    }
   ],
   "source": [
    "a = [20,89,67,56,90,99,56,45,88,78,67,55]\n",
    "def fun(a):\n",
    "    if a>60:\n",
    "        return True\n",
    "    else:\n",
    "        return False\n",
    "    \n",
    "print(tuple(filter(fun,a)))\n",
    "    "
   ]
  },
  {
   "cell_type": "code",
   "execution_count": 16,
   "id": "6a4c26bd",
   "metadata": {},
   "outputs": [
    {
     "name": "stdout",
     "output_type": "stream",
     "text": [
      "[]\n"
     ]
    }
   ],
   "source": [
    "a=[20,89,76,45,79,34,67,2,56,53,55,23,43]\n",
    "def func(a):\n",
    "    if i>60:\n",
    "        return True\n",
    "    else:\n",
    "        return False\n",
    "\n",
    "print(list(filter(func,a)))\n"
   ]
  },
  {
   "cell_type": "code",
   "execution_count": 26,
   "id": "7a179250",
   "metadata": {},
   "outputs": [
    {
     "name": "stdout",
     "output_type": "stream",
     "text": [
      "[89, 76, 79, 67]\n"
     ]
    }
   ],
   "source": [
    "a=[20,89,76,45,79,34,67,2,56,53,55,23,43]\n",
    "x = lambda a: True if a>60 else False\n",
    "print(list(filter(x,a)))\n"
   ]
  },
  {
   "cell_type": "code",
   "execution_count": 28,
   "id": "d9f5d700",
   "metadata": {},
   "outputs": [
    {
     "data": {
      "text/plain": [
       "[89, 76, 79, 67]"
      ]
     },
     "execution_count": 28,
     "metadata": {},
     "output_type": "execute_result"
    }
   ],
   "source": [
    "a=[20,89,76,45,79,34,67,2,56,53,55,23,43]\n",
    "c = list(filter(lambda a: True if a>60 else False,a))\n",
    "c"
   ]
  },
  {
   "cell_type": "code",
   "execution_count": 29,
   "id": "1738ca97",
   "metadata": {},
   "outputs": [
    {
     "data": {
      "text/plain": [
       "[7921, 5776, 6241, 4489]"
      ]
     },
     "execution_count": 29,
     "metadata": {},
     "output_type": "execute_result"
    }
   ],
   "source": [
    "#map function-----> operation \n",
    "z = list(map(lambda a:a**2,c))\n",
    "z"
   ]
  },
  {
   "cell_type": "code",
   "execution_count": 30,
   "id": "2ffc0009",
   "metadata": {},
   "outputs": [
    {
     "name": "stdout",
     "output_type": "stream",
     "text": [
      "[7921, 5776, 6241, 4489]\n"
     ]
    }
   ],
   "source": [
    "print(list(map(lambda a:a**2,c)))\n",
    "# z"
   ]
  },
  {
   "cell_type": "code",
   "execution_count": 32,
   "id": "74025a81",
   "metadata": {},
   "outputs": [
    {
     "data": {
      "text/plain": [
       "(1728, 125, 343, 729)"
      ]
     },
     "execution_count": 32,
     "metadata": {},
     "output_type": "execute_result"
    }
   ],
   "source": [
    "# Write a Python program to triple \n",
    "# all numbers of a given list of integers. \n",
    "# Use Python map\n",
    "a = [12,5,7,9]\n",
    "tuple(map(lambda b:b**3,a))"
   ]
  },
  {
   "cell_type": "code",
   "execution_count": 33,
   "id": "1d28ec17",
   "metadata": {},
   "outputs": [
    {
     "name": "stdout",
     "output_type": "stream",
     "text": [
      "[18, 21, 24, 27, 30]\n"
     ]
    }
   ],
   "source": [
    "# Write a Python program to add three number\n",
    "# given lists using Python map and lambda.\n",
    "x=[1,2,3,4,5,6,7,8,9,0]\n",
    "data1= [1,2,3,4,5]\n",
    "data2= [6,7,8,9,10]\n",
    "data3= [11,12,13,14,15]\n",
    "print(list(map(lambda d1,d2,d3:d1+d2+d3,data1,data2,data3)))"
   ]
  },
  {
   "cell_type": "code",
   "execution_count": 34,
   "id": "3bc7e83d",
   "metadata": {},
   "outputs": [
    {
     "data": {
      "text/plain": [
       "[70, 168, 222, 100, 198]"
      ]
     },
     "execution_count": 34,
     "metadata": {},
     "output_type": "execute_result"
    }
   ],
   "source": [
    "a= [23,45,68,55,90]\n",
    "b= [35,67,78,13,10]\n",
    "c= [12,56,76,32,98]\n",
    "list(map(lambda a,b,c: a+b+c,a,b,c))"
   ]
  },
  {
   "cell_type": "code",
   "execution_count": 37,
   "id": "254a087b",
   "metadata": {},
   "outputs": [],
   "source": [
    "# Wap to find the highest salary of some individuals\n",
    "# and also try to get the double of the highest salary .\n",
    "\n",
    "#wap to where a student have some certain subject also have\n",
    "# some  decent marks but also failed in 2 subjects. your\n",
    "# task is to find the number of failing marks and also\n",
    "# try to to give him some grace marking so that he/she \n",
    "# can pass with flying colors.\n",
    "\n",
    "a = [1,2,3,4,5,6,7,8,9,0]\n",
    "c = list(filter(lambda a: True if a>6 else False,a))"
   ]
  },
  {
   "cell_type": "code",
   "execution_count": 38,
   "id": "3340eb7c",
   "metadata": {},
   "outputs": [
    {
     "data": {
      "text/plain": [
       "[7, 8, 9]"
      ]
     },
     "execution_count": 38,
     "metadata": {},
     "output_type": "execute_result"
    }
   ],
   "source": [
    "c"
   ]
  },
  {
   "cell_type": "code",
   "execution_count": null,
   "id": "4397165b",
   "metadata": {},
   "outputs": [],
   "source": [
    "map(lambda a:a*2,c)"
   ]
  }
 ],
 "metadata": {
  "kernelspec": {
   "display_name": "Python 3 (ipykernel)",
   "language": "python",
   "name": "python3"
  },
  "language_info": {
   "codemirror_mode": {
    "name": "ipython",
    "version": 3
   },
   "file_extension": ".py",
   "mimetype": "text/x-python",
   "name": "python",
   "nbconvert_exporter": "python",
   "pygments_lexer": "ipython3",
   "version": "3.9.7"
  }
 },
 "nbformat": 4,
 "nbformat_minor": 5
}
