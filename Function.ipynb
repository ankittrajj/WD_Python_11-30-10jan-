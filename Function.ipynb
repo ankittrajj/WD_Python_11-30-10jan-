{
 "cells": [
  {
   "cell_type": "code",
   "execution_count": 1,
   "id": "ccd5fc36",
   "metadata": {},
   "outputs": [],
   "source": [
    "# def fun_name():\n",
    "#     print('Msg')\n",
    "    \n",
    "    \n",
    "# call the fun\n",
    "\n",
    "def a():\n",
    "    print('Hello I am from function')"
   ]
  },
  {
   "cell_type": "code",
   "execution_count": 2,
   "id": "b1f1ba31",
   "metadata": {},
   "outputs": [
    {
     "name": "stdout",
     "output_type": "stream",
     "text": [
      "Hello I am from function\n"
     ]
    }
   ],
   "source": [
    "a()"
   ]
  },
  {
   "cell_type": "code",
   "execution_count": null,
   "id": "fb0e7c8b",
   "metadata": {},
   "outputs": [],
   "source": [
    "#wap using function to print a msg-----> 'welcome to function'"
   ]
  },
  {
   "cell_type": "code",
   "execution_count": 4,
   "id": "471a49a9",
   "metadata": {},
   "outputs": [
    {
     "name": "stdout",
     "output_type": "stream",
     "text": [
      "10\n"
     ]
    }
   ],
   "source": [
    "#wap to add two numbers and print the output.\n",
    "def add():\n",
    "    a=9\n",
    "    b=1\n",
    "    c = a+b\n",
    "    print(c)\n",
    "add()"
   ]
  },
  {
   "cell_type": "code",
   "execution_count": null,
   "id": "d33bb97b",
   "metadata": {},
   "outputs": [],
   "source": [
    "#4 type of function\n",
    "\n",
    "# no return no arg\n",
    "# with arg no return\n",
    "# with arg with return\n",
    "# with return no arg"
   ]
  },
  {
   "cell_type": "code",
   "execution_count": 5,
   "id": "3c3af741",
   "metadata": {},
   "outputs": [
    {
     "name": "stdout",
     "output_type": "stream",
     "text": [
      "10\n"
     ]
    }
   ],
   "source": [
    "# no arg no return \n",
    "def add():\n",
    "    a=9\n",
    "    b=1\n",
    "    c = a+b\n",
    "    print(c)\n",
    "add()"
   ]
  },
  {
   "cell_type": "code",
   "execution_count": 6,
   "id": "e773f3b7",
   "metadata": {},
   "outputs": [
    {
     "name": "stdout",
     "output_type": "stream",
     "text": [
      "19\n"
     ]
    }
   ],
   "source": [
    "#with arg no return\n",
    "def add(a,b):\n",
    "    c=a+b\n",
    "    print(c)\n",
    "add(9,10)"
   ]
  },
  {
   "cell_type": "code",
   "execution_count": 9,
   "id": "88b5b2eb",
   "metadata": {},
   "outputs": [
    {
     "data": {
      "text/plain": [
       "-88"
      ]
     },
     "execution_count": 9,
     "metadata": {},
     "output_type": "execute_result"
    }
   ],
   "source": [
    "#with arg with return\n",
    "# min---->\n",
    "def sub(x,y):\n",
    "#     result = x-y\n",
    "    return x-y\n",
    "sub(2,90)"
   ]
  },
  {
   "cell_type": "code",
   "execution_count": 10,
   "id": "d1731a4a",
   "metadata": {},
   "outputs": [
    {
     "data": {
      "text/plain": [
       "10"
      ]
     },
     "execution_count": 10,
     "metadata": {},
     "output_type": "execute_result"
    }
   ],
   "source": [
    "#with return no arg\n",
    "def add():\n",
    "    a=9\n",
    "    b=1\n",
    "    return a+b\n",
    "add()"
   ]
  },
  {
   "cell_type": "code",
   "execution_count": 12,
   "id": "091464b7",
   "metadata": {},
   "outputs": [
    {
     "name": "stdout",
     "output_type": "stream",
     "text": [
      "15\n"
     ]
    }
   ],
   "source": [
    "#wap to find max no. from three numbers using function.\n",
    "#wap to find min no. from three numbers using function.\n",
    "#Wap to sum all number present in a list.\n",
    "#wap to check a string is reversed or not?\n",
    "#Wap to find odd number using function\n",
    "#wap to find even no. using function.\n",
    "# Write a function to check a string is palindrome or not?\n",
    "#Wap to sum the first 10 natural numbers using function?\n",
    "def add_l():\n",
    "    a=[1,2,3,4,5]\n",
    "    add = sum(a)\n",
    "    print(add)\n",
    "add_l()"
   ]
  },
  {
   "cell_type": "code",
   "execution_count": 22,
   "id": "feaf8754",
   "metadata": {},
   "outputs": [
    {
     "name": "stdout",
     "output_type": "stream",
     "text": [
      "210\n"
     ]
    }
   ],
   "source": [
    "def adding(x):\n",
    "    x = [10,20,30,40,50,60]\n",
    "    add = 0\n",
    "    for i in x:\n",
    "        add= add +i\n",
    "    print (add)\n",
    "adding(x)"
   ]
  },
  {
   "cell_type": "code",
   "execution_count": 31,
   "id": "c6713354",
   "metadata": {},
   "outputs": [
    {
     "name": "stdout",
     "output_type": "stream",
     "text": [
      "24\n"
     ]
    }
   ],
   "source": [
    "def plus(l):\n",
    "    sum=0\n",
    "    for i in l:\n",
    "        sum=sum+i\n",
    "    print(sum)\n",
    "#         print(sum)\n",
    "#         i+=1\n",
    "\n",
    "l=[1,3,5,7,8]\n",
    "plus(l)"
   ]
  },
  {
   "cell_type": "code",
   "execution_count": 38,
   "id": "ee49f3ca",
   "metadata": {},
   "outputs": [
    {
     "name": "stdout",
     "output_type": "stream",
     "text": [
      "rac\n",
      "reverse\n"
     ]
    }
   ],
   "source": [
    "#reverse a string\n",
    "def reverse():\n",
    "        a = 'car'\n",
    "        rev = ''\n",
    "        for i in a:\n",
    "        #     print(i)\n",
    "            rev = i+rev\n",
    "        print(rev)\n",
    "        if a==rev:\n",
    "            print('Not reverse')\n",
    "        else:\n",
    "            print('reverse')\n",
    "reverse()"
   ]
  },
  {
   "cell_type": "code",
   "execution_count": 50,
   "id": "197f5697",
   "metadata": {},
   "outputs": [
    {
     "name": "stdout",
     "output_type": "stream",
     "text": [
      "hsakiv\n",
      "Not palindrome\n"
     ]
    }
   ],
   "source": [
    "a='vikash'\n",
    "b=''\n",
    "# pal = 0\n",
    "for i in a:\n",
    "#     print(i)\n",
    "    b = i+b\n",
    "print(b)\n",
    "if a==b:\n",
    "    print('Palindronm')\n",
    "else:\n",
    "    print('Not palindrome')\n",
    "    "
   ]
  },
  {
   "cell_type": "code",
   "execution_count": 5,
   "id": "91ca9f87",
   "metadata": {},
   "outputs": [
    {
     "name": "stdout",
     "output_type": "stream",
     "text": [
      "55\n"
     ]
    }
   ],
   "source": [
    "#first 10 natural num.\n",
    "def natural_no():\n",
    "    a = [1,2,3,4,5,6,7,8,9,10]\n",
    "    add = 0\n",
    "    for i in a:\n",
    "        add = add+i\n",
    "    print(add)\n",
    "    \n",
    "natural_no()"
   ]
  },
  {
   "cell_type": "code",
   "execution_count": 13,
   "id": "18c4c9b2",
   "metadata": {},
   "outputs": [
    {
     "data": {
      "text/plain": [
       "55"
      ]
     },
     "execution_count": 13,
     "metadata": {},
     "output_type": "execute_result"
    }
   ],
   "source": [
    "def nat_no():\n",
    "    add = 0\n",
    "    for i in range(1,11):\n",
    "        add = add+i\n",
    "    return add\n",
    "#     print(add)\n",
    "nat_no()"
   ]
  },
  {
   "cell_type": "code",
   "execution_count": 11,
   "id": "9c07ccb4",
   "metadata": {},
   "outputs": [
    {
     "data": {
      "text/plain": [
       "55"
      ]
     },
     "execution_count": 11,
     "metadata": {},
     "output_type": "execute_result"
    }
   ],
   "source": [
    "def naturalNumbers():\n",
    "    result = 0\n",
    "    for i in range(11):\n",
    "        result = result + i\n",
    "    return result\n",
    "\n",
    "naturalNumbers()\n"
   ]
  },
  {
   "cell_type": "code",
   "execution_count": 21,
   "id": "70310fdf",
   "metadata": {},
   "outputs": [
    {
     "data": {
      "text/plain": [
       "24"
      ]
     },
     "execution_count": 21,
     "metadata": {},
     "output_type": "execute_result"
    }
   ],
   "source": [
    "#function----> 4 parts\n",
    "# default arguments\n",
    "\n",
    "def student(a=10,b=5,c=9):\n",
    "    result = a+b+c\n",
    "    return result\n",
    "\n",
    "student()\n",
    "    "
   ]
  },
  {
   "cell_type": "code",
   "execution_count": 18,
   "id": "dc405040",
   "metadata": {},
   "outputs": [
    {
     "data": {
      "text/plain": [
       "12"
      ]
     },
     "execution_count": 18,
     "metadata": {},
     "output_type": "execute_result"
    }
   ],
   "source": [
    "student(1,2)"
   ]
  },
  {
   "cell_type": "code",
   "execution_count": 19,
   "id": "05e7ae43",
   "metadata": {},
   "outputs": [
    {
     "ename": "TypeError",
     "evalue": "student() missing 1 required positional argument: 'a'",
     "output_type": "error",
     "traceback": [
      "\u001b[1;31m---------------------------------------------------------------------------\u001b[0m",
      "\u001b[1;31mTypeError\u001b[0m                                 Traceback (most recent call last)",
      "\u001b[1;32m~\\AppData\\Local\\Temp/ipykernel_8884/367909189.py\u001b[0m in \u001b[0;36m<module>\u001b[1;34m\u001b[0m\n\u001b[1;32m----> 1\u001b[1;33m \u001b[0mstudent\u001b[0m\u001b[1;33m(\u001b[0m\u001b[1;33m)\u001b[0m\u001b[1;33m\u001b[0m\u001b[1;33m\u001b[0m\u001b[0m\n\u001b[0m",
      "\u001b[1;31mTypeError\u001b[0m: student() missing 1 required positional argument: 'a'"
     ]
    }
   ],
   "source": [
    "student()"
   ]
  },
  {
   "cell_type": "code",
   "execution_count": 20,
   "id": "22493e40",
   "metadata": {},
   "outputs": [
    {
     "data": {
      "text/plain": [
       "15"
      ]
     },
     "execution_count": 20,
     "metadata": {},
     "output_type": "execute_result"
    }
   ],
   "source": [
    "student(1)"
   ]
  },
  {
   "cell_type": "code",
   "execution_count": null,
   "id": "320189e9",
   "metadata": {},
   "outputs": [],
   "source": [
    "# Wap to calculate the percentage of 5 students??\n",
    "\n",
    "# Wap to find out the average cost of 5 quantity each\n",
    "# quantity is having the value of 80 and if the value exceed by\n",
    "# avg value then also calculate the total price of whole quantity\n",
    "# avg value => 350\n",
    "\n",
    "# Wap to find the area and circumference of circle and also try to find\n",
    "# if this circle is going to be square or not?\n",
    "\n",
    "# Calculate the total area of a land having l=20 b=30.If the land\n",
    "# is greater than 100sq fit then also calculate the cost of \n",
    "# remaining land. Price of land is 20000K.\n",
    "\n",
    "\n"
   ]
  },
  {
   "cell_type": "code",
   "execution_count": 27,
   "id": "beac252a",
   "metadata": {},
   "outputs": [
    {
     "name": "stdout",
     "output_type": "stream",
     "text": [
      "Avg value is low\n"
     ]
    }
   ],
   "source": [
    "# Wap to find out the average cost of 5 quantity each\n",
    "# quantity is having the value of 80 and if the value exceed by\n",
    "# avg value then also calculate the total price of whole quantity\n",
    "# avg value => 350\n",
    "def price():\n",
    "    single_price = 80\n",
    "    total_quantity = 5\n",
    "    total_price= single_price*total_quantity\n",
    "    # print(\"Total price----->\",total_price)\n",
    "    avg_price = total_price/total_quantity\n",
    "    # print(\"Average Price------->\",avg_price)\n",
    "\n",
    "    if avg_price >350:\n",
    "        total_price= single_price*total_quantity\n",
    "        print(total_price)\n",
    "    else:\n",
    "        print(\"Avg value is low\")\n",
    "price()\n",
    "    "
   ]
  },
  {
   "cell_type": "code",
   "execution_count": 31,
   "id": "b2d5de36",
   "metadata": {},
   "outputs": [
    {
     "name": "stdout",
     "output_type": "stream",
     "text": [
      "600\n",
      "Remaining cost of land ----> 10000000\n"
     ]
    }
   ],
   "source": [
    "# Calculate the total area of a land having l=20 b=30.If the land\n",
    "# is greater than 100sq fit then also calculate the cost of \n",
    "# remaining land. Price of land is 20000K.\n",
    "def area_of_land(l,b,price=20000):\n",
    "    area = l*b\n",
    "    print(area)\n",
    "    \n",
    "    if area>100:\n",
    "        remaining_land = area-100\n",
    "        remain_cost= price*remaining_land\n",
    "        print(\"Remaining cost of land ---->\",remain_cost)\n",
    "area_of_land(20,30)"
   ]
  },
  {
   "cell_type": "code",
   "execution_count": 42,
   "id": "b7b09665",
   "metadata": {},
   "outputs": [
    {
     "name": "stdout",
     "output_type": "stream",
     "text": [
      "Percent obtain = 18.75 %\n"
     ]
    }
   ],
   "source": [
    "# Wap to calculate the percentage of 5 students??\n",
    "def perc():\n",
    "    a=[1,2,3,4,5]\n",
    "    add = 0\n",
    "    total_marks = 80\n",
    "    for i in a:\n",
    "        add=add+i\n",
    "#     print(add)\n",
    "    per = (add/total_marks)*100\n",
    "    print(\"Percent obtain =\",per,\"%\")\n",
    "perc()\n",
    "    \n",
    "# per = (a/5)*100\n",
    "# per"
   ]
  },
  {
   "cell_type": "code",
   "execution_count": 44,
   "id": "66854f19",
   "metadata": {},
   "outputs": [
    {
     "name": "stdout",
     "output_type": "stream",
     "text": [
      "Percent obtain = 18.75 %\n"
     ]
    }
   ],
   "source": [
    "def perc():\n",
    "    a=[1,2,3,4,5]\n",
    "    x = sum(a)\n",
    "    total_marks = 80\n",
    "    per = (x/total_marks)*100\n",
    "    print(\"Percent obtain =\",per,\"%\")\n",
    "perc()"
   ]
  },
  {
   "cell_type": "code",
   "execution_count": 43,
   "id": "a931408d",
   "metadata": {},
   "outputs": [
    {
     "data": {
      "text/plain": [
       "15"
      ]
     },
     "execution_count": 43,
     "metadata": {},
     "output_type": "execute_result"
    }
   ],
   "source": [
    "a=[1,2,3,4,5]\n",
    "x = sum(a)\n",
    "x\n",
    "# total_marks = 80"
   ]
  },
  {
   "cell_type": "code",
   "execution_count": 52,
   "id": "b47830c6",
   "metadata": {},
   "outputs": [
    {
     "name": "stdout",
     "output_type": "stream",
     "text": [
      "Unfit\n"
     ]
    }
   ],
   "source": [
    "# Wap to find the area and circumference of circle and also\n",
    "# try to find\n",
    "# # if this circle is going to be square or not?\n",
    "def fit():\n",
    "    r = 9\n",
    "    area_cir = (22/7)*r**2\n",
    "    area_cir\n",
    "    circum = 2*3.14*r\n",
    "    circum\n",
    "\n",
    "    a=2\n",
    "    area_of_squ = a**2\n",
    "    area_of_squ\n",
    "\n",
    "    if area_cir == area_of_squ:\n",
    "        print('Fit')\n",
    "    else:\n",
    "        print('Unfit')\n",
    "fit()"
   ]
  },
  {
   "cell_type": "code",
   "execution_count": 59,
   "id": "1b93010b",
   "metadata": {},
   "outputs": [
    {
     "name": "stdout",
     "output_type": "stream",
     "text": [
      "Enter the marks23\n"
     ]
    },
    {
     "ename": "TypeError",
     "evalue": "'int' object is not iterable",
     "output_type": "error",
     "traceback": [
      "\u001b[1;31m---------------------------------------------------------------------------\u001b[0m",
      "\u001b[1;31mTypeError\u001b[0m                                 Traceback (most recent call last)",
      "\u001b[1;32m~\\AppData\\Local\\Temp/ipykernel_8884/4110748852.py\u001b[0m in \u001b[0;36m<module>\u001b[1;34m\u001b[0m\n\u001b[0;32m      4\u001b[0m     \u001b[0mmarks\u001b[0m\u001b[1;33m.\u001b[0m\u001b[0mappend\u001b[0m\u001b[1;33m(\u001b[0m\u001b[0ma\u001b[0m\u001b[1;33m)\u001b[0m\u001b[1;33m\u001b[0m\u001b[1;33m\u001b[0m\u001b[0m\n\u001b[0;32m      5\u001b[0m \u001b[1;33m\u001b[0m\u001b[0m\n\u001b[1;32m----> 6\u001b[1;33m     \u001b[0mtotal_marks\u001b[0m \u001b[1;33m=\u001b[0m \u001b[0msum\u001b[0m\u001b[1;33m(\u001b[0m\u001b[0ma\u001b[0m\u001b[1;33m)\u001b[0m\u001b[1;33m\u001b[0m\u001b[1;33m\u001b[0m\u001b[0m\n\u001b[0m\u001b[0;32m      7\u001b[0m \u001b[0mprint\u001b[0m\u001b[1;33m(\u001b[0m\u001b[0mmarks\u001b[0m\u001b[1;33m)\u001b[0m\u001b[1;33m\u001b[0m\u001b[1;33m\u001b[0m\u001b[0m\n\u001b[0;32m      8\u001b[0m \u001b[0mprint\u001b[0m\u001b[1;33m(\u001b[0m\u001b[0mtotal_marks\u001b[0m\u001b[1;33m)\u001b[0m\u001b[1;33m\u001b[0m\u001b[1;33m\u001b[0m\u001b[0m\n",
      "\u001b[1;31mTypeError\u001b[0m: 'int' object is not iterable"
     ]
    }
   ],
   "source": [
    "marks = []\n",
    "for i in range(5):\n",
    "    a=int(input('Enter the marks'))\n",
    "    marks.append(a)\n",
    "    \n",
    "    total_marks = sum(a)\n",
    "print(marks)\n",
    "print(total_marks)\n",
    "\n",
    "    \n",
    "\n",
    "    "
   ]
  },
  {
   "cell_type": "code",
   "execution_count": null,
   "id": "0e188fc4",
   "metadata": {},
   "outputs": [],
   "source": []
  },
  {
   "cell_type": "code",
   "execution_count": null,
   "id": "5d0e6924",
   "metadata": {},
   "outputs": [],
   "source": []
  },
  {
   "cell_type": "code",
   "execution_count": 3,
   "id": "e996461d",
   "metadata": {},
   "outputs": [
    {
     "name": "stdout",
     "output_type": "stream",
     "text": [
      "Hello I am from function\n"
     ]
    }
   ],
   "source": [
    "a()"
   ]
  },
  {
   "cell_type": "code",
   "execution_count": null,
   "id": "8d34f037",
   "metadata": {},
   "outputs": [],
   "source": []
  }
 ],
 "metadata": {
  "kernelspec": {
   "display_name": "Python 3 (ipykernel)",
   "language": "python",
   "name": "python3"
  },
  "language_info": {
   "codemirror_mode": {
    "name": "ipython",
    "version": 3
   },
   "file_extension": ".py",
   "mimetype": "text/x-python",
   "name": "python",
   "nbconvert_exporter": "python",
   "pygments_lexer": "ipython3",
   "version": "3.9.7"
  }
 },
 "nbformat": 4,
 "nbformat_minor": 5
}
