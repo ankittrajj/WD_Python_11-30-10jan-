{
 "cells": [
  {
   "cell_type": "code",
   "execution_count": 1,
   "id": "ca018f90",
   "metadata": {},
   "outputs": [],
   "source": [
    "# def fun_name():\n",
    "#     print('Msg')\n",
    "    \n",
    "    \n",
    "# call the fun\n",
    "\n",
    "def a():\n",
    "    print('Hello I am from function')"
   ]
  },
  {
   "cell_type": "code",
   "execution_count": 2,
   "id": "3ab1d9d8",
   "metadata": {},
   "outputs": [
    {
     "name": "stdout",
     "output_type": "stream",
     "text": [
      "Hello I am from function\n"
     ]
    }
   ],
   "source": [
    "a()"
   ]
  },
  {
   "cell_type": "code",
   "execution_count": null,
   "id": "bcfebcfc",
   "metadata": {},
   "outputs": [],
   "source": [
    "#wap using function to print a msg-----> 'welcome to function'"
   ]
  },
  {
   "cell_type": "code",
   "execution_count": 4,
   "id": "b4391e9d",
   "metadata": {},
   "outputs": [
    {
     "name": "stdout",
     "output_type": "stream",
     "text": [
      "10\n"
     ]
    }
   ],
   "source": [
    "#wap to add two numbers and print the output.\n",
    "def add():\n",
    "    a=9\n",
    "    b=1\n",
    "    c = a+b\n",
    "    print(c)\n",
    "add()"
   ]
  },
  {
   "cell_type": "code",
   "execution_count": null,
   "id": "f9371fe4",
   "metadata": {},
   "outputs": [],
   "source": [
    "#4 type of function\n",
    "\n",
    "# no return no arg\n",
    "# with arg no return\n",
    "# with arg with return\n",
    "# with return no arg"
   ]
  },
  {
   "cell_type": "code",
   "execution_count": 5,
   "id": "9cfa8c3e",
   "metadata": {},
   "outputs": [
    {
     "name": "stdout",
     "output_type": "stream",
     "text": [
      "10\n"
     ]
    }
   ],
   "source": [
    "# no arg no return \n",
    "def add():\n",
    "    a=9\n",
    "    b=1\n",
    "    c = a+b\n",
    "    print(c)\n",
    "add()"
   ]
  },
  {
   "cell_type": "code",
   "execution_count": 6,
   "id": "d53aeaec",
   "metadata": {},
   "outputs": [
    {
     "name": "stdout",
     "output_type": "stream",
     "text": [
      "19\n"
     ]
    }
   ],
   "source": [
    "#with arg no return\n",
    "def add(a,b):\n",
    "    c=a+b\n",
    "    print(c)\n",
    "add(9,10)"
   ]
  },
  {
   "cell_type": "code",
   "execution_count": 9,
   "id": "9a21ee38",
   "metadata": {},
   "outputs": [
    {
     "data": {
      "text/plain": [
       "-88"
      ]
     },
     "execution_count": 9,
     "metadata": {},
     "output_type": "execute_result"
    }
   ],
   "source": [
    "#with arg with return\n",
    "# min---->\n",
    "def sub(x,y):\n",
    "#     result = x-y\n",
    "    return x-y\n",
    "sub(2,90)"
   ]
  },
  {
   "cell_type": "code",
   "execution_count": 10,
   "id": "afcc7495",
   "metadata": {},
   "outputs": [
    {
     "data": {
      "text/plain": [
       "10"
      ]
     },
     "execution_count": 10,
     "metadata": {},
     "output_type": "execute_result"
    }
   ],
   "source": [
    "#with return no arg\n",
    "def add():\n",
    "    a=9\n",
    "    b=1\n",
    "    return a+b\n",
    "add()"
   ]
  },
  {
   "cell_type": "code",
   "execution_count": 12,
   "id": "34050906",
   "metadata": {},
   "outputs": [
    {
     "name": "stdout",
     "output_type": "stream",
     "text": [
      "15\n"
     ]
    }
   ],
   "source": [
    "#wap to find max no. from three numbers using function.\n",
    "#wap to find min no. from three numbers using function.\n",
    "#Wap to sum all number present in a list.\n",
    "#wap to check a string is reversed or not?\n",
    "#Wap to find odd number using function\n",
    "#wap to find even no. using function.\n",
    "# Write a function to check a string is palindrome or not?\n",
    "#Wap to sum the first 10 natural numbers using function?\n",
    "def add_l():\n",
    "    a=[1,2,3,4,5]\n",
    "    add = sum(a)\n",
    "    print(add)\n",
    "add_l()"
   ]
  },
  {
   "cell_type": "code",
   "execution_count": 22,
   "id": "da625e07",
   "metadata": {},
   "outputs": [
    {
     "name": "stdout",
     "output_type": "stream",
     "text": [
      "210\n"
     ]
    }
   ],
   "source": [
    "def adding(x):\n",
    "    x = [10,20,30,40,50,60]\n",
    "    add = 0\n",
    "    for i in x:\n",
    "        add= add +i\n",
    "    print (add)\n",
    "adding(x)"
   ]
  },
  {
   "cell_type": "code",
   "execution_count": 31,
   "id": "12e8eac4",
   "metadata": {},
   "outputs": [
    {
     "name": "stdout",
     "output_type": "stream",
     "text": [
      "24\n"
     ]
    }
   ],
   "source": [
    "def plus(l):\n",
    "    sum=0\n",
    "    for i in l:\n",
    "        sum=sum+i\n",
    "    print(sum)\n",
    "#         print(sum)\n",
    "#         i+=1\n",
    "\n",
    "l=[1,3,5,7,8]\n",
    "plus(l)"
   ]
  },
  {
   "cell_type": "code",
   "execution_count": 38,
   "id": "504d95ce",
   "metadata": {},
   "outputs": [
    {
     "name": "stdout",
     "output_type": "stream",
     "text": [
      "rac\n",
      "reverse\n"
     ]
    }
   ],
   "source": [
    "#reverse a string\n",
    "def reverse():\n",
    "        a = 'car'\n",
    "        rev = ''\n",
    "        for i in a:\n",
    "        #     print(i)\n",
    "            rev = i+rev\n",
    "        print(rev)\n",
    "        if a==rev:\n",
    "            print('Not reverse')\n",
    "        else:\n",
    "            print('reverse')\n",
    "reverse()"
   ]
  },
  {
   "cell_type": "code",
   "execution_count": 48,
   "id": "29af0f6a",
   "metadata": {},
   "outputs": [
    {
     "name": "stdout",
     "output_type": "stream",
     "text": [
      "v\n",
      "i\n",
      "k\n",
      "a\n",
      "s\n",
      "h\n",
      "hsakiv\n"
     ]
    }
   ],
   "source": [
    "a='vikash'\n",
    "b=''\n",
    "# pal = 0\n",
    "for i in a:\n",
    "    print(i)\n",
    "    b = i+b\n",
    "print(b)\n",
    "# if a==b:\n",
    "#     print('Palindronm')\n",
    "# else:\n",
    "#     print('Not palindrome')\n",
    "    "
   ]
  },
  {
   "cell_type": "code",
   "execution_count": null,
   "id": "1e3b3461",
   "metadata": {},
   "outputs": [],
   "source": []
  },
  {
   "cell_type": "code",
   "execution_count": null,
   "id": "0c50e3b1",
   "metadata": {},
   "outputs": [],
   "source": []
  },
  {
   "cell_type": "code",
   "execution_count": null,
   "id": "f55d6d9d",
   "metadata": {},
   "outputs": [],
   "source": []
  },
  {
   "cell_type": "code",
   "execution_count": null,
   "id": "f24bb991",
   "metadata": {},
   "outputs": [],
   "source": []
  },
  {
   "cell_type": "code",
   "execution_count": null,
   "id": "caae090b",
   "metadata": {},
   "outputs": [],
   "source": []
  },
  {
   "cell_type": "code",
   "execution_count": null,
   "id": "5f1c79b5",
   "metadata": {},
   "outputs": [],
   "source": []
  },
  {
   "cell_type": "code",
   "execution_count": null,
   "id": "b81c11ef",
   "metadata": {},
   "outputs": [],
   "source": []
  },
  {
   "cell_type": "code",
   "execution_count": null,
   "id": "d5fbe6ca",
   "metadata": {},
   "outputs": [],
   "source": []
  },
  {
   "cell_type": "code",
   "execution_count": null,
   "id": "cfaf5297",
   "metadata": {},
   "outputs": [],
   "source": []
  },
  {
   "cell_type": "code",
   "execution_count": null,
   "id": "b8673670",
   "metadata": {},
   "outputs": [],
   "source": []
  },
  {
   "cell_type": "code",
   "execution_count": null,
   "id": "1fe093bc",
   "metadata": {},
   "outputs": [],
   "source": []
  },
  {
   "cell_type": "code",
   "execution_count": null,
   "id": "f2d2633e",
   "metadata": {},
   "outputs": [],
   "source": []
  },
  {
   "cell_type": "code",
   "execution_count": null,
   "id": "ab6f2aa9",
   "metadata": {},
   "outputs": [],
   "source": []
  },
  {
   "cell_type": "code",
   "execution_count": null,
   "id": "ac6d9da3",
   "metadata": {},
   "outputs": [],
   "source": []
  },
  {
   "cell_type": "code",
   "execution_count": null,
   "id": "46e9ede0",
   "metadata": {},
   "outputs": [],
   "source": []
  },
  {
   "cell_type": "code",
   "execution_count": null,
   "id": "12efa7a8",
   "metadata": {},
   "outputs": [],
   "source": []
  },
  {
   "cell_type": "code",
   "execution_count": null,
   "id": "39a93f57",
   "metadata": {},
   "outputs": [],
   "source": []
  },
  {
   "cell_type": "code",
   "execution_count": 3,
   "id": "7c1a1a8a",
   "metadata": {},
   "outputs": [
    {
     "name": "stdout",
     "output_type": "stream",
     "text": [
      "Hello I am from function\n"
     ]
    }
   ],
   "source": [
    "a()"
   ]
  },
  {
   "cell_type": "code",
   "execution_count": null,
   "id": "06d55d07",
   "metadata": {},
   "outputs": [],
   "source": []
  }
 ],
 "metadata": {
  "kernelspec": {
   "display_name": "Python 3 (ipykernel)",
   "language": "python",
   "name": "python3"
  },
  "language_info": {
   "codemirror_mode": {
    "name": "ipython",
    "version": 3
   },
   "file_extension": ".py",
   "mimetype": "text/x-python",
   "name": "python",
   "nbconvert_exporter": "python",
   "pygments_lexer": "ipython3",
   "version": "3.9.7"
  }
 },
 "nbformat": 4,
 "nbformat_minor": 5
}
