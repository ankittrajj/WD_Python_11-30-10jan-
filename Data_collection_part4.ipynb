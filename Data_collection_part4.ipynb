{
 "cells": [
  {
   "cell_type": "code",
   "execution_count": 1,
   "id": "48bbf9bb",
   "metadata": {},
   "outputs": [
    {
     "name": "stdout",
     "output_type": "stream",
     "text": [
      "{1, 2, 3, 4}\n"
     ]
    }
   ],
   "source": [
    "# Set\n",
    "s={1,2,3,4}\n",
    "print(s)"
   ]
  },
  {
   "cell_type": "code",
   "execution_count": 2,
   "id": "3216990b",
   "metadata": {},
   "outputs": [
    {
     "data": {
      "text/plain": [
       "set"
      ]
     },
     "execution_count": 2,
     "metadata": {},
     "output_type": "execute_result"
    }
   ],
   "source": [
    "type(s)"
   ]
  },
  {
   "cell_type": "code",
   "execution_count": 3,
   "id": "9da093c3",
   "metadata": {},
   "outputs": [],
   "source": [
    "# set-----> string\n",
    "x = {'a','b','deepak'}"
   ]
  },
  {
   "cell_type": "code",
   "execution_count": 4,
   "id": "baaeedde",
   "metadata": {},
   "outputs": [
    {
     "data": {
      "text/plain": [
       "{'a', 'b', 'deepak'}"
      ]
     },
     "execution_count": 4,
     "metadata": {},
     "output_type": "execute_result"
    }
   ],
   "source": [
    "x"
   ]
  },
  {
   "cell_type": "code",
   "execution_count": 5,
   "id": "88c682eb",
   "metadata": {},
   "outputs": [
    {
     "data": {
      "text/plain": [
       "set"
      ]
     },
     "execution_count": 5,
     "metadata": {},
     "output_type": "execute_result"
    }
   ],
   "source": [
    "type(x)"
   ]
  },
  {
   "cell_type": "code",
   "execution_count": 6,
   "id": "ce6d7a41",
   "metadata": {},
   "outputs": [],
   "source": [
    "c = {23,45,'qwerty',34}"
   ]
  },
  {
   "cell_type": "code",
   "execution_count": 7,
   "id": "62bd922a",
   "metadata": {},
   "outputs": [
    {
     "data": {
      "text/plain": [
       "{23, 34, 45, 'qwerty'}"
      ]
     },
     "execution_count": 7,
     "metadata": {},
     "output_type": "execute_result"
    }
   ],
   "source": [
    "c"
   ]
  },
  {
   "cell_type": "code",
   "execution_count": 8,
   "id": "05d72c26",
   "metadata": {},
   "outputs": [
    {
     "data": {
      "text/plain": [
       "set"
      ]
     },
     "execution_count": 8,
     "metadata": {},
     "output_type": "execute_result"
    }
   ],
   "source": [
    "type(c)"
   ]
  },
  {
   "cell_type": "code",
   "execution_count": 9,
   "id": "c5adf005",
   "metadata": {},
   "outputs": [
    {
     "data": {
      "text/plain": [
       "{(34+8j), 1, 2, 23.89, 3, 'qwe'}"
      ]
     },
     "execution_count": 9,
     "metadata": {},
     "output_type": "execute_result"
    }
   ],
   "source": [
    "b = {1,2,3,'qwe',23.89,True,34+8j}\n",
    "b"
   ]
  },
  {
   "cell_type": "code",
   "execution_count": 10,
   "id": "6becf7c1",
   "metadata": {},
   "outputs": [
    {
     "data": {
      "text/plain": [
       "set"
      ]
     },
     "execution_count": 10,
     "metadata": {},
     "output_type": "execute_result"
    }
   ],
   "source": [
    "type(b)"
   ]
  },
  {
   "cell_type": "code",
   "execution_count": 11,
   "id": "7970e572",
   "metadata": {},
   "outputs": [],
   "source": [
    "a = {1,2,3,890,78,'qwe','asd'}\n"
   ]
  },
  {
   "cell_type": "code",
   "execution_count": 12,
   "id": "db0fc3d2",
   "metadata": {},
   "outputs": [
    {
     "ename": "TypeError",
     "evalue": "'set' object is not subscriptable",
     "output_type": "error",
     "traceback": [
      "\u001b[1;31m---------------------------------------------------------------------------\u001b[0m",
      "\u001b[1;31mTypeError\u001b[0m                                 Traceback (most recent call last)",
      "\u001b[1;32m~\\AppData\\Local\\Temp/ipykernel_13264/1109539928.py\u001b[0m in \u001b[0;36m<module>\u001b[1;34m\u001b[0m\n\u001b[1;32m----> 1\u001b[1;33m \u001b[0ma\u001b[0m\u001b[1;33m[\u001b[0m\u001b[1;36m0\u001b[0m\u001b[1;33m]\u001b[0m\u001b[1;33m\u001b[0m\u001b[1;33m\u001b[0m\u001b[0m\n\u001b[0m",
      "\u001b[1;31mTypeError\u001b[0m: 'set' object is not subscriptable"
     ]
    }
   ],
   "source": [
    "a[0]"
   ]
  },
  {
   "cell_type": "code",
   "execution_count": 18,
   "id": "d664127d",
   "metadata": {},
   "outputs": [],
   "source": [
    "a={True,12,34,False,34.56,'sregret',3+4j}"
   ]
  },
  {
   "cell_type": "code",
   "execution_count": 19,
   "id": "dc3cbd3a",
   "metadata": {},
   "outputs": [
    {
     "data": {
      "text/plain": [
       "{(3+4j), 12, 34, 34.56, False, True, 'sregret'}"
      ]
     },
     "execution_count": 19,
     "metadata": {},
     "output_type": "execute_result"
    }
   ],
   "source": [
    "a"
   ]
  },
  {
   "cell_type": "code",
   "execution_count": 22,
   "id": "55829c77",
   "metadata": {},
   "outputs": [],
   "source": [
    "x = {2,3,'qwe',23.89,True,34+8j}"
   ]
  },
  {
   "cell_type": "code",
   "execution_count": 23,
   "id": "91479c24",
   "metadata": {},
   "outputs": [
    {
     "data": {
      "text/plain": [
       "{(34+8j), 2, 23.89, 3, True, 'qwe'}"
      ]
     },
     "execution_count": 23,
     "metadata": {},
     "output_type": "execute_result"
    }
   ],
   "source": [
    "x"
   ]
  },
  {
   "cell_type": "code",
   "execution_count": 24,
   "id": "a01a4ae5",
   "metadata": {},
   "outputs": [
    {
     "name": "stdout",
     "output_type": "stream",
     "text": [
      "()\n"
     ]
    }
   ],
   "source": [
    "# list/tuple,dict,set\n",
    "# Single element\n",
    "# Empty element\n",
    "a=()\n",
    "print(a)"
   ]
  },
  {
   "cell_type": "code",
   "execution_count": 25,
   "id": "8290fede",
   "metadata": {},
   "outputs": [
    {
     "data": {
      "text/plain": [
       "tuple"
      ]
     },
     "execution_count": 25,
     "metadata": {},
     "output_type": "execute_result"
    }
   ],
   "source": [
    "type(a)"
   ]
  },
  {
   "cell_type": "code",
   "execution_count": 28,
   "id": "88a65253",
   "metadata": {},
   "outputs": [
    {
     "name": "stdout",
     "output_type": "stream",
     "text": [
      "(1, 2, 3, 4, 5)\n"
     ]
    }
   ],
   "source": [
    "a=1,2,3,4,5\n",
    "print(a)"
   ]
  },
  {
   "cell_type": "code",
   "execution_count": 29,
   "id": "01878618",
   "metadata": {},
   "outputs": [
    {
     "data": {
      "text/plain": [
       "tuple"
      ]
     },
     "execution_count": 29,
     "metadata": {},
     "output_type": "execute_result"
    }
   ],
   "source": [
    "type(a)"
   ]
  },
  {
   "cell_type": "code",
   "execution_count": 32,
   "id": "191cd8ee",
   "metadata": {},
   "outputs": [],
   "source": [
    "a=(1,)"
   ]
  },
  {
   "cell_type": "code",
   "execution_count": 33,
   "id": "501f5a63",
   "metadata": {},
   "outputs": [
    {
     "data": {
      "text/plain": [
       "tuple"
      ]
     },
     "execution_count": 33,
     "metadata": {},
     "output_type": "execute_result"
    }
   ],
   "source": [
    "type(a)"
   ]
  },
  {
   "cell_type": "code",
   "execution_count": 36,
   "id": "b619eaf1",
   "metadata": {},
   "outputs": [
    {
     "name": "stdout",
     "output_type": "stream",
     "text": [
      "{1: 'sdfiug'}\n"
     ]
    }
   ],
   "source": [
    "#dict\n",
    "x={1:'sdfiug'}\n",
    "print(x)\n"
   ]
  },
  {
   "cell_type": "code",
   "execution_count": 37,
   "id": "007c1826",
   "metadata": {},
   "outputs": [
    {
     "data": {
      "text/plain": [
       "dict"
      ]
     },
     "execution_count": 37,
     "metadata": {},
     "output_type": "execute_result"
    }
   ],
   "source": [
    "type(x)"
   ]
  },
  {
   "cell_type": "code",
   "execution_count": 38,
   "id": "7ad226ff",
   "metadata": {},
   "outputs": [
    {
     "data": {
      "text/plain": [
       "dict"
      ]
     },
     "execution_count": 38,
     "metadata": {},
     "output_type": "execute_result"
    }
   ],
   "source": [
    "x = {}\n",
    "type(x)"
   ]
  },
  {
   "cell_type": "code",
   "execution_count": 39,
   "id": "6a4fc24c",
   "metadata": {},
   "outputs": [],
   "source": [
    "#set\n",
    "a={1}"
   ]
  },
  {
   "cell_type": "code",
   "execution_count": 40,
   "id": "3b55f027",
   "metadata": {},
   "outputs": [
    {
     "data": {
      "text/plain": [
       "set"
      ]
     },
     "execution_count": 40,
     "metadata": {},
     "output_type": "execute_result"
    }
   ],
   "source": [
    "type(a)"
   ]
  },
  {
   "cell_type": "code",
   "execution_count": 43,
   "id": "f0c4125d",
   "metadata": {},
   "outputs": [],
   "source": [
    "a={()}"
   ]
  },
  {
   "cell_type": "code",
   "execution_count": 44,
   "id": "abb05b6b",
   "metadata": {},
   "outputs": [
    {
     "data": {
      "text/plain": [
       "set"
      ]
     },
     "execution_count": 44,
     "metadata": {},
     "output_type": "execute_result"
    }
   ],
   "source": [
    "type(a)"
   ]
  },
  {
   "cell_type": "code",
   "execution_count": 45,
   "id": "995d43ac",
   "metadata": {},
   "outputs": [
    {
     "data": {
      "text/plain": [
       "set"
      ]
     },
     "execution_count": 45,
     "metadata": {},
     "output_type": "execute_result"
    }
   ],
   "source": [
    "a=set()\n",
    "type(a)"
   ]
  },
  {
   "cell_type": "code",
   "execution_count": 46,
   "id": "6a8e7afb",
   "metadata": {},
   "outputs": [
    {
     "name": "stdout",
     "output_type": "stream",
     "text": [
      "['iphone', 'samsung', 'laptop', 'mango']\n"
     ]
    }
   ],
   "source": [
    "# list/tuple/dict/set\n",
    "a = ['iphone','samsung','laptop','mango']\n",
    "print(a)"
   ]
  },
  {
   "cell_type": "code",
   "execution_count": 49,
   "id": "de28b94f",
   "metadata": {},
   "outputs": [
    {
     "name": "stdout",
     "output_type": "stream",
     "text": [
      "iphone\n",
      "samsung\n",
      "laptop\n",
      "mango\n"
     ]
    }
   ],
   "source": [
    "for i in a:\n",
    "    print(i)"
   ]
  },
  {
   "cell_type": "code",
   "execution_count": 55,
   "id": "8f836162",
   "metadata": {},
   "outputs": [
    {
     "data": {
      "text/plain": [
       "['iphone', 'samsung', 'laptop', 'mango']"
      ]
     },
     "execution_count": 55,
     "metadata": {},
     "output_type": "execute_result"
    }
   ],
   "source": [
    "a"
   ]
  },
  {
   "cell_type": "code",
   "execution_count": 59,
   "id": "d2b84cf7",
   "metadata": {},
   "outputs": [
    {
     "name": "stdout",
     "output_type": "stream",
     "text": [
      "True\n"
     ]
    }
   ],
   "source": [
    "for i in a:\n",
    "    if i == 'mango':\n",
    "        print('True')\n",
    "#     else:\n",
    "#         print('False')\n",
    "#     print(i)"
   ]
  },
  {
   "cell_type": "code",
   "execution_count": 60,
   "id": "a802ad8f",
   "metadata": {},
   "outputs": [],
   "source": [
    "# tuple\n",
    "\n",
    "t = (1,2,3,'mango','qwerty','45')"
   ]
  },
  {
   "cell_type": "code",
   "execution_count": 61,
   "id": "4988e302",
   "metadata": {},
   "outputs": [
    {
     "name": "stdout",
     "output_type": "stream",
     "text": [
      "1\n",
      "2\n",
      "3\n",
      "mango\n",
      "qwerty\n",
      "45\n"
     ]
    }
   ],
   "source": [
    "for i in t:\n",
    "    print(i)"
   ]
  },
  {
   "cell_type": "code",
   "execution_count": 62,
   "id": "22627a6d",
   "metadata": {},
   "outputs": [],
   "source": [
    "# dict\n",
    "s = {\n",
    "    'name':'abc',\n",
    "    'age':23,\n",
    "    'marks':90\n",
    "}"
   ]
  },
  {
   "cell_type": "code",
   "execution_count": 63,
   "id": "35c8f5f2",
   "metadata": {},
   "outputs": [
    {
     "data": {
      "text/plain": [
       "{'name': 'abc', 'age': 23, 'marks': 90}"
      ]
     },
     "execution_count": 63,
     "metadata": {},
     "output_type": "execute_result"
    }
   ],
   "source": [
    "s"
   ]
  },
  {
   "cell_type": "code",
   "execution_count": 76,
   "id": "0928d75c",
   "metadata": {},
   "outputs": [
    {
     "name": "stdout",
     "output_type": "stream",
     "text": [
      "The key is -----> name\n"
     ]
    }
   ],
   "source": [
    "for i in s:\n",
    "    if i == 'name':\n",
    "        print(\"The key is ----->\",i)\n",
    "#     print(i)\n",
    "#     print(s[i])"
   ]
  },
  {
   "cell_type": "code",
   "execution_count": 79,
   "id": "3495137d",
   "metadata": {},
   "outputs": [
    {
     "ename": "TypeError",
     "evalue": "'set' object is not subscriptable",
     "output_type": "error",
     "traceback": [
      "\u001b[1;31m---------------------------------------------------------------------------\u001b[0m",
      "\u001b[1;31mTypeError\u001b[0m                                 Traceback (most recent call last)",
      "\u001b[1;32m~\\AppData\\Local\\Temp/ipykernel_13264/1763870284.py\u001b[0m in \u001b[0;36m<module>\u001b[1;34m\u001b[0m\n\u001b[0;32m      1\u001b[0m \u001b[1;31m#set\u001b[0m\u001b[1;33m\u001b[0m\u001b[1;33m\u001b[0m\u001b[0m\n\u001b[0;32m      2\u001b[0m \u001b[0ms\u001b[0m\u001b[1;33m=\u001b[0m\u001b[1;33m{\u001b[0m\u001b[1;36m1\u001b[0m\u001b[1;33m,\u001b[0m\u001b[1;36m2\u001b[0m\u001b[1;33m,\u001b[0m\u001b[1;36m3\u001b[0m\u001b[1;33m}\u001b[0m\u001b[1;33m\u001b[0m\u001b[1;33m\u001b[0m\u001b[0m\n\u001b[1;32m----> 3\u001b[1;33m \u001b[0ms\u001b[0m\u001b[1;33m[\u001b[0m\u001b[1;33m:\u001b[0m\u001b[1;33m]\u001b[0m\u001b[1;33m\u001b[0m\u001b[1;33m\u001b[0m\u001b[0m\n\u001b[0m",
      "\u001b[1;31mTypeError\u001b[0m: 'set' object is not subscriptable"
     ]
    }
   ],
   "source": [
    "#set\n",
    "s={1,2,3}\n",
    "s[:]"
   ]
  },
  {
   "cell_type": "code",
   "execution_count": 82,
   "id": "44c78049",
   "metadata": {},
   "outputs": [
    {
     "name": "stdout",
     "output_type": "stream",
     "text": [
      "{'name': 'asd'}\n"
     ]
    }
   ],
   "source": [
    "a={\n",
    "    'name':'asd',\n",
    "    \n",
    "}\n",
    "print(a)"
   ]
  },
  {
   "cell_type": "code",
   "execution_count": 84,
   "id": "07214a51",
   "metadata": {},
   "outputs": [
    {
     "data": {
      "text/plain": [
       "'asd'"
      ]
     },
     "execution_count": 84,
     "metadata": {},
     "output_type": "execute_result"
    }
   ],
   "source": [
    "a['name']"
   ]
  },
  {
   "cell_type": "code",
   "execution_count": 87,
   "id": "88e6c576",
   "metadata": {},
   "outputs": [
    {
     "data": {
      "text/plain": [
       "set"
      ]
     },
     "execution_count": 87,
     "metadata": {},
     "output_type": "execute_result"
    }
   ],
   "source": [
    "#set---->\n",
    "s={'mango','apple','fruity','chips'}\n",
    "type(s)"
   ]
  },
  {
   "cell_type": "code",
   "execution_count": 89,
   "id": "868eb9f3",
   "metadata": {},
   "outputs": [
    {
     "data": {
      "text/plain": [
       "dict"
      ]
     },
     "execution_count": 89,
     "metadata": {},
     "output_type": "execute_result"
    }
   ],
   "source": [
    "s={\n",
    "    1:34,\n",
    "}\n",
    "type(s)"
   ]
  },
  {
   "cell_type": "code",
   "execution_count": 90,
   "id": "e11b5329",
   "metadata": {},
   "outputs": [
    {
     "data": {
      "text/plain": [
       "set"
      ]
     },
     "execution_count": 90,
     "metadata": {},
     "output_type": "execute_result"
    }
   ],
   "source": [
    "x={87,990}\n",
    "type(x)"
   ]
  },
  {
   "cell_type": "code",
   "execution_count": 98,
   "id": "b6c294ff",
   "metadata": {},
   "outputs": [],
   "source": [
    "#fibonaci series\n",
    "i=0\n",
    "x=0\n",
    "y=1\n",
    "count = 0\n",
    "\n",
    "\n",
    "while count <i:\n",
    "    c=x+y\n",
    "    x=y\n",
    "    y=c\n",
    "    count+=1\n",
    "    print(c)\n",
    "    "
   ]
  },
  {
   "cell_type": "code",
   "execution_count": 102,
   "id": "d273d10e",
   "metadata": {},
   "outputs": [
    {
     "name": "stdout",
     "output_type": "stream",
     "text": [
      "9\n"
     ]
    }
   ],
   "source": [
    "# LCM\n",
    "num1=3\n",
    "num2=9\n",
    "if num1>num2:\n",
    "    max = num1\n",
    "else:\n",
    "    max=num2\n",
    "    \n",
    "while True:\n",
    "    if max%num1==0 and max%num2==0:\n",
    "        print(max)\n",
    "        break;\n",
    "    max = max+1"
   ]
  },
  {
   "cell_type": "code",
   "execution_count": null,
   "id": "db2374bc",
   "metadata": {},
   "outputs": [],
   "source": []
  }
 ],
 "metadata": {
  "kernelspec": {
   "display_name": "Python 3 (ipykernel)",
   "language": "python",
   "name": "python3"
  },
  "language_info": {
   "codemirror_mode": {
    "name": "ipython",
    "version": 3
   },
   "file_extension": ".py",
   "mimetype": "text/x-python",
   "name": "python",
   "nbconvert_exporter": "python",
   "pygments_lexer": "ipython3",
   "version": "3.9.7"
  }
 },
 "nbformat": 4,
 "nbformat_minor": 5
}
