{
 "cells": [
  {
   "cell_type": "code",
   "execution_count": 1,
   "id": "d7361d2c",
   "metadata": {},
   "outputs": [],
   "source": [
    "#importing the re module----> Regular expression\n",
    "import re"
   ]
  },
  {
   "cell_type": "code",
   "execution_count": 2,
   "id": "57ec72af",
   "metadata": {},
   "outputs": [
    {
     "data": {
      "text/plain": [
       "['lion']"
      ]
     },
     "execution_count": 2,
     "metadata": {},
     "output_type": "execute_result"
    }
   ],
   "source": [
    "#findall\n",
    "#search\n",
    "#split\n",
    "#sub\n",
    "#finditer\n",
    "\n",
    "a = \"i am a lion and i know it\"\n",
    "#findall\n",
    "re.findall('lion',a)\n"
   ]
  },
  {
   "cell_type": "code",
   "execution_count": 3,
   "id": "15ea1192",
   "metadata": {},
   "outputs": [
    {
     "data": {
      "text/plain": [
       "['i', 'i', 'i', 'i']"
      ]
     },
     "execution_count": 3,
     "metadata": {},
     "output_type": "execute_result"
    }
   ],
   "source": [
    "re.findall('i',a)"
   ]
  },
  {
   "cell_type": "code",
   "execution_count": 4,
   "id": "231ef4f4",
   "metadata": {},
   "outputs": [
    {
     "data": {
      "text/plain": [
       "'i am a lion and i know it'"
      ]
     },
     "execution_count": 4,
     "metadata": {},
     "output_type": "execute_result"
    }
   ],
   "source": [
    "#search\n",
    "a\n"
   ]
  },
  {
   "cell_type": "code",
   "execution_count": 5,
   "id": "014cb9ad",
   "metadata": {},
   "outputs": [
    {
     "data": {
      "text/plain": [
       "<re.Match object; span=(7, 11), match='lion'>"
      ]
     },
     "execution_count": 5,
     "metadata": {},
     "output_type": "execute_result"
    }
   ],
   "source": [
    "re.search(\"lion\",a)"
   ]
  },
  {
   "cell_type": "code",
   "execution_count": 6,
   "id": "e5e362dd",
   "metadata": {},
   "outputs": [],
   "source": [
    "re.search(\"bro\",a)"
   ]
  },
  {
   "cell_type": "code",
   "execution_count": 7,
   "id": "e5b8cb39",
   "metadata": {},
   "outputs": [
    {
     "data": {
      "text/plain": [
       "'i am a lion and i know it'"
      ]
     },
     "execution_count": 7,
     "metadata": {},
     "output_type": "execute_result"
    }
   ],
   "source": [
    "#sub \n",
    "a"
   ]
  },
  {
   "cell_type": "code",
   "execution_count": 8,
   "id": "12c75b3a",
   "metadata": {},
   "outputs": [
    {
     "data": {
      "text/plain": [
       "'i am a tiger and i know it'"
      ]
     },
     "execution_count": 8,
     "metadata": {},
     "output_type": "execute_result"
    }
   ],
   "source": [
    "re.sub('lion','tiger',a)"
   ]
  },
  {
   "cell_type": "code",
   "execution_count": 9,
   "id": "b3f14d58",
   "metadata": {},
   "outputs": [
    {
     "data": {
      "text/plain": [
       "'i am a lion and i know it'"
      ]
     },
     "execution_count": 9,
     "metadata": {},
     "output_type": "execute_result"
    }
   ],
   "source": [
    "re.sub('boy','tiger',a)"
   ]
  },
  {
   "cell_type": "code",
   "execution_count": 10,
   "id": "2cca7407",
   "metadata": {},
   "outputs": [
    {
     "data": {
      "text/plain": [
       "'i am a lion and i know it'"
      ]
     },
     "execution_count": 10,
     "metadata": {},
     "output_type": "execute_result"
    }
   ],
   "source": [
    "re.sub('boy','lion',a)"
   ]
  },
  {
   "cell_type": "code",
   "execution_count": 11,
   "id": "a3679d58",
   "metadata": {},
   "outputs": [
    {
     "data": {
      "text/plain": [
       "'890'"
      ]
     },
     "execution_count": 11,
     "metadata": {},
     "output_type": "execute_result"
    }
   ],
   "source": [
    "x = '123'\n",
    "re.sub('123','890',x)"
   ]
  },
  {
   "cell_type": "code",
   "execution_count": 12,
   "id": "7a798d22",
   "metadata": {},
   "outputs": [
    {
     "data": {
      "text/plain": [
       "'i am a lion and i know it'"
      ]
     },
     "execution_count": 12,
     "metadata": {},
     "output_type": "execute_result"
    }
   ],
   "source": [
    "#split\n",
    "a"
   ]
  },
  {
   "cell_type": "code",
   "execution_count": 13,
   "id": "200bf2ed",
   "metadata": {},
   "outputs": [
    {
     "data": {
      "text/plain": [
       "['i', 'am', 'a', 'lion', 'and', 'i', 'know', 'it']"
      ]
     },
     "execution_count": 13,
     "metadata": {},
     "output_type": "execute_result"
    }
   ],
   "source": [
    "a.split()"
   ]
  },
  {
   "cell_type": "code",
   "execution_count": 14,
   "id": "4a7e71b3",
   "metadata": {},
   "outputs": [
    {
     "data": {
      "text/plain": [
       "'i am a lion and i know it'"
      ]
     },
     "execution_count": 14,
     "metadata": {},
     "output_type": "execute_result"
    }
   ],
   "source": [
    "# a.split()\n",
    "a"
   ]
  },
  {
   "cell_type": "code",
   "execution_count": 15,
   "id": "27be514e",
   "metadata": {},
   "outputs": [
    {
     "data": {
      "text/plain": [
       "['i am a ', ' and i know it']"
      ]
     },
     "execution_count": 15,
     "metadata": {},
     "output_type": "execute_result"
    }
   ],
   "source": [
    "re.split('lion',a)"
   ]
  },
  {
   "cell_type": "code",
   "execution_count": 16,
   "id": "021296b9",
   "metadata": {},
   "outputs": [
    {
     "data": {
      "text/plain": [
       "['i am a lion and i know it']"
      ]
     },
     "execution_count": 16,
     "metadata": {},
     "output_type": "execute_result"
    }
   ],
   "source": [
    "re.split('boy',a)"
   ]
  },
  {
   "cell_type": "code",
   "execution_count": 17,
   "id": "21708a67",
   "metadata": {},
   "outputs": [
    {
     "data": {
      "text/plain": [
       "'i am a lion and i know it'"
      ]
     },
     "execution_count": 17,
     "metadata": {},
     "output_type": "execute_result"
    }
   ],
   "source": [
    "#finditer\n",
    "a\n"
   ]
  },
  {
   "cell_type": "code",
   "execution_count": 21,
   "id": "f04aed07",
   "metadata": {},
   "outputs": [
    {
     "name": "stdout",
     "output_type": "stream",
     "text": [
      "Starting point ----> 0 Ending point---> 1\n",
      "Starting point ----> 8 Ending point---> 9\n",
      "Starting point ----> 16 Ending point---> 17\n",
      "Starting point ----> 23 Ending point---> 24\n"
     ]
    }
   ],
   "source": [
    "pattern = 'i'\n",
    "for match in re.finditer(pattern,a):\n",
    "    x = match.start()\n",
    "    b=  match.end()\n",
    "    print(\"Starting point ---->\",x,\"Ending point--->\",b)\n"
   ]
  },
  {
   "cell_type": "code",
   "execution_count": 23,
   "id": "36dd5121",
   "metadata": {},
   "outputs": [],
   "source": [
    "#wap to find the email is valid or not ??\n",
    "# email = abc@123.com\n",
    "\n",
    "#wap to find all a in the string ----> I am a boy who owns a laptop and also having\n",
    "# a phone.\n",
    "\n",
    "#wap to match the pattern and also try to replace the value from tv to computer.\n",
    "# string = I am having a tv which is a smart tv.\n",
    "\n",
    "#wap to find the starting & ending point of the pattern \n",
    "# where your string is----> \"I am known with \n",
    "# unknown personality.\""
   ]
  },
  {
   "cell_type": "code",
   "execution_count": 25,
   "id": "8a7ef9dd",
   "metadata": {},
   "outputs": [
    {
     "name": "stdout",
     "output_type": "stream",
     "text": [
      "valid email\n"
     ]
    }
   ],
   "source": [
    "#wap to find the email is valid or not ??\n",
    "# email = abc@123.com\n",
    "\n",
    "s = []\n",
    "x = 'abc@123.com'\n",
    "s = re.findall('@',x)\n",
    "m = []\n",
    "m = re.findall('.',x)\n",
    "if (s != [] and m!=[]):\n",
    "    print('valid email')\n",
    "else:\n",
    "    print(\"invalid\")\n"
   ]
  },
  {
   "cell_type": "code",
   "execution_count": 27,
   "id": "f1d46e9d",
   "metadata": {},
   "outputs": [
    {
     "name": "stdout",
     "output_type": "stream",
     "text": [
      "invalid\n"
     ]
    }
   ],
   "source": [
    "x = 'abc@123.com'\n",
    "if re.findall(\"@\",x) and re.findall(\".\",x):\n",
    "    print(\"valid\")\n",
    "else:\n",
    "    print(\"invalid\")"
   ]
  },
  {
   "cell_type": "code",
   "execution_count": 29,
   "id": "148be412",
   "metadata": {},
   "outputs": [],
   "source": [
    "#wap to find all a in the string ----> \n",
    "x = 'I am a boy who owns a laptop and  also having a phone.'"
   ]
  },
  {
   "cell_type": "code",
   "execution_count": 31,
   "id": "24483c3b",
   "metadata": {},
   "outputs": [
    {
     "data": {
      "text/plain": [
       "<re.Match object; span=(2, 3), match='a'>"
      ]
     },
     "execution_count": 31,
     "metadata": {},
     "output_type": "execute_result"
    }
   ],
   "source": [
    "re.search('a',x)"
   ]
  },
  {
   "cell_type": "code",
   "execution_count": 32,
   "id": "ac667a70",
   "metadata": {},
   "outputs": [
    {
     "data": {
      "text/plain": [
       "['a', 'a', 'a', 'a', 'a', 'a', 'a', 'a']"
      ]
     },
     "execution_count": 32,
     "metadata": {},
     "output_type": "execute_result"
    }
   ],
   "source": [
    "re.findall('a',x)"
   ]
  },
  {
   "cell_type": "code",
   "execution_count": 34,
   "id": "ac743359",
   "metadata": {},
   "outputs": [
    {
     "data": {
      "text/plain": [
       "'I am having a computer which is a smart computer.'"
      ]
     },
     "execution_count": 34,
     "metadata": {},
     "output_type": "execute_result"
    }
   ],
   "source": [
    "a = 'I am having a tv which is a smart tv.'\n",
    "re.sub('tv','computer',a)"
   ]
  },
  {
   "cell_type": "code",
   "execution_count": 37,
   "id": "df9cb10c",
   "metadata": {},
   "outputs": [
    {
     "name": "stdout",
     "output_type": "stream",
     "text": [
      "starting point ---> 5 ending point is ---->  23\n",
      "starting point ---> 18 ending point is ---->  23\n"
     ]
    }
   ],
   "source": [
    "c = \"I am known with unknown personality.\"\n",
    "# pattern = 'known'\n",
    "for i in re.finditer('known',c):\n",
    "    a = i.start()\n",
    "#     b = i.end()\n",
    "    print(\"starting point --->\",a,\"ending point is ----> \",b)\n",
    "#     print(\"Ending point---->\",b)\n",
    "    "
   ]
  },
  {
   "cell_type": "code",
   "execution_count": null,
   "id": "f3993cb7",
   "metadata": {},
   "outputs": [],
   "source": [
    "#wap to solve a string ----> \"Ram is a student and sita is also a student.\"\n",
    "# use  sub method---->"
   ]
  }
 ],
 "metadata": {
  "kernelspec": {
   "display_name": "Python 3 (ipykernel)",
   "language": "python",
   "name": "python3"
  },
  "language_info": {
   "codemirror_mode": {
    "name": "ipython",
    "version": 3
   },
   "file_extension": ".py",
   "mimetype": "text/x-python",
   "name": "python",
   "nbconvert_exporter": "python",
   "pygments_lexer": "ipython3",
   "version": "3.9.7"
  }
 },
 "nbformat": 4,
 "nbformat_minor": 5
}
