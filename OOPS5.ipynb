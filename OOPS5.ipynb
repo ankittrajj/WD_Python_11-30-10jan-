{
 "cells": [
  {
   "cell_type": "markdown",
   "id": "abf5efd8",
   "metadata": {},
   "source": [
    "# Multi-level Inheritance"
   ]
  },
  {
   "cell_type": "code",
   "execution_count": 7,
   "id": "4926f83f",
   "metadata": {},
   "outputs": [
    {
     "name": "stdout",
     "output_type": "stream",
     "text": [
      "this is child class\n"
     ]
    }
   ],
   "source": [
    "#more than two class \n",
    "# 1-type\n",
    "class g_parent:\n",
    "    def grand(self):\n",
    "        print(\"This is grand parent class\")\n",
    "        \n",
    "        \n",
    "class p_class(g_parent):\n",
    "    def parent(self):\n",
    "        print(\"This is parent class\")\n",
    "        \n",
    "        \n",
    "class c_class(p_class):\n",
    "    def child(self):\n",
    "        print(\"this is child class\")\n",
    "        \n",
    "\n",
    "c = c_class()\n",
    "c.child()\n",
    "        \n"
   ]
  },
  {
   "cell_type": "code",
   "execution_count": 8,
   "id": "29208ec4",
   "metadata": {},
   "outputs": [
    {
     "ename": "AttributeError",
     "evalue": "'p_class' object has no attribute 'child'",
     "output_type": "error",
     "traceback": [
      "\u001b[1;31m---------------------------------------------------------------------------\u001b[0m",
      "\u001b[1;31mAttributeError\u001b[0m                            Traceback (most recent call last)",
      "\u001b[1;32m~\\AppData\\Local\\Temp/ipykernel_10716/2493023658.py\u001b[0m in \u001b[0;36m<module>\u001b[1;34m\u001b[0m\n\u001b[0;32m     17\u001b[0m \u001b[1;33m\u001b[0m\u001b[0m\n\u001b[0;32m     18\u001b[0m \u001b[0mc\u001b[0m \u001b[1;33m=\u001b[0m \u001b[0mp_class\u001b[0m\u001b[1;33m(\u001b[0m\u001b[1;33m)\u001b[0m\u001b[1;33m\u001b[0m\u001b[1;33m\u001b[0m\u001b[0m\n\u001b[1;32m---> 19\u001b[1;33m \u001b[0mc\u001b[0m\u001b[1;33m.\u001b[0m\u001b[0mchild\u001b[0m\u001b[1;33m(\u001b[0m\u001b[1;33m)\u001b[0m\u001b[1;33m\u001b[0m\u001b[1;33m\u001b[0m\u001b[0m\n\u001b[0m\u001b[0;32m     20\u001b[0m \u001b[1;33m\u001b[0m\u001b[0m\n",
      "\u001b[1;31mAttributeError\u001b[0m: 'p_class' object has no attribute 'child'"
     ]
    }
   ],
   "source": [
    "#more than two class \n",
    "# 2type\n",
    "class g_parent:\n",
    "    def grand(self):\n",
    "        print(\"This is grand parent class\")\n",
    "        \n",
    "        \n",
    "class p_class(g_parent):\n",
    "    def parent(self):\n",
    "        print(\"This is parent class\")\n",
    "        \n",
    "        \n",
    "class c_class(p_class):\n",
    "    def child(self):\n",
    "        print(\"this is child class\")\n",
    "        \n",
    "\n",
    "c = p_class()\n",
    "c.child()\n",
    "        \n"
   ]
  },
  {
   "cell_type": "code",
   "execution_count": 11,
   "id": "da0654da",
   "metadata": {},
   "outputs": [
    {
     "name": "stdout",
     "output_type": "stream",
     "text": [
      "this is child class\n"
     ]
    }
   ],
   "source": [
    "#more than two class \n",
    "# 3-type\n",
    "class g_parent:\n",
    "    def grand(self):\n",
    "        print(\"This is grand parent class\")\n",
    "        \n",
    "        \n",
    "class p_class(g_parent):\n",
    "    def parent(self):\n",
    "        print(\"This is parent class\")\n",
    "        \n",
    "        \n",
    "class c_class(g_parent):\n",
    "    def child(self):\n",
    "        print(\"this is child class\")\n",
    "        \n",
    "\n",
    "c = c_class()\n",
    "c.child()\n",
    "        \n"
   ]
  },
  {
   "cell_type": "code",
   "execution_count": 19,
   "id": "cb908a7e",
   "metadata": {},
   "outputs": [
    {
     "name": "stdout",
     "output_type": "stream",
     "text": [
      "Average of the car is ----> 10.0\n"
     ]
    }
   ],
   "source": [
    "#constructor.....\n",
    "#wap and make a class of automobile and try to inherit some common properties,\n",
    "# with the help of  constructor and also try to get the output\n",
    "# which is having the best avg.\n",
    "\n",
    "class automobile:\n",
    "    def __init__(self,name,color,model,distance):\n",
    "        self.name = name\n",
    "        self.color = color\n",
    "        self.model = model\n",
    "        self.distance = distance\n",
    "        \n",
    "class automobile2(automobile):\n",
    "    def __init__(self,name,color,model,distance,engine):\n",
    "        super().__init__(name,color,model,distance)\n",
    "        self.engine = engine\n",
    "        \n",
    "class automobile3(automobile2):\n",
    "    def __init__(self,name,color,model,distance,engine,fuel):\n",
    "        super().__init__(name,color,model,distance,engine)\n",
    "        self.fuel = fuel\n",
    "        \n",
    "        \n",
    "    def cal_average(self):\n",
    "        milage = self.distance/self.fuel\n",
    "        print(\"Average of the car is ---->\",milage)\n",
    "            \n",
    "        \n",
    "a = automobile3('Hondacity','black','2008 model',20,'turbo',2)\n",
    "a.name\n",
    "a.cal_average()\n",
    "    "
   ]
  },
  {
   "cell_type": "code",
   "execution_count": 17,
   "id": "f62b649a",
   "metadata": {},
   "outputs": [
    {
     "name": "stdout",
     "output_type": "stream",
     "text": [
      "3.0\n"
     ]
    }
   ],
   "source": [
    "class automobile:\n",
    "    def __init__(self,name,color,model,distance):\n",
    "        self.name=name\n",
    "        self.color=color\n",
    "        self.model=model\n",
    "        self.distance=distance\n",
    "class car(automobile):\n",
    "    def __init__(self,name,color,model,distance,engine):\n",
    "        super().__init__(name,color,model,distance)\n",
    "        self.engine=engine\n",
    "class tata(car):\n",
    "    def __init__(self,name,color,model,distance,engine,fuel):\n",
    "        super().__init__(name,color,model,distance,engine)\n",
    "        self.fuel=fuel\n",
    "    def cal_average(self):\n",
    "        mileage=self.distance/self.fuel\n",
    "        print(mileage)\n",
    "t=tata('Tiago','Black','XZ',36,'turbo',12)\n",
    "t.cal_average()\n"
   ]
  },
  {
   "cell_type": "code",
   "execution_count": 20,
   "id": "2cd8b65e",
   "metadata": {},
   "outputs": [
    {
     "ename": "TypeError",
     "evalue": "avg() takes 1 positional argument but 2 were given",
     "output_type": "error",
     "traceback": [
      "\u001b[1;31m---------------------------------------------------------------------------\u001b[0m",
      "\u001b[1;31mTypeError\u001b[0m                                 Traceback (most recent call last)",
      "\u001b[1;32m~\\AppData\\Local\\Temp/ipykernel_10716/1568107395.py\u001b[0m in \u001b[0;36m<module>\u001b[1;34m\u001b[0m\n\u001b[0;32m     15\u001b[0m     \u001b[1;32mdef\u001b[0m \u001b[0mavg\u001b[0m\u001b[1;33m(\u001b[0m\u001b[0mself\u001b[0m\u001b[1;33m)\u001b[0m\u001b[1;33m:\u001b[0m\u001b[1;33m\u001b[0m\u001b[1;33m\u001b[0m\u001b[0m\n\u001b[0;32m     16\u001b[0m         \u001b[0maverage\u001b[0m\u001b[1;33m=\u001b[0m\u001b[0mself\u001b[0m\u001b[1;33m.\u001b[0m\u001b[0mdistance\u001b[0m\u001b[1;33m/\u001b[0m\u001b[0mself\u001b[0m\u001b[1;33m.\u001b[0m\u001b[0mlt\u001b[0m\u001b[1;33m*\u001b[0m\u001b[1;36m100\u001b[0m\u001b[1;33m\u001b[0m\u001b[1;33m\u001b[0m\u001b[0m\n\u001b[1;32m---> 17\u001b[1;33m \u001b[0mc\u001b[0m\u001b[1;33m=\u001b[0m\u001b[0mcar3\u001b[0m\u001b[1;33m(\u001b[0m\u001b[1;36m500\u001b[0m\u001b[1;33m,\u001b[0m\u001b[1;36m200\u001b[0m\u001b[1;33m,\u001b[0m\u001b[1;36m1\u001b[0m\u001b[1;33m,\u001b[0m\u001b[1;34m'red'\u001b[0m\u001b[1;33m,\u001b[0m\u001b[1;36m40\u001b[0m\u001b[1;33m)\u001b[0m\u001b[1;33m\u001b[0m\u001b[1;33m\u001b[0m\u001b[0m\n\u001b[0m\u001b[0;32m     18\u001b[0m \u001b[0mc\u001b[0m\u001b[1;33m.\u001b[0m\u001b[0mavg\u001b[0m\u001b[1;33m(\u001b[0m\u001b[1;33m)\u001b[0m\u001b[1;33m\u001b[0m\u001b[1;33m\u001b[0m\u001b[0m\n",
      "\u001b[1;32m~\\AppData\\Local\\Temp/ipykernel_10716/1568107395.py\u001b[0m in \u001b[0;36m__init__\u001b[1;34m(self, lt, distance, model, color, mileage)\u001b[0m\n\u001b[0;32m     12\u001b[0m         \u001b[0mself\u001b[0m\u001b[1;33m.\u001b[0m\u001b[0mmileage\u001b[0m\u001b[1;33m=\u001b[0m\u001b[0mmileage\u001b[0m\u001b[1;33m\u001b[0m\u001b[1;33m\u001b[0m\u001b[0m\n\u001b[0;32m     13\u001b[0m         \u001b[0mcar2\u001b[0m\u001b[1;33m.\u001b[0m\u001b[0m__init__\u001b[0m\u001b[1;33m(\u001b[0m\u001b[0mself\u001b[0m\u001b[1;33m,\u001b[0m\u001b[0mlt\u001b[0m\u001b[1;33m,\u001b[0m\u001b[0mdistance\u001b[0m\u001b[1;33m,\u001b[0m\u001b[0mmodel\u001b[0m\u001b[1;33m,\u001b[0m\u001b[0mcolor\u001b[0m\u001b[1;33m)\u001b[0m\u001b[1;33m\u001b[0m\u001b[1;33m\u001b[0m\u001b[0m\n\u001b[1;32m---> 14\u001b[1;33m         \u001b[0mself\u001b[0m\u001b[1;33m.\u001b[0m\u001b[0mavg\u001b[0m\u001b[1;33m(\u001b[0m\u001b[0mself\u001b[0m\u001b[1;33m)\u001b[0m\u001b[1;33m\u001b[0m\u001b[1;33m\u001b[0m\u001b[0m\n\u001b[0m\u001b[0;32m     15\u001b[0m     \u001b[1;32mdef\u001b[0m \u001b[0mavg\u001b[0m\u001b[1;33m(\u001b[0m\u001b[0mself\u001b[0m\u001b[1;33m)\u001b[0m\u001b[1;33m:\u001b[0m\u001b[1;33m\u001b[0m\u001b[1;33m\u001b[0m\u001b[0m\n\u001b[0;32m     16\u001b[0m         \u001b[0maverage\u001b[0m\u001b[1;33m=\u001b[0m\u001b[0mself\u001b[0m\u001b[1;33m.\u001b[0m\u001b[0mdistance\u001b[0m\u001b[1;33m/\u001b[0m\u001b[0mself\u001b[0m\u001b[1;33m.\u001b[0m\u001b[0mlt\u001b[0m\u001b[1;33m*\u001b[0m\u001b[1;36m100\u001b[0m\u001b[1;33m\u001b[0m\u001b[1;33m\u001b[0m\u001b[0m\n",
      "\u001b[1;31mTypeError\u001b[0m: avg() takes 1 positional argument but 2 were given"
     ]
    }
   ],
   "source": [
    "class car1:\n",
    "    def __init__(self,lt,distance,model):\n",
    "        self.lt=lt\n",
    "        self.distance=distance\n",
    "        self.model=model\n",
    "class car2(car1):\n",
    "    def __init__(self,lt,distance,model,color):\n",
    "        self.color=color\n",
    "        car1.__init__(self,lt,distance,model)\n",
    "class car3(car2):\n",
    "    def __init__(self,lt,distance,model,color,mileage):\n",
    "        self.mileage=mileage\n",
    "        car2.__init__(self,lt,distance,model,color)\n",
    "#         self.avg(self)\n",
    "    def avg(self):\n",
    "        average=self.distance/self.lt*100\n",
    "c=car3(500,200,1,'red',40)\n",
    "c.avg()"
   ]
  },
  {
   "cell_type": "code",
   "execution_count": null,
   "id": "a1ff95ee",
   "metadata": {},
   "outputs": [],
   "source": []
  }
 ],
 "metadata": {
  "kernelspec": {
   "display_name": "Python 3 (ipykernel)",
   "language": "python",
   "name": "python3"
  },
  "language_info": {
   "codemirror_mode": {
    "name": "ipython",
    "version": 3
   },
   "file_extension": ".py",
   "mimetype": "text/x-python",
   "name": "python",
   "nbconvert_exporter": "python",
   "pygments_lexer": "ipython3",
   "version": "3.9.7"
  }
 },
 "nbformat": 4,
 "nbformat_minor": 5
}
