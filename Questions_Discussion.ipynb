{
 "cells": [
  {
   "cell_type": "code",
   "execution_count": 14,
   "id": "0b897224",
   "metadata": {},
   "outputs": [
    {
     "name": "stdout",
     "output_type": "stream",
     "text": [
      "Enter the number234\n",
      "The last digit of numbers is-----> 34\n"
     ]
    }
   ],
   "source": [
    "# Write a program to display the last digit of a number\n",
    "a=int(input(\"Enter the number\"))\n",
    "print(\"The last digit of numbers is----->\",a%100)"
   ]
  },
  {
   "cell_type": "code",
   "execution_count": null,
   "id": "32b6da4e",
   "metadata": {},
   "outputs": [],
   "source": [
    "# Write a program to check whether the last digit of a \n",
    "# number( entered by user ) is \n",
    "# divisible by 3 or not."
   ]
  },
  {
   "cell_type": "code",
   "execution_count": 26,
   "id": "5006eb37",
   "metadata": {},
   "outputs": [
    {
     "name": "stdout",
     "output_type": "stream",
     "text": [
      "Enter the number78\n",
      "8\n",
      "Not Divisible\n"
     ]
    }
   ],
   "source": [
    "x = int(input(\"Enter the number\"))\n",
    "last_digit = x%10\n",
    "print(last_digit)\n",
    "if last_digit%3==0:\n",
    "    print(\"Divisible by 3\")\n",
    "else:\n",
    "    print(\"Not Divisible\")"
   ]
  },
  {
   "cell_type": "code",
   "execution_count": 20,
   "id": "09f22bd0",
   "metadata": {},
   "outputs": [
    {
     "data": {
      "text/plain": [
       "0"
      ]
     },
     "execution_count": 20,
     "metadata": {},
     "output_type": "execute_result"
    }
   ],
   "source": [
    "0%3"
   ]
  },
  {
   "cell_type": "code",
   "execution_count": 24,
   "id": "c83a7fd8",
   "metadata": {},
   "outputs": [
    {
     "data": {
      "text/plain": [
       "True"
      ]
     },
     "execution_count": 24,
     "metadata": {},
     "output_type": "execute_result"
    }
   ],
   "source": [
    "0==0"
   ]
  },
  {
   "cell_type": "code",
   "execution_count": 29,
   "id": "5fd445d1",
   "metadata": {},
   "outputs": [
    {
     "name": "stdout",
     "output_type": "stream",
     "text": [
      "2\n"
     ]
    }
   ],
   "source": [
    "# % & //\n",
    "a=2\n",
    "b=4\n",
    "c=b//a\n",
    "print(c)"
   ]
  },
  {
   "cell_type": "code",
   "execution_count": 31,
   "id": "848ac4eb",
   "metadata": {},
   "outputs": [
    {
     "name": "stdout",
     "output_type": "stream",
     "text": [
      "0\n"
     ]
    }
   ],
   "source": [
    "# %----> remainder\n",
    "a=20\n",
    "b=2\n",
    "c=a%b\n",
    "print(c)"
   ]
  },
  {
   "cell_type": "code",
   "execution_count": 2,
   "id": "636ddcd0",
   "metadata": {},
   "outputs": [
    {
     "name": "stdout",
     "output_type": "stream",
     "text": [
      "Please enter the number of units350\n",
      "charge is:  3500\n"
     ]
    }
   ],
   "source": [
    "unit = int(input(\"Please enter the number of units\"))\n",
    "if (unit > 0 and unit<101):\n",
    "    print(\"No charges\")\n",
    "elif (unit >100 and unit<201):\n",
    "    print(\"Charge is: \", unit*5)\n",
    "else:\n",
    "    print(\"charge is: \",unit*10)\n"
   ]
  },
  {
   "cell_type": "code",
   "execution_count": 1,
   "id": "92201048",
   "metadata": {},
   "outputs": [
    {
     "name": "stdout",
     "output_type": "stream",
     "text": [
      "Charges on extra unit ----> 750\n"
     ]
    }
   ],
   "source": [
    "unit = 350\n",
    "extra_unit = unit - 200\n",
    "if unit<200:\n",
    "    print(\"No Charge\")\n",
    "elif extra_unit>0:\n",
    "    print(\"Charges on extra unit ---->\",extra_unit*5)\n",
    "# elif unit>100 and unit<200:\n",
    "#     print('Charges are',unit*5)\n",
    "# elif unit>200:\n",
    "#     print(\"Charges are\",unit*10)"
   ]
  },
  {
   "cell_type": "code",
   "execution_count": 3,
   "id": "688f6e32",
   "metadata": {},
   "outputs": [
    {
     "name": "stdout",
     "output_type": "stream",
     "text": [
      "Please enter the number of units350\n",
      "charge is:  3500\n"
     ]
    }
   ],
   "source": [
    "unit = int(input(\"Please enter the number of units\"))\n",
    "if (unit > 0 and unit<101):\n",
    "    print(\"No charges\")\n",
    "elif (unit >100 and unit<201):\n",
    "    print(\"Charge is: \", unit*5)\n",
    "else:\n",
    "    print(\"charge is: \",unit*10)\n"
   ]
  },
  {
   "cell_type": "code",
   "execution_count": 5,
   "id": "983971e8",
   "metadata": {},
   "outputs": [],
   "source": [
    "# 350\n",
    "# 100--->free\n",
    "# 100-200>5/per unit\n",
    "# >200 10 per unit"
   ]
  },
  {
   "cell_type": "code",
   "execution_count": 8,
   "id": "82b4eac0",
   "metadata": {},
   "outputs": [
    {
     "name": "stdout",
     "output_type": "stream",
     "text": [
      "not Divisible\n"
     ]
    }
   ],
   "source": [
    "# print(\"Choose Anyone----> Delhi,Agra & Jaipur\")\n",
    "a=21\n",
    "if a%2==0 and a%3==0:\n",
    "    print(\"Divisible by both\")\n",
    "else:\n",
    "    print(\"not Divisible\")\n"
   ]
  },
  {
   "cell_type": "code",
   "execution_count": 20,
   "id": "a7bc852b",
   "metadata": {},
   "outputs": [
    {
     "name": "stdout",
     "output_type": "stream",
     "text": [
      "Choose Anyone----> Delhi,Agra & Jaipur\n",
      "Enter the choiceJaipur\n",
      "Jal Mahal\n"
     ]
    }
   ],
   "source": [
    "print(\"Choose Anyone----> Delhi,Agra & Jaipur\")\n",
    "city = (input(\"Enter the choice\"))\n",
    "if city=='Delhi':\n",
    "    print(\"Red fort\")\n",
    "elif city == 'Agra':\n",
    "    print('Taj Mahal')\n",
    "elif city == 'Jaipur':\n",
    "    print(\"Jal Mahal\")\n",
    "else:\n",
    "    print('Invalid input')"
   ]
  },
  {
   "cell_type": "code",
   "execution_count": 16,
   "id": "f2cfb7ef",
   "metadata": {},
   "outputs": [
    {
     "name": "stdout",
     "output_type": "stream",
     "text": [
      "False\n"
     ]
    }
   ],
   "source": [
    "a=10\n",
    "b=109\n",
    "c=a==b\n",
    "print(c)"
   ]
  },
  {
   "cell_type": "code",
   "execution_count": 22,
   "id": "bcc1a3d5",
   "metadata": {},
   "outputs": [
    {
     "name": "stdout",
     "output_type": "stream",
     "text": [
      "2000.2\n",
      "The net amount is ----> 8000.8\n"
     ]
    }
   ],
   "source": [
    "price = 10001\n",
    "if price > 10000:\n",
    "    discount = price*20/100\n",
    "    print(discount)\n",
    "net_amt = price - discount\n",
    "print(\"The net amount is ---->\",net_amt)"
   ]
  },
  {
   "cell_type": "code",
   "execution_count": 23,
   "id": "ca65d20b",
   "metadata": {},
   "outputs": [
    {
     "name": "stdout",
     "output_type": "stream",
     "text": [
      "3\n"
     ]
    }
   ],
   "source": [
    "a=123\n",
    "print(a%10)"
   ]
  },
  {
   "cell_type": "code",
   "execution_count": 1,
   "id": "9294e3ad",
   "metadata": {},
   "outputs": [],
   "source": [
    "#wap to find first number from 3 digit.\n",
    "#wap to find prime no."
   ]
  },
  {
   "cell_type": "code",
   "execution_count": 5,
   "id": "2346f38a",
   "metadata": {},
   "outputs": [
    {
     "name": "stdout",
     "output_type": "stream",
     "text": [
      "Enter the price40000\n",
      "2000.0\n"
     ]
    }
   ],
   "source": [
    "#  Write a program to accept the cost price of a bike \n",
    "# and display the road tax to be paid according to the \n",
    "# following criteria :\n",
    "    \n",
    "#         Cost price (in Rs)                                       Tax\n",
    "#         > 100000                                                  15 %\n",
    "#         > 50000 and <= 100000                          10%\n",
    "#         <= 50000                                                  5%\n",
    "\n",
    "\n",
    "price = int(input(\"Enter the price\"))\n",
    "if price>100000:\n",
    "    tax1 = price *15/100\n",
    "    print(tax1)\n",
    "    \n",
    "elif 100000<=price>50000:\n",
    "    tax2 = price *10/100\n",
    "    print(tax2)\n",
    "    \n",
    "elif price<=50000:\n",
    "    tax3 = price*5/100\n",
    "    print(tax3)\n",
    "    \n",
    "    "
   ]
  },
  {
   "cell_type": "code",
   "execution_count": 22,
   "id": "ceefca4a",
   "metadata": {},
   "outputs": [
    {
     "name": "stdout",
     "output_type": "stream",
     "text": [
      "Enter the number7\n",
      "hello peter \n",
      "hello peter \n"
     ]
    }
   ],
   "source": [
    "#wap to find prime number.\n",
    "x=int(input(\"Enter the number\"))\n",
    "count=0\n",
    "for i in range(1,x+1):\n",
    "    if x%i==0:\n",
    "#         print(\"hello peter \")\n",
    "        count=count+1\n",
    "if count==2:\n",
    "    print(\"prime number \")\n",
    "else:\n",
    "    print(\"Not prime number\")"
   ]
  },
  {
   "cell_type": "code",
   "execution_count": null,
   "id": "21aa0a8e",
   "metadata": {},
   "outputs": [],
   "source": []
  }
 ],
 "metadata": {
  "kernelspec": {
   "display_name": "Python 3 (ipykernel)",
   "language": "python",
   "name": "python3"
  },
  "language_info": {
   "codemirror_mode": {
    "name": "ipython",
    "version": 3
   },
   "file_extension": ".py",
   "mimetype": "text/x-python",
   "name": "python",
   "nbconvert_exporter": "python",
   "pygments_lexer": "ipython3",
   "version": "3.9.7"
  }
 },
 "nbformat": 4,
 "nbformat_minor": 5
}
