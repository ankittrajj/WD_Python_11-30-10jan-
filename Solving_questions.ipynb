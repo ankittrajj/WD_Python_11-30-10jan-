{
 "cells": [
  {
   "cell_type": "code",
   "execution_count": 4,
   "id": "d0b8f1a4",
   "metadata": {},
   "outputs": [
    {
     "name": "stdout",
     "output_type": "stream",
     "text": [
      "Enter your salary1200\n",
      "Enter the year9\n",
      "Bonus received 60.0\n"
     ]
    }
   ],
   "source": [
    "salary = int(input(\"Enter your salary\"))\n",
    "year_of_service = int(input(\"Enter the year\"))\n",
    "if year_of_service>5:\n",
    "    bonus = salary*(5/100)\n",
    "    print(\"Bonus received\",bonus)\n",
    "else:\n",
    "    print(\"Bonus not allowed\")"
   ]
  },
  {
   "cell_type": "code",
   "execution_count": 7,
   "id": "927d6351",
   "metadata": {},
   "outputs": [
    {
     "name": "stdout",
     "output_type": "stream",
     "text": [
      "Enter the length3\n",
      "Enter the length3\n",
      "Square\n"
     ]
    }
   ],
   "source": [
    "length = int(input(\"Enter the length\"))\n",
    "breadth =float(input(\"Enter the breadth\"))\n",
    "if length == breadth:\n",
    "    print(\"Square\")\n",
    "else:\n",
    "    print(\"Not square\")"
   ]
  },
  {
   "cell_type": "code",
   "execution_count": 8,
   "id": "704aec2f",
   "metadata": {},
   "outputs": [
    {
     "name": "stdout",
     "output_type": "stream",
     "text": [
      "Enter 1st number:67\n",
      "Enter 2nd number:98\n",
      "greater number is 98\n"
     ]
    }
   ],
   "source": [
    "a= int(input(\"Enter 1st number:\"))\n",
    "b= int(input(\"Enter 2nd number:\"))\n",
    "if a>b:\n",
    "    print(\"greater number is\",a)\n",
    "else:\n",
    "    print(\"greater number is\",b)"
   ]
  },
  {
   "cell_type": "code",
   "execution_count": 17,
   "id": "6dafe767",
   "metadata": {},
   "outputs": [
    {
     "name": "stdout",
     "output_type": "stream",
     "text": [
      "Enter your marks45\n",
      "E grade\n"
     ]
    }
   ],
   "source": [
    "marks = int(input(\"Enter your marks\"))\n",
    "if marks>80:\n",
    "    print(\"A grade\")\n",
    "elif marks>60 and marks<=80:\n",
    "    print(\"B grade\")\n",
    "elif marks>50 and marks<=60:\n",
    "    print(\"C grade\")\n",
    "elif marks>45 and marks<=50:\n",
    "    print(\"D grade\")\n",
    "elif marks>25 and marks<=45:\n",
    "    print('E grade')\n",
    "elif marks<25:\n",
    "    print(\"F grade\")\n",
    "# else:\n",
    "#     print(\"invalid input\")"
   ]
  },
  {
   "cell_type": "code",
   "execution_count": 23,
   "id": "ba3d62ee",
   "metadata": {},
   "outputs": [
    {
     "name": "stdout",
     "output_type": "stream",
     "text": [
      "Enter the class held60\n",
      "Enter the class attend54\n",
      "90.0\n",
      "Allowed\n"
     ]
    }
   ],
   "source": [
    "num_of_class_held = int(input(\"Enter the class held\"))\n",
    "num_of_class_attend = int(input(\"Enter the class attend\"))\n",
    "per = num_of_class_attend*100/num_of_class_held\n",
    "print(per)\n",
    "if per>75:\n",
    "    print(\"Allowed\")\n",
    "else:\n",
    "    print(\"Not Allowed\")"
   ]
  },
  {
   "cell_type": "code",
   "execution_count": 25,
   "id": "16949688",
   "metadata": {},
   "outputs": [
    {
     "name": "stdout",
     "output_type": "stream",
     "text": [
      "Enter the no. of classes held100\n",
      "Enter the no. of class attended23\n",
      "Enter True or FalseTrue\n",
      "23.0\n",
      "Not Allowed\n"
     ]
    }
   ],
   "source": [
    "cls_held=int(input(\"Enter the no. of classes held\"))\n",
    "attendence=int(input(\"Enter the no. of class attended\"))\n",
    "medical_cause=input(\"Enter True or False\")\n",
    "percentage=attendence*100/cls_held\n",
    "print(percentage)\n",
    "if percentage>=75:\n",
    "    print(\"Allowed\")\n",
    "elif percentage<=75 and medical_cause==True:\n",
    "    print(\"Allowed\")\n",
    "else:\n",
    "    print(\"Not Allowed\")"
   ]
  },
  {
   "cell_type": "code",
   "execution_count": 35,
   "id": "f82e7426",
   "metadata": {},
   "outputs": [
    {
     "name": "stdout",
     "output_type": "stream",
     "text": [
      "Enter the class held100\n",
      "Enter the class attend5\n",
      "5.0\n",
      "Not Allowed\n",
      "Do you have any medical condition?yes\n",
      "Allowed\n"
     ]
    }
   ],
   "source": [
    "num_of_class_held = int(input(\"Enter the class held\"))\n",
    "num_of_class_attend = int(input(\"Enter the class attend\"))\n",
    "per = num_of_class_attend*100/num_of_class_held\n",
    "print(per)\n",
    "if per>75:\n",
    "    print(\"Allowed\")\n",
    "elif per <75:\n",
    "    print(\"Not Allowed\")\n",
    "    con = input(\"Do you have any medical condition?\")\n",
    "    if con =='yes':\n",
    "        print(\"Allowed\")\n",
    "    else:\n",
    "        print(\"Not allowed\")\n",
    "    "
   ]
  },
  {
   "cell_type": "code",
   "execution_count": null,
   "id": "34e95474",
   "metadata": {},
   "outputs": [],
   "source": []
  }
 ],
 "metadata": {
  "kernelspec": {
   "display_name": "Python 3 (ipykernel)",
   "language": "python",
   "name": "python3"
  },
  "language_info": {
   "codemirror_mode": {
    "name": "ipython",
    "version": 3
   },
   "file_extension": ".py",
   "mimetype": "text/x-python",
   "name": "python",
   "nbconvert_exporter": "python",
   "pygments_lexer": "ipython3",
   "version": "3.9.7"
  }
 },
 "nbformat": 4,
 "nbformat_minor": 5
}
