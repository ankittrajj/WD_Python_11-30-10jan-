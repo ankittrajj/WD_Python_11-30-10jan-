{
 "cells": [
  {
   "cell_type": "code",
   "execution_count": 35,
   "id": "b8f7114a",
   "metadata": {},
   "outputs": [
    {
     "name": "stdout",
     "output_type": "stream",
     "text": [
      "Total salary => 240000\n",
      "Reduced salary=> 12000.0\n"
     ]
    },
    {
     "data": {
      "text/plain": [
       "228000.0"
      ]
     },
     "execution_count": 35,
     "metadata": {},
     "output_type": "execute_result"
    }
   ],
   "source": [
    "# wap and make a class of emp and try to inherit the common properties\n",
    "# from  the emp and try to find the salary of emp if the emp take more\n",
    "# than 12 holidays total salary will deducted by 5% and if the emp take 0 \n",
    "# holiday\n",
    "# then salary will be bonus by 7 % and also if a emp take atleast 6 holiday\n",
    "# then 2% of the salary is given to the emp.\n",
    "\n",
    "class emp1:\n",
    "    def __init__(self,name,age,salary):\n",
    "        self.name= name\n",
    "        self.age = age\n",
    "        self.salary = salary\n",
    "\n",
    "class emp2(emp1):\n",
    "    def __init__(self,name,age,salary,empid,bloodGroup):\n",
    "        super().__init__(name,age,salary)\n",
    "#         emp1.__init__(self,name,age,salary)\n",
    "        self.empid=empid\n",
    "        self.bloodGroup = bloodGroup\n",
    "#         self.monthly_sal=monthly_sal\n",
    "        \n",
    "    def total_sal(self,monthly_sal,holiday):\n",
    "        total_salary = monthly_sal*12 \n",
    "        print(\"Total salary =>\",total_salary)\n",
    "        if holiday > 12:\n",
    "            deduction = (total_salary*5)/100\n",
    "            print(\"Reduced salary=>\",deduction)\n",
    "            deducted_sal_recieved = total_salary-deduction\n",
    "            return deducted_sal_recieved\n",
    "        \n",
    "e = emp2('Bhillu',5,1,101,34)\n",
    "# e.bloodGroup\n",
    "e.total_sal(20000,20)\n",
    "# # e.monthly_sal"
   ]
  },
  {
   "cell_type": "code",
   "execution_count": 22,
   "id": "ddaac802",
   "metadata": {},
   "outputs": [
    {
     "data": {
      "text/plain": [
       "'Bhillu'"
      ]
     },
     "execution_count": 22,
     "metadata": {},
     "output_type": "execute_result"
    }
   ],
   "source": [
    "e.name"
   ]
  },
  {
   "cell_type": "code",
   "execution_count": 23,
   "id": "70ba1d99",
   "metadata": {},
   "outputs": [
    {
     "data": {
      "text/plain": [
       "1"
      ]
     },
     "execution_count": 23,
     "metadata": {},
     "output_type": "execute_result"
    }
   ],
   "source": [
    "e.salary"
   ]
  },
  {
   "cell_type": "code",
   "execution_count": 39,
   "id": "5cf706bd",
   "metadata": {},
   "outputs": [
    {
     "name": "stdout",
     "output_type": "stream",
     "text": [
      "Total salary => 240000\n",
      "Bonus----> 4800.0\n",
      "Salary after bonus 244800.0\n"
     ]
    }
   ],
   "source": [
    "# wap and make a class of emp and try to inherit the common properties\n",
    "# from  the emp and try to find the salary of emp if the emp take more\n",
    "# than 12 holidays total salary will deducted by 5% and if the emp take 0 \n",
    "# holiday\n",
    "# then salary will be bonus by 7 % and also if a emp take atmost 6 holiday\n",
    "# then 2% of the salary is given to the emp.\n",
    "\n",
    "class emp1:\n",
    "    def __init__(self,name,age,salary):\n",
    "        self.name= name\n",
    "        self.age = age\n",
    "        self.salary = salary\n",
    "\n",
    "class emp2(emp1):\n",
    "    def __init__(self,name,age,salary,empid,bloodGroup):\n",
    "        super().__init__(name,age,salary)\n",
    "#         emp1.__init__(self,name,age,salary)\n",
    "        self.empid=empid\n",
    "        self.bloodGroup = bloodGroup\n",
    "        \n",
    "    def total_sal(self,monthly_sal,holiday):\n",
    "        total_salary = monthly_sal*12 \n",
    "        print(\"Total salary =>\",total_salary)\n",
    "        if holiday > 12:\n",
    "            deduction = (total_salary*5)/100\n",
    "            print(\"Reduced salary=>\",deduction)\n",
    "            deducted_sal_recieved = total_salary-deduction\n",
    "            return deducted_sal_recieved\n",
    "        elif holiday == 0 :\n",
    "            bonus = (total_salary*7)/100\n",
    "            print(\"Bonus---->\",bonus)\n",
    "            bonus_tota_sal = total_salary+bonus\n",
    "            print(\"Salary after bonus\",bonus_tota_sal)\n",
    "        \n",
    "        elif holiday<=6:\n",
    "            low_bonus = (total_salary*2)/100\n",
    "            print(\"Bonus---->\",low_bonus)\n",
    "            low_bonus_tota_sal = total_salary+low_bonus\n",
    "            print(\"Salary after bonus\",low_bonus_tota_sal)\n",
    "         \n",
    "            \n",
    "        \n",
    "e = emp2('Bhillu',5,1,101,34)\n",
    "e.total_sal(20000,2)"
   ]
  },
  {
   "cell_type": "code",
   "execution_count": 42,
   "id": "0adfe778",
   "metadata": {},
   "outputs": [
    {
     "name": "stdout",
     "output_type": "stream",
     "text": [
      "80\n"
     ]
    }
   ],
   "source": [
    "#wap to make a class and inherit the property of transport class like\n",
    "# color,milage,and speed also a child class which is having no unique property\n",
    "# to display.\n",
    "\n",
    "#wap to make a class of having no properties,attribute or method(empty class)\n",
    "# just try to \n",
    "# make the object of the empty class and try to get the output of the code.\n",
    "\n",
    "#wap and try to get the attributes of the particular class through the object.\n",
    "\n",
    "class transport:\n",
    "    def __init__(self,color,mileage,speed):\n",
    "        self.color=color\n",
    "        self.mileage=mileage\n",
    "        self.speed=speed\n",
    "class vehicle(transport):\n",
    "        pass;\n",
    "        \n",
    "v=vehicle('black',230,80)\n",
    "print(v.speed)"
   ]
  },
  {
   "cell_type": "code",
   "execution_count": 45,
   "id": "1243f97b",
   "metadata": {},
   "outputs": [
    {
     "name": "stdout",
     "output_type": "stream",
     "text": [
      "<__main__.empty object at 0x00000237133AF5B0>\n"
     ]
    }
   ],
   "source": [
    "class empty:\n",
    "    pass\n",
    "e=empty()\n",
    "print(e)"
   ]
  },
  {
   "cell_type": "code",
   "execution_count": 46,
   "id": "7ee6306d",
   "metadata": {},
   "outputs": [
    {
     "data": {
      "text/plain": [
       "5"
      ]
     },
     "execution_count": 46,
     "metadata": {},
     "output_type": "execute_result"
    }
   ],
   "source": [
    "class adil:\n",
    "    def bhai(self,a,b):\n",
    "#         a=\"Mai hu Adil Cetpa ka Don no. 1\"\n",
    "        c = a+b\n",
    "        return c\n",
    "    \n",
    "a = adil()\n",
    "a.bhai(2,3)"
   ]
  },
  {
   "cell_type": "code",
   "execution_count": 47,
   "id": "4c469554",
   "metadata": {},
   "outputs": [
    {
     "data": {
      "text/plain": [
       "'Mai hu Adil Cetpa ka Don no. 1koi shak'"
      ]
     },
     "execution_count": 47,
     "metadata": {},
     "output_type": "execute_result"
    }
   ],
   "source": [
    "class adil:\n",
    "    def bhai(self):\n",
    "        a=\"Mai hu Adil Cetpa ka Don no. 1\"\n",
    "        b='koi shak'\n",
    "        c = a+b\n",
    "        return c\n",
    "    \n",
    "a = adil()\n",
    "a.bhai()"
   ]
  },
  {
   "cell_type": "code",
   "execution_count": null,
   "id": "bb202a54",
   "metadata": {},
   "outputs": [],
   "source": []
  }
 ],
 "metadata": {
  "kernelspec": {
   "display_name": "Python 3 (ipykernel)",
   "language": "python",
   "name": "python3"
  },
  "language_info": {
   "codemirror_mode": {
    "name": "ipython",
    "version": 3
   },
   "file_extension": ".py",
   "mimetype": "text/x-python",
   "name": "python",
   "nbconvert_exporter": "python",
   "pygments_lexer": "ipython3",
   "version": "3.9.7"
  }
 },
 "nbformat": 4,
 "nbformat_minor": 5
}
