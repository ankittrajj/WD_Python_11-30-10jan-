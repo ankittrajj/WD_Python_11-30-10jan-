{
 "cells": [
  {
   "cell_type": "code",
   "execution_count": 5,
   "id": "214ce38d",
   "metadata": {},
   "outputs": [
    {
     "data": {
      "text/plain": [
       "10"
      ]
     },
     "execution_count": 5,
     "metadata": {},
     "output_type": "execute_result"
    }
   ],
   "source": [
    "# 1.wap make your parent class as empty class and also try to make a normal class\n",
    "# having some attributes related to students and try to find out the average\n",
    "# marks \n",
    "# of the student through the function itself and try to get the output of the \n",
    "# empty parent class normal class and the child class. \n",
    "\n",
    "\n",
    "# 2. wap and a class which is having some variables as their attributes and try to \n",
    "# get the outpput from the code without using function & constructor.\n",
    "\n",
    "class add:\n",
    "    a=9\n",
    "    b=1\n",
    "    result = a+b\n",
    "#     print(result)\n",
    "    \n",
    "x = add()\n",
    "x.result\n",
    "# x.a\n"
   ]
  },
  {
   "cell_type": "code",
   "execution_count": null,
   "id": "ad21420b",
   "metadata": {},
   "outputs": [],
   "source": [
    "# 1.wap make your parent class as empty class and also try to make a normal class\n",
    "# having some attributes related to students and try to find out the average\n",
    "# marks \n",
    "# of the student through the function itself and try to get the output of the \n",
    "# empty parent class normal class and the child class. \n",
    "\n",
    "class student:\n",
    "    pass\n",
    "\n",
    "class student2(student):\n",
    "    sub1=0\n",
    "    sub2=0\n",
    "    sub3=0\n",
    "    def detail(self,sub1,sub2,sub3):\n",
    "        student2.sub1=sub1\n",
    "        student2.sub2=sub2\n",
    "        student2.sub3 = sub3\n",
    "        \n",
    "class student3(student2):\n",
    "    def detail2(self,name):\n",
    "        print(name)\n",
    "        \n",
    "    def avg_marks(self):\n",
    "        average = (student2.sub1+student2.sub2+student2.sub3)/3\n",
    "        print(average)\n",
    "        \n",
    "        \n",
    "s = student3()\n",
    "# s.detail(1,2,3)\n",
    "# s.avg_marks()\n",
    "s.detail2(\"A\")"
   ]
  },
  {
   "cell_type": "markdown",
   "id": "36e0c4a0",
   "metadata": {},
   "source": [
    "# Polymorphism-----> same work with different approach"
   ]
  },
  {
   "cell_type": "code",
   "execution_count": 18,
   "id": "aa28890f",
   "metadata": {},
   "outputs": [
    {
     "data": {
      "text/plain": [
       "19"
      ]
     },
     "execution_count": 18,
     "metadata": {},
     "output_type": "execute_result"
    }
   ],
   "source": [
    "a=10\n",
    "b=9\n",
    "a+b"
   ]
  },
  {
   "cell_type": "code",
   "execution_count": 19,
   "id": "3d815701",
   "metadata": {},
   "outputs": [
    {
     "data": {
      "text/plain": [
       "'109'"
      ]
     },
     "execution_count": 19,
     "metadata": {},
     "output_type": "execute_result"
    }
   ],
   "source": [
    "a='10'\n",
    "b='9'\n",
    "a+b"
   ]
  },
  {
   "cell_type": "code",
   "execution_count": 20,
   "id": "8edca7eb",
   "metadata": {},
   "outputs": [
    {
     "data": {
      "text/plain": [
       "10"
      ]
     },
     "execution_count": 20,
     "metadata": {},
     "output_type": "execute_result"
    }
   ],
   "source": [
    "class add:\n",
    "    a=1\n",
    "    b=9\n",
    "    result =a+b\n",
    "    \n",
    "a = add()\n",
    "a.result"
   ]
  },
  {
   "cell_type": "code",
   "execution_count": 21,
   "id": "aac7381b",
   "metadata": {},
   "outputs": [
    {
     "data": {
      "text/plain": [
       "'hellopoly'"
      ]
     },
     "execution_count": 21,
     "metadata": {},
     "output_type": "execute_result"
    }
   ],
   "source": [
    "class add:\n",
    "    a='hello'\n",
    "    b='poly'\n",
    "    result =a+b\n",
    "    \n",
    "a = add()\n",
    "a.result"
   ]
  },
  {
   "cell_type": "code",
   "execution_count": 32,
   "id": "cce221e9",
   "metadata": {},
   "outputs": [
    {
     "name": "stdout",
     "output_type": "stream",
     "text": [
      "1 2\n",
      "2 3\n",
      "100 0\n"
     ]
    }
   ],
   "source": [
    "#method ----->\n",
    "class hi:\n",
    "    def hello(self,a,b=0):\n",
    "        print(a,b)\n",
    "\n",
    "x = hi()\n",
    "    \n",
    "x.hello(1,2)\n",
    "x.hello(2,3)\n",
    "x.hello(100)"
   ]
  },
  {
   "cell_type": "code",
   "execution_count": 38,
   "id": "376618a8",
   "metadata": {},
   "outputs": [
    {
     "name": "stdout",
     "output_type": "stream",
     "text": [
      "car\n"
     ]
    }
   ],
   "source": [
    "# overriding------> same function + same no. of arguments.\n",
    "class x:\n",
    "    def car(self,a):\n",
    "        print(\"Bike\",a)\n",
    "        \n",
    "    \n",
    "class y(x):\n",
    "    def car(self,a):\n",
    "        print('car')\n",
    "        \n",
    "o = y()\n",
    "o.car(1)"
   ]
  },
  {
   "cell_type": "code",
   "execution_count": null,
   "id": "dd0860f9",
   "metadata": {},
   "outputs": [],
   "source": [
    "#wap and try to make same function and try to perform add in the first function\n",
    "# and in second function try to perform multiply also make a object of these\n",
    "# classes and inherit class 1 from 2 and also get the output."
   ]
  }
 ],
 "metadata": {
  "kernelspec": {
   "display_name": "Python 3 (ipykernel)",
   "language": "python",
   "name": "python3"
  },
  "language_info": {
   "codemirror_mode": {
    "name": "ipython",
    "version": 3
   },
   "file_extension": ".py",
   "mimetype": "text/x-python",
   "name": "python",
   "nbconvert_exporter": "python",
   "pygments_lexer": "ipython3",
   "version": "3.9.7"
  }
 },
 "nbformat": 4,
 "nbformat_minor": 5
}
