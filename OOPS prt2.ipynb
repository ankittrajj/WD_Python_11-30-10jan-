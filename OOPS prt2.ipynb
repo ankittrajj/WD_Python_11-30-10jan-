{
 "cells": [
  {
   "cell_type": "code",
   "execution_count": 3,
   "id": "73cb2e1d",
   "metadata": {},
   "outputs": [
    {
     "name": "stdout",
     "output_type": "stream",
     "text": [
      "Add---> 15 Minus= 5 Multiply= 50 2.0 0\n"
     ]
    }
   ],
   "source": [
    "# Wap to make a class of simplification and use +,-,/,*,% operator \n",
    "# to calucalte the values of the properties.\n",
    "\n",
    "# Wap to make a class of car and find its total cost,where basic \n",
    "# price is 2000000  tax is 20% and on road price is \n",
    "# increased by 17%.\n",
    "\n",
    "class simplify:\n",
    "    def airth(self,a,b):\n",
    "        add = a+b\n",
    "        minus = a-b\n",
    "        mul = a*b\n",
    "        div = a/b\n",
    "        m = a%b\n",
    "        print(\"Add--->\",add,\"Minus=\",minus,\"Multiply=\",mul,div,m)\n",
    "        \n",
    "s = simplify()\n",
    "s.airth(10,5)"
   ]
  },
  {
   "cell_type": "code",
   "execution_count": 4,
   "id": "9673c864",
   "metadata": {},
   "outputs": [
    {
     "data": {
      "text/plain": [
       "2740000.0"
      ]
     },
     "execution_count": 4,
     "metadata": {},
     "output_type": "execute_result"
    }
   ],
   "source": [
    "# Wap to make a class of car and find its total cost,where basic \n",
    "# price is 2000000  tax is 20% and on road price is \n",
    "# increased by 17%.\n",
    "class car:\n",
    "    def car_price(self,basic_price=2000000):\n",
    "        tax_cal = (basic_price*20)/100\n",
    "        road_price = (basic_price*17)/100\n",
    "        total_price = tax_cal+road_price+basic_price\n",
    "        return total_price\n",
    "c = car()\n",
    "c.car_price()\n",
    "        "
   ]
  },
  {
   "cell_type": "code",
   "execution_count": 8,
   "id": "842ed645",
   "metadata": {},
   "outputs": [
    {
     "data": {
      "text/plain": [
       "45"
      ]
     },
     "execution_count": 8,
     "metadata": {},
     "output_type": "execute_result"
    }
   ],
   "source": [
    "#constructor----->\n",
    "class student:\n",
    "#     constructor method\n",
    "    def __init__(self,name,age):\n",
    "        self.name = name\n",
    "        self.age = age\n",
    "        \n",
    "s = student('abc',45)\n",
    "s.name\n",
    "s.age\n"
   ]
  },
  {
   "cell_type": "code",
   "execution_count": 6,
   "id": "321a991e",
   "metadata": {},
   "outputs": [
    {
     "data": {
      "text/plain": [
       "45"
      ]
     },
     "execution_count": 6,
     "metadata": {},
     "output_type": "execute_result"
    }
   ],
   "source": [
    "s.age"
   ]
  },
  {
   "cell_type": "code",
   "execution_count": 19,
   "id": "4ca32cae",
   "metadata": {},
   "outputs": [],
   "source": [
    "#empl\n",
    "class emp:\n",
    "    def __init__(self,lname,age,salary):\n",
    "        self.lname = lname\n",
    "        self.age=age\n",
    "        self.salary = salary\n",
    "\n",
    "Sandeep = emp('Singh',34,2)\n",
    "mahesh = emp('kumar',23,-90)\n"
   ]
  },
  {
   "cell_type": "code",
   "execution_count": 22,
   "id": "3ed01aac",
   "metadata": {},
   "outputs": [
    {
     "data": {
      "text/plain": [
       "24"
      ]
     },
     "execution_count": 22,
     "metadata": {},
     "output_type": "execute_result"
    }
   ],
   "source": [
    "class emp:\n",
    "    def __init__(self,lname,age,salary):\n",
    "        self.lname = lname\n",
    "        self.age=age\n",
    "        self.salary = salary\n",
    "        \n",
    "    def total_sal(self):\n",
    "        t_sal = self.salary*12\n",
    "        return t_sal\n",
    "\n",
    "Sandeep = emp('Singh',34,2)\n",
    "mahesh = emp('kumar',23,-90)\n",
    "\n",
    "Sandeep.total_sal()"
   ]
  },
  {
   "cell_type": "code",
   "execution_count": 30,
   "id": "52bab5a0",
   "metadata": {},
   "outputs": [
    {
     "data": {
      "text/plain": [
       "24"
      ]
     },
     "execution_count": 30,
     "metadata": {},
     "output_type": "execute_result"
    }
   ],
   "source": [
    "class emp:\n",
    "    def __init__(self,lname,age,salary):\n",
    "        self.lname = lname\n",
    "        self.age=age\n",
    "        self.salary = salary\n",
    "        \n",
    "#         function\n",
    "    def total_sal(self):\n",
    "        t_sal = self.salary*12\n",
    "        return t_sal\n",
    "        \n",
    "sandeep = emp('Singh',34,2)\n",
    "mahesh = emp('kumar',23,-90)\n",
    "sandeep.total_sal()"
   ]
  },
  {
   "cell_type": "code",
   "execution_count": 16,
   "id": "b14b0918",
   "metadata": {},
   "outputs": [
    {
     "data": {
      "text/plain": [
       "-90"
      ]
     },
     "execution_count": 16,
     "metadata": {},
     "output_type": "execute_result"
    }
   ],
   "source": [
    "#wap to make empty class with its objects.\n",
    "\n",
    "# Wap to make a class of employee and claculate its per year\n",
    "# salary. Monthly salary is ----> 20000.\n",
    "\n",
    "# Wap to make a class of simplification and use +,-,/,*,% operator \n",
    "# to calucalte the values of the properties.\n",
    "\n",
    "# Wap to make a class of car and find its total cost,where basic \n",
    "# price is 2000000  tax is 20% and on road price is \n",
    "# increased by 17%."
   ]
  },
  {
   "cell_type": "code",
   "execution_count": 40,
   "id": "06a354bd",
   "metadata": {},
   "outputs": [
    {
     "ename": "AttributeError",
     "evalue": "type object 'emp' has no attribute 'total_sal'",
     "output_type": "error",
     "traceback": [
      "\u001b[1;31m---------------------------------------------------------------------------\u001b[0m",
      "\u001b[1;31mAttributeError\u001b[0m                            Traceback (most recent call last)",
      "\u001b[1;32m~\\AppData\\Local\\Temp/ipykernel_5504/968478630.py\u001b[0m in \u001b[0;36m<module>\u001b[1;34m\u001b[0m\n\u001b[0;32m     10\u001b[0m             \u001b[1;32mreturn\u001b[0m \u001b[0mt_sal\u001b[0m\u001b[1;33m\u001b[0m\u001b[1;33m\u001b[0m\u001b[0m\n\u001b[0;32m     11\u001b[0m \u001b[1;33m\u001b[0m\u001b[0m\n\u001b[1;32m---> 12\u001b[1;33m \u001b[0msandeep\u001b[0m \u001b[1;33m=\u001b[0m \u001b[0memp\u001b[0m\u001b[1;33m(\u001b[0m\u001b[1;34m'Singh'\u001b[0m\u001b[1;33m,\u001b[0m\u001b[1;36m34\u001b[0m\u001b[1;33m,\u001b[0m\u001b[1;36m2\u001b[0m\u001b[1;33m,\u001b[0m\u001b[0memp\u001b[0m\u001b[1;33m.\u001b[0m\u001b[0mtotal_sal\u001b[0m\u001b[1;33m(\u001b[0m\u001b[1;36m12\u001b[0m\u001b[1;33m)\u001b[0m\u001b[1;33m)\u001b[0m\u001b[1;33m\u001b[0m\u001b[1;33m\u001b[0m\u001b[0m\n\u001b[0m\u001b[0;32m     13\u001b[0m \u001b[0mmahesh\u001b[0m \u001b[1;33m=\u001b[0m \u001b[0memp\u001b[0m\u001b[1;33m(\u001b[0m\u001b[1;34m'kumar'\u001b[0m\u001b[1;33m,\u001b[0m\u001b[1;36m23\u001b[0m\u001b[1;33m,\u001b[0m\u001b[1;33m-\u001b[0m\u001b[1;36m90\u001b[0m\u001b[1;33m)\u001b[0m\u001b[1;33m\u001b[0m\u001b[1;33m\u001b[0m\u001b[0m\n\u001b[0;32m     14\u001b[0m \u001b[1;31m# sandeep=emp()\u001b[0m\u001b[1;33m\u001b[0m\u001b[1;33m\u001b[0m\u001b[0m\n",
      "\u001b[1;31mAttributeError\u001b[0m: type object 'emp' has no attribute 'total_sal'"
     ]
    }
   ],
   "source": [
    "class emp:\n",
    "    def __init__(self,lname,age,salary):\n",
    "        self.lname = lname\n",
    "        self.age=age\n",
    "        self.salary = salary\n",
    "        \n",
    "#         function\n",
    "        def total_sal(self):\n",
    "            t_sal = salary*12\n",
    "            return t_sal\n",
    "        \n",
    "sandeep = emp('Singh',34,2,emp.total_sal(12))\n",
    "mahesh = emp('kumar',23,-90)\n",
    "# sandeep=emp()\n",
    "sandeep.total_sal()"
   ]
  },
  {
   "cell_type": "code",
   "execution_count": null,
   "id": "3aab72b8",
   "metadata": {},
   "outputs": [],
   "source": []
  },
  {
   "cell_type": "code",
   "execution_count": null,
   "id": "578c1aaa",
   "metadata": {},
   "outputs": [],
   "source": []
  },
  {
   "cell_type": "code",
   "execution_count": null,
   "id": "986fea56",
   "metadata": {},
   "outputs": [],
   "source": []
  },
  {
   "cell_type": "code",
   "execution_count": null,
   "id": "399018a6",
   "metadata": {},
   "outputs": [],
   "source": []
  },
  {
   "cell_type": "code",
   "execution_count": null,
   "id": "067c9362",
   "metadata": {},
   "outputs": [],
   "source": []
  },
  {
   "cell_type": "code",
   "execution_count": null,
   "id": "5d9b2200",
   "metadata": {},
   "outputs": [],
   "source": []
  },
  {
   "cell_type": "code",
   "execution_count": null,
   "id": "a825a636",
   "metadata": {},
   "outputs": [],
   "source": []
  },
  {
   "cell_type": "code",
   "execution_count": null,
   "id": "582bd0b8",
   "metadata": {},
   "outputs": [],
   "source": []
  },
  {
   "cell_type": "code",
   "execution_count": null,
   "id": "82379c18",
   "metadata": {},
   "outputs": [],
   "source": []
  },
  {
   "cell_type": "code",
   "execution_count": null,
   "id": "53376595",
   "metadata": {},
   "outputs": [],
   "source": []
  },
  {
   "cell_type": "code",
   "execution_count": 18,
   "id": "976978be",
   "metadata": {},
   "outputs": [
    {
     "data": {
      "text/plain": [
       "2"
      ]
     },
     "execution_count": 18,
     "metadata": {},
     "output_type": "execute_result"
    }
   ],
   "source": [
    "Sandeep.salary"
   ]
  },
  {
   "cell_type": "code",
   "execution_count": 11,
   "id": "72d5ecb2",
   "metadata": {},
   "outputs": [
    {
     "data": {
      "text/plain": [
       "34"
      ]
     },
     "execution_count": 11,
     "metadata": {},
     "output_type": "execute_result"
    }
   ],
   "source": [
    "Sandeep.age"
   ]
  },
  {
   "cell_type": "code",
   "execution_count": 12,
   "id": "8c650fce",
   "metadata": {},
   "outputs": [
    {
     "data": {
      "text/plain": [
       "'Singh'"
      ]
     },
     "execution_count": 12,
     "metadata": {},
     "output_type": "execute_result"
    }
   ],
   "source": [
    "Sandeep.lname"
   ]
  },
  {
   "cell_type": "code",
   "execution_count": null,
   "id": "04418c5f",
   "metadata": {},
   "outputs": [],
   "source": []
  }
 ],
 "metadata": {
  "kernelspec": {
   "display_name": "Python 3 (ipykernel)",
   "language": "python",
   "name": "python3"
  },
  "language_info": {
   "codemirror_mode": {
    "name": "ipython",
    "version": 3
   },
   "file_extension": ".py",
   "mimetype": "text/x-python",
   "name": "python",
   "nbconvert_exporter": "python",
   "pygments_lexer": "ipython3",
   "version": "3.9.7"
  }
 },
 "nbformat": 4,
 "nbformat_minor": 5
}
