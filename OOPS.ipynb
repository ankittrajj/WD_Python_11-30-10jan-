{
 "cells": [
  {
   "cell_type": "code",
   "execution_count": 2,
   "id": "3f9aab43",
   "metadata": {},
   "outputs": [
    {
     "name": "stdout",
     "output_type": "stream",
     "text": [
      "I am a student\n"
     ]
    }
   ],
   "source": [
    "# oops---->object oriented prog. str.\n",
    "#how to make a class.\n",
    "\n",
    "class student:\n",
    "    print('I am a student')\n",
    "    \n",
    "s = student()"
   ]
  },
  {
   "cell_type": "code",
   "execution_count": 13,
   "id": "3d104ad7",
   "metadata": {},
   "outputs": [
    {
     "name": "stdout",
     "output_type": "stream",
     "text": [
      "23\n",
      "34\n"
     ]
    }
   ],
   "source": [
    "# student class\n",
    "class student:\n",
    "    def detail(self,name,age):\n",
    "        print(name)\n",
    "        print(age)\n",
    "        \n",
    "        \n",
    "# make a obj of class\n",
    "x=student()\n",
    "x.detail(23,34)\n",
    "\n",
    "    "
   ]
  },
  {
   "cell_type": "code",
   "execution_count": 23,
   "id": "9a43529e",
   "metadata": {},
   "outputs": [
    {
     "name": "stdout",
     "output_type": "stream",
     "text": [
      "my first topic of python is :-- english\n",
      "my second topic of python is :-- hindi\n"
     ]
    }
   ],
   "source": [
    "class python:\n",
    "    def topic(self,topic1,topic2):\n",
    "        print(\"my first topic of python is :--\",topic1)\n",
    "        print(\"my second topic of python is :--\",topic2)\n",
    "\n",
    "x = python()\n",
    "x.topic('english','hindi')"
   ]
  },
  {
   "cell_type": "code",
   "execution_count": 22,
   "id": "cc43f333",
   "metadata": {},
   "outputs": [
    {
     "name": "stdout",
     "output_type": "stream",
     "text": [
      "23\n",
      "34\n"
     ]
    }
   ],
   "source": [
    "class student:\n",
    "    class student2:\n",
    "#     pass\n",
    "        def detail(self,name,age):\n",
    "            print(name)\n",
    "            print(age)\n",
    "\n",
    "# class student2\n",
    "        \n",
    "        \n",
    "# make a obj of class\n",
    "x = student.student2()\n",
    "x.detail(23,34)"
   ]
  },
  {
   "cell_type": "code",
   "execution_count": null,
   "id": "c83b3b3b",
   "metadata": {},
   "outputs": [],
   "source": [
    "#wap to make empty class with its objects.\n",
    "\n",
    "# Wap to make a class of employee and claculate its per year\n",
    "# salary. Monthly salary is ----> 20000.\n",
    "\n",
    "# Wap to make a class of simplification and use +,-,/,*,% operator \n",
    "# to calucalte the values of the properties.\n",
    "\n",
    "# Wap to make a class of car and find its total cost,where basic \n",
    "# price is 2000000  tax is 20% and on road price is \n",
    "# increased by 17%.\n"
   ]
  },
  {
   "cell_type": "code",
   "execution_count": null,
   "id": "51e31eb4",
   "metadata": {},
   "outputs": [],
   "source": []
  },
  {
   "cell_type": "code",
   "execution_count": null,
   "id": "b879b54f",
   "metadata": {},
   "outputs": [],
   "source": []
  },
  {
   "cell_type": "code",
   "execution_count": null,
   "id": "1de7b33b",
   "metadata": {},
   "outputs": [],
   "source": []
  },
  {
   "cell_type": "code",
   "execution_count": null,
   "id": "191efa0f",
   "metadata": {},
   "outputs": [],
   "source": []
  },
  {
   "cell_type": "code",
   "execution_count": null,
   "id": "dc1e8ada",
   "metadata": {},
   "outputs": [],
   "source": []
  },
  {
   "cell_type": "code",
   "execution_count": null,
   "id": "59b3b149",
   "metadata": {},
   "outputs": [],
   "source": []
  }
 ],
 "metadata": {
  "kernelspec": {
   "display_name": "Python 3 (ipykernel)",
   "language": "python",
   "name": "python3"
  },
  "language_info": {
   "codemirror_mode": {
    "name": "ipython",
    "version": 3
   },
   "file_extension": ".py",
   "mimetype": "text/x-python",
   "name": "python",
   "nbconvert_exporter": "python",
   "pygments_lexer": "ipython3",
   "version": "3.9.7"
  }
 },
 "nbformat": 4,
 "nbformat_minor": 5
}
