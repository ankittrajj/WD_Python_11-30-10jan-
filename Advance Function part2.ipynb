{
 "cells": [
  {
   "cell_type": "code",
   "execution_count": 1,
   "id": "9af65088",
   "metadata": {},
   "outputs": [
    {
     "data": {
      "text/plain": [
       "113"
      ]
     },
     "execution_count": 1,
     "metadata": {},
     "output_type": "execute_result"
    }
   ],
   "source": [
    "#lambda\n",
    "# filter-----> list/tuple\n",
    "# map------> list / tuple\n",
    "\n",
    "\n",
    "#reduce\n",
    "from functools import reduce\n",
    "a = [3,5,7,8,90]\n",
    "reduce(lambda x,y:x+y,a)\n"
   ]
  },
  {
   "cell_type": "code",
   "execution_count": 2,
   "id": "f56c03f3",
   "metadata": {},
   "outputs": [
    {
     "name": "stdout",
     "output_type": "stream",
     "text": [
      "113\n"
     ]
    }
   ],
   "source": [
    "a = [3,5,7,8,90]\n",
    "z = reduce(lambda x,y:x+y,a)\n",
    "print(z)"
   ]
  },
  {
   "cell_type": "code",
   "execution_count": 4,
   "id": "81b1671b",
   "metadata": {},
   "outputs": [
    {
     "data": {
      "text/plain": [
       "113"
      ]
     },
     "execution_count": 4,
     "metadata": {},
     "output_type": "execute_result"
    }
   ],
   "source": [
    "a = [3,5,7,8,90]\n",
    "def add(c,d):\n",
    "    result = c+d\n",
    "    return result\n",
    "\n",
    "reduce(add,a)\n",
    "    \n"
   ]
  },
  {
   "cell_type": "code",
   "execution_count": null,
   "id": "16c473d6",
   "metadata": {},
   "outputs": [],
   "source": []
  }
 ],
 "metadata": {
  "kernelspec": {
   "display_name": "Python 3 (ipykernel)",
   "language": "python",
   "name": "python3"
  },
  "language_info": {
   "codemirror_mode": {
    "name": "ipython",
    "version": 3
   },
   "file_extension": ".py",
   "mimetype": "text/x-python",
   "name": "python",
   "nbconvert_exporter": "python",
   "pygments_lexer": "ipython3",
   "version": "3.9.7"
  }
 },
 "nbformat": 4,
 "nbformat_minor": 5
}
