{
 "cells": [
  {
   "cell_type": "code",
   "execution_count": 3,
   "id": "fe023170",
   "metadata": {},
   "outputs": [
    {
     "ename": "TypeError",
     "evalue": "Can't instantiate abstract class bro with abstract method me",
     "output_type": "error",
     "traceback": [
      "\u001b[1;31m---------------------------------------------------------------------------\u001b[0m",
      "\u001b[1;31mTypeError\u001b[0m                                 Traceback (most recent call last)",
      "\u001b[1;32m~\\AppData\\Local\\Temp/ipykernel_10880/1056394648.py\u001b[0m in \u001b[0;36m<module>\u001b[1;34m\u001b[0m\n\u001b[0;32m     13\u001b[0m         \u001b[0mprint\u001b[0m\u001b[1;33m(\u001b[0m\u001b[1;34m\"hello bhai\"\u001b[0m\u001b[1;33m)\u001b[0m\u001b[1;33m\u001b[0m\u001b[1;33m\u001b[0m\u001b[0m\n\u001b[0;32m     14\u001b[0m \u001b[1;33m\u001b[0m\u001b[0m\n\u001b[1;32m---> 15\u001b[1;33m \u001b[0mx\u001b[0m \u001b[1;33m=\u001b[0m \u001b[0mbro\u001b[0m\u001b[1;33m(\u001b[0m\u001b[1;33m)\u001b[0m\u001b[1;33m\u001b[0m\u001b[1;33m\u001b[0m\u001b[0m\n\u001b[0m\u001b[0;32m     16\u001b[0m \u001b[0mx\u001b[0m\u001b[1;33m.\u001b[0m\u001b[0mme\u001b[0m\u001b[1;33m(\u001b[0m\u001b[1;33m)\u001b[0m\u001b[1;33m\u001b[0m\u001b[1;33m\u001b[0m\u001b[0m\n",
      "\u001b[1;31mTypeError\u001b[0m: Can't instantiate abstract class bro with abstract method me"
     ]
    }
   ],
   "source": [
    "# abstraction---->\n",
    "\n",
    "\n",
    "from abc import ABC,abstractmethod\n",
    "class nitesh(ABC):\n",
    "    @abstractmethod\n",
    "    def me(self):\n",
    "        None\n",
    "#         print('hello')\n",
    "        \n",
    "class bro(nitesh):\n",
    "    def u(self):\n",
    "        print(\"hello bhai\")\n",
    "        \n",
    "x = bro()\n",
    "x.me()\n"
   ]
  },
  {
   "cell_type": "code",
   "execution_count": 9,
   "id": "fac90686",
   "metadata": {},
   "outputs": [
    {
     "ename": "TypeError",
     "evalue": "Can't instantiate abstract class b with abstract method add",
     "output_type": "error",
     "traceback": [
      "\u001b[1;31m---------------------------------------------------------------------------\u001b[0m",
      "\u001b[1;31mTypeError\u001b[0m                                 Traceback (most recent call last)",
      "\u001b[1;32m~\\AppData\\Local\\Temp/ipykernel_10880/2539601939.py\u001b[0m in \u001b[0;36m<module>\u001b[1;34m\u001b[0m\n\u001b[0;32m     16\u001b[0m         \u001b[0mprint\u001b[0m\u001b[1;33m(\u001b[0m\u001b[0mresult1\u001b[0m\u001b[1;33m)\u001b[0m\u001b[1;33m\u001b[0m\u001b[1;33m\u001b[0m\u001b[0m\n\u001b[0;32m     17\u001b[0m \u001b[1;33m\u001b[0m\u001b[0m\n\u001b[1;32m---> 18\u001b[1;33m \u001b[0ms\u001b[0m \u001b[1;33m=\u001b[0m \u001b[0mb\u001b[0m\u001b[1;33m(\u001b[0m\u001b[1;33m)\u001b[0m\u001b[1;33m\u001b[0m\u001b[1;33m\u001b[0m\u001b[0m\n\u001b[0m\u001b[0;32m     19\u001b[0m \u001b[0ms\u001b[0m\u001b[1;33m.\u001b[0m\u001b[0madd\u001b[0m\u001b[1;33m(\u001b[0m\u001b[1;33m)\u001b[0m\u001b[1;33m\u001b[0m\u001b[1;33m\u001b[0m\u001b[0m\n",
      "\u001b[1;31mTypeError\u001b[0m: Can't instantiate abstract class b with abstract method add"
     ]
    }
   ],
   "source": [
    "# Create a class with instance attribute.\n",
    "# Create a vechile class without any variable & method.\n",
    "# Create a child class but that all inherit all the variables & method of\n",
    "# the class.\n",
    "\n",
    "from abc import ABC,abstractmethod\n",
    "class a(ABC):\n",
    "#     @abstractmethod\n",
    "    def add(self):\n",
    "        None\n",
    "#         result = x+y\n",
    "#         print(result)\n",
    "        \n",
    "class b(a):\n",
    "    def mul(self,j,k):\n",
    "        result1=j*k\n",
    "        print(result1)\n",
    "        \n",
    "s = b()\n",
    "s.add()\n"
   ]
  },
  {
   "cell_type": "code",
   "execution_count": 10,
   "id": "b65caccc",
   "metadata": {},
   "outputs": [],
   "source": [
    "# Create a class with instance attribute.\n",
    "# Create a vechile class without any variable & method.\n",
    "# Create a child class but that all inherit all the variables & method of\n",
    "# the class."
   ]
  },
  {
   "cell_type": "code",
   "execution_count": 12,
   "id": "38a4e60a",
   "metadata": {},
   "outputs": [
    {
     "ename": "TypeError",
     "evalue": "Can't instantiate abstract class b with abstract method add",
     "output_type": "error",
     "traceback": [
      "\u001b[1;31m---------------------------------------------------------------------------\u001b[0m",
      "\u001b[1;31mTypeError\u001b[0m                                 Traceback (most recent call last)",
      "\u001b[1;32m~\\AppData\\Local\\Temp/ipykernel_10880/1168629697.py\u001b[0m in \u001b[0;36m<module>\u001b[1;34m\u001b[0m\n\u001b[0;32m     12\u001b[0m         \u001b[0mprint\u001b[0m\u001b[1;33m(\u001b[0m\u001b[0mresult1\u001b[0m\u001b[1;33m)\u001b[0m\u001b[1;33m\u001b[0m\u001b[1;33m\u001b[0m\u001b[0m\n\u001b[0;32m     13\u001b[0m \u001b[1;33m\u001b[0m\u001b[0m\n\u001b[1;32m---> 14\u001b[1;33m \u001b[0ms\u001b[0m \u001b[1;33m=\u001b[0m \u001b[0mb\u001b[0m\u001b[1;33m(\u001b[0m\u001b[1;33m)\u001b[0m\u001b[1;33m\u001b[0m\u001b[1;33m\u001b[0m\u001b[0m\n\u001b[0m\u001b[0;32m     15\u001b[0m \u001b[0ms\u001b[0m\u001b[1;33m.\u001b[0m\u001b[0madd\u001b[0m\u001b[1;33m(\u001b[0m\u001b[1;36m2\u001b[0m\u001b[1;33m,\u001b[0m\u001b[1;36m3\u001b[0m\u001b[1;33m)\u001b[0m\u001b[1;33m\u001b[0m\u001b[1;33m\u001b[0m\u001b[0m\n",
      "\u001b[1;31mTypeError\u001b[0m: Can't instantiate abstract class b with abstract method add"
     ]
    }
   ],
   "source": [
    "from abc import ABC,abstractmethod\n",
    "class a(ABC):\n",
    "    @abstractmethod\n",
    "    def add(self,x,y):\n",
    "#         None\n",
    "        result = x+y\n",
    "        print(result)\n",
    "        \n",
    "class b(a):\n",
    "    def mul(self,j,k):\n",
    "        result1=j*k\n",
    "        print(result1)\n",
    "        \n",
    "s = b()\n",
    "s.add(2,3)"
   ]
  },
  {
   "cell_type": "code",
   "execution_count": 13,
   "id": "7b92935b",
   "metadata": {},
   "outputs": [],
   "source": [
    "# 1.Create a class with instance attribute.\n",
    "# 2.Create a vechile class without any variable & method.\n",
    "# 3.Create a child class but that all inherit all the variables & method of\n",
    "# the class.\n",
    "#4.define a property that must have same value for every class instance object.\n",
    "# with the help of constructor make a multilevel inheritance with \n",
    "# the help of super method.\n",
    "# 5.Define polymorphism,with example."
   ]
  },
  {
   "cell_type": "code",
   "execution_count": 14,
   "id": "1533f6d6",
   "metadata": {},
   "outputs": [
    {
     "data": {
      "text/plain": [
       "5"
      ]
     },
     "execution_count": 14,
     "metadata": {},
     "output_type": "execute_result"
    }
   ],
   "source": [
    "# Lambda function----> one liner / anonymous function\n",
    "# add ---->\n",
    "# a+b\n",
    "# a+b+c,a-b\n",
    "\n",
    "def add(a,b):\n",
    "    result = a+b\n",
    "    return result\n",
    "\n",
    "add(2,3)\n",
    "    "
   ]
  },
  {
   "cell_type": "code",
   "execution_count": 15,
   "id": "fcae8122",
   "metadata": {},
   "outputs": [
    {
     "name": "stdout",
     "output_type": "stream",
     "text": [
      "5\n"
     ]
    }
   ],
   "source": [
    "#lambda\n",
    "x = lambda a,b:a+b\n",
    "print(x(2,3))"
   ]
  },
  {
   "cell_type": "code",
   "execution_count": 16,
   "id": "d1f75287",
   "metadata": {},
   "outputs": [
    {
     "data": {
      "text/plain": [
       "12"
      ]
     },
     "execution_count": 16,
     "metadata": {},
     "output_type": "execute_result"
    }
   ],
   "source": [
    "# lambda\n",
    "s = lambda a:a+10\n",
    "s(2)\n"
   ]
  },
  {
   "cell_type": "code",
   "execution_count": 17,
   "id": "9316c522",
   "metadata": {},
   "outputs": [
    {
     "data": {
      "text/plain": [
       "89"
      ]
     },
     "execution_count": 17,
     "metadata": {},
     "output_type": "execute_result"
    }
   ],
   "source": [
    "# with the help of lambda function try to solve these:-\n",
    "#wap to find the square of a num.\n",
    "#wap to find the max. of two numbers.\n",
    "# Wap to find the min of two numbers.\n",
    "# wap to and try to get the o/p of (a+b*c+d/e-f).\n",
    "\n",
    "#2\n",
    "d = lambda a,b:a if a>b else b \n",
    "d(23,89)"
   ]
  },
  {
   "cell_type": "code",
   "execution_count": 18,
   "id": "cb597f7f",
   "metadata": {},
   "outputs": [
    {
     "data": {
      "text/plain": [
       "1.7999999999999998"
      ]
     },
     "execution_count": 18,
     "metadata": {},
     "output_type": "execute_result"
    }
   ],
   "source": [
    "z = lambda a,b,c,d,e,f:a+b*c+d/e-f\n",
    "z(1,2,3,4,5,6)\n"
   ]
  },
  {
   "cell_type": "code",
   "execution_count": null,
   "id": "c057cfba",
   "metadata": {},
   "outputs": [],
   "source": [
    "#wap to find the cube of two numbers."
   ]
  }
 ],
 "metadata": {
  "kernelspec": {
   "display_name": "Python 3 (ipykernel)",
   "language": "python",
   "name": "python3"
  },
  "language_info": {
   "codemirror_mode": {
    "name": "ipython",
    "version": 3
   },
   "file_extension": ".py",
   "mimetype": "text/x-python",
   "name": "python",
   "nbconvert_exporter": "python",
   "pygments_lexer": "ipython3",
   "version": "3.9.7"
  }
 },
 "nbformat": 4,
 "nbformat_minor": 5
}
